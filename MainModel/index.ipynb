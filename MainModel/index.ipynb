{
 "cells": [
  {
   "cell_type": "markdown",
   "metadata": {},
   "source": [
    "# Load lib"
   ]
  },
  {
   "cell_type": "code",
   "execution_count": 1,
   "metadata": {},
   "outputs": [
    {
     "name": "stderr",
     "output_type": "stream",
     "text": [
      "\u001b[2mUsing Python 3.9.20 environment at: C:\\Users\\Zh4g3Z\\Desktop\\MLCrypto\\.venv\u001b[0m\n",
      "\u001b[2mAudited \u001b[1m6 packages\u001b[0m \u001b[2min 9ms\u001b[0m\u001b[0m\n",
      "\u001b[2mUsing Python 3.9.20 environment at: C:\\Users\\Zh4g3Z\\Desktop\\MLCrypto\\.venv\u001b[0m\n",
      "\u001b[2mAudited \u001b[1m3 packages\u001b[0m \u001b[2min 5ms\u001b[0m\u001b[0m\n"
     ]
    }
   ],
   "source": [
    "!uv     pip install pandas torch scikit-learn-intelex matplotlib plotly torchviz \n",
    "!uv pip install hiddenlayer networkx graphviz\n"
   ]
  },
  {
   "cell_type": "code",
   "execution_count": 29,
   "metadata": {},
   "outputs": [
    {
     "name": "stderr",
     "output_type": "stream",
     "text": [
      "Intel(R) Extension for Scikit-learn* enabled (https://github.com/intel/scikit-learn-intelex)\n"
     ]
    }
   ],
   "source": [
    "import pandas as pd\n",
    "import json\n",
    "import os\n",
    "from sklearnex import patch_sklearn\n",
    "patch_sklearn()\n",
    "from sklearn.metrics import classification_report\n",
    "import joblib\n",
    "import warnings\n",
    "warnings.filterwarnings(\"ignore\")\n",
    "from sklearn.metrics import classification_report, ConfusionMatrixDisplay\n",
    "import plotly.graph_objects as go\n",
    "import numpy as np\n",
    "import torch\n",
    "import torch.nn as nn\n",
    "from torch.utils.data import DataLoader, TensorDataset\n",
    "from sklearn.preprocessing import LabelEncoder\n",
    "from sklearn.model_selection import train_test_split"
   ]
  },
  {
   "cell_type": "markdown",
   "metadata": {},
   "source": [
    "# Load Data"
   ]
  },
  {
   "cell_type": "code",
   "execution_count": 3,
   "metadata": {},
   "outputs": [
    {
     "data": {
      "text/html": [
       "<div>\n",
       "<style scoped>\n",
       "    .dataframe tbody tr th:only-of-type {\n",
       "        vertical-align: middle;\n",
       "    }\n",
       "\n",
       "    .dataframe tbody tr th {\n",
       "        vertical-align: top;\n",
       "    }\n",
       "\n",
       "    .dataframe thead th {\n",
       "        text-align: right;\n",
       "    }\n",
       "</style>\n",
       "<table border=\"1\" class=\"dataframe\">\n",
       "  <thead>\n",
       "    <tr style=\"text-align: right;\">\n",
       "      <th></th>\n",
       "      <th>opcodes</th>\n",
       "      <th>label</th>\n",
       "    </tr>\n",
       "  </thead>\n",
       "  <tbody>\n",
       "    <tr>\n",
       "      <th>0</th>\n",
       "      <td>[PUSH1, PUSH1, MSTORE, CALLVALUE, ISZERO, PUSH...</td>\n",
       "      <td>reentrancy</td>\n",
       "    </tr>\n",
       "    <tr>\n",
       "      <th>1</th>\n",
       "      <td>[PUSH1, PUSH1, MSTORE, CALLVALUE, DUP1, ISZERO...</td>\n",
       "      <td>reentrancy</td>\n",
       "    </tr>\n",
       "    <tr>\n",
       "      <th>2</th>\n",
       "      <td>[PUSH1, PUSH1, MSTORE, CALLVALUE, DUP1, ISZERO...</td>\n",
       "      <td>reentrancy</td>\n",
       "    </tr>\n",
       "    <tr>\n",
       "      <th>3</th>\n",
       "      <td>[PUSH1, PUSH1, MSTORE, CALLVALUE, ISZERO, PUSH...</td>\n",
       "      <td>reentrancy</td>\n",
       "    </tr>\n",
       "    <tr>\n",
       "      <th>4</th>\n",
       "      <td>[PUSH1, PUSH1, MSTORE, CALLVALUE, ISZERO, PUSH...</td>\n",
       "      <td>reentrancy</td>\n",
       "    </tr>\n",
       "    <tr>\n",
       "      <th>...</th>\n",
       "      <td>...</td>\n",
       "      <td>...</td>\n",
       "    </tr>\n",
       "    <tr>\n",
       "      <th>42968</th>\n",
       "      <td>[PUSH1, PUSH1, MSTORE, PUSH1, CALLDATASIZE, LT...</td>\n",
       "      <td>clean</td>\n",
       "    </tr>\n",
       "    <tr>\n",
       "      <th>42969</th>\n",
       "      <td>[PUSH1, PUSH1, MSTORE, PUSH1, CALLDATASIZE, LT...</td>\n",
       "      <td>clean</td>\n",
       "    </tr>\n",
       "    <tr>\n",
       "      <th>42970</th>\n",
       "      <td>[PUSH1, PUSH1, MSTORE, PUSH1, CALLDATASIZE, LT...</td>\n",
       "      <td>clean</td>\n",
       "    </tr>\n",
       "    <tr>\n",
       "      <th>42971</th>\n",
       "      <td>[PUSH20, ADDRESS, EQ, PUSH1, PUSH1, MSTORE, PU...</td>\n",
       "      <td>clean</td>\n",
       "    </tr>\n",
       "    <tr>\n",
       "      <th>42972</th>\n",
       "      <td>[PUSH1, PUSH1, MSTORE, PUSH1, CALLDATALOAD, PU...</td>\n",
       "      <td>clean</td>\n",
       "    </tr>\n",
       "  </tbody>\n",
       "</table>\n",
       "<p>42973 rows × 2 columns</p>\n",
       "</div>"
      ],
      "text/plain": [
       "                                                 opcodes       label\n",
       "0      [PUSH1, PUSH1, MSTORE, CALLVALUE, ISZERO, PUSH...  reentrancy\n",
       "1      [PUSH1, PUSH1, MSTORE, CALLVALUE, DUP1, ISZERO...  reentrancy\n",
       "2      [PUSH1, PUSH1, MSTORE, CALLVALUE, DUP1, ISZERO...  reentrancy\n",
       "3      [PUSH1, PUSH1, MSTORE, CALLVALUE, ISZERO, PUSH...  reentrancy\n",
       "4      [PUSH1, PUSH1, MSTORE, CALLVALUE, ISZERO, PUSH...  reentrancy\n",
       "...                                                  ...         ...\n",
       "42968  [PUSH1, PUSH1, MSTORE, PUSH1, CALLDATASIZE, LT...       clean\n",
       "42969  [PUSH1, PUSH1, MSTORE, PUSH1, CALLDATASIZE, LT...       clean\n",
       "42970  [PUSH1, PUSH1, MSTORE, PUSH1, CALLDATASIZE, LT...       clean\n",
       "42971  [PUSH20, ADDRESS, EQ, PUSH1, PUSH1, MSTORE, PU...       clean\n",
       "42972  [PUSH1, PUSH1, MSTORE, PUSH1, CALLDATALOAD, PU...       clean\n",
       "\n",
       "[42973 rows x 2 columns]"
      ]
     },
     "execution_count": 3,
     "metadata": {},
     "output_type": "execute_result"
    }
   ],
   "source": [
    "DATAPATH = [\n",
    "    \"./filtered_results/reentrancy/\",\n",
    "    \"./filtered_results/gaslimit/\", \n",
    "    \"./filtered_results/integeroverflow/\",\n",
    "]\n",
    "\n",
    "# Load and process clean data first\n",
    "cleandata = pd.read_csv(\"../CreateCleanDataset/CleanOpcodes.csv\")\n",
    "\n",
    "\n",
    "# Convert clean data - remove extra spaces and brackets\n",
    "cleandata['opcodes'] = cleandata['opcodes'].apply(lambda x: ' '.join(eval(x)).replace(\"' '\", \" \").split())\n",
    "\n",
    "# Load vulnerability data\n",
    "data_list = []\n",
    "for path in DATAPATH:\n",
    "    for file in os.listdir(path):\n",
    "        if file.endswith(\".json\"):\n",
    "            with open(os.path.join(path, file), 'r') as f:\n",
    "                data = json.load(f)\n",
    "                data_list.append({\n",
    "                    \"opcodes\": data[\"opcodes\"],\n",
    "                    \"label\": path.split(\"/\")[-2]\n",
    "                })\n",
    "\n",
    "vuln_data = pd.DataFrame(data_list)\n",
    "\n",
    "# Concatenate after format verification\n",
    "final_data = pd.concat([vuln_data, cleandata], axis=0, ignore_index=True)\n",
    "data = final_data.copy()\n",
    "data"
   ]
  },
  {
   "cell_type": "markdown",
   "metadata": {},
   "source": [
    "# EDA"
   ]
  },
  {
   "cell_type": "markdown",
   "metadata": {},
   "source": [
    "## Clean data"
   ]
  },
  {
   "cell_type": "code",
   "execution_count": 4,
   "metadata": {},
   "outputs": [
    {
     "data": {
      "application/vnd.plotly.v1+json": {
       "config": {
        "plotlyServerURL": "https://plot.ly"
       },
       "data": [
        {
         "alignmentgroup": "True",
         "hovertemplate": "Vulnerability Type=%{x}<br>Count=%{y}<extra></extra>",
         "legendgroup": "",
         "marker": {
          "color": "#636efa",
          "pattern": {
           "shape": ""
          }
         },
         "name": "",
         "offsetgroup": "",
         "orientation": "v",
         "showlegend": false,
         "textposition": "auto",
         "type": "bar",
         "x": [
          "gaslimit",
          "reentrancy",
          "clean",
          "integeroverflow"
         ],
         "xaxis": "x",
         "y": [
          40687,
          983,
          700,
          603
         ],
         "yaxis": "y"
        }
       ],
       "layout": {
        "barmode": "relative",
        "legend": {
         "tracegroupgap": 0
        },
        "template": {
         "data": {
          "bar": [
           {
            "error_x": {
             "color": "#2a3f5f"
            },
            "error_y": {
             "color": "#2a3f5f"
            },
            "marker": {
             "line": {
              "color": "#E5ECF6",
              "width": 0.5
             },
             "pattern": {
              "fillmode": "overlay",
              "size": 10,
              "solidity": 0.2
             }
            },
            "type": "bar"
           }
          ],
          "barpolar": [
           {
            "marker": {
             "line": {
              "color": "#E5ECF6",
              "width": 0.5
             },
             "pattern": {
              "fillmode": "overlay",
              "size": 10,
              "solidity": 0.2
             }
            },
            "type": "barpolar"
           }
          ],
          "carpet": [
           {
            "aaxis": {
             "endlinecolor": "#2a3f5f",
             "gridcolor": "white",
             "linecolor": "white",
             "minorgridcolor": "white",
             "startlinecolor": "#2a3f5f"
            },
            "baxis": {
             "endlinecolor": "#2a3f5f",
             "gridcolor": "white",
             "linecolor": "white",
             "minorgridcolor": "white",
             "startlinecolor": "#2a3f5f"
            },
            "type": "carpet"
           }
          ],
          "choropleth": [
           {
            "colorbar": {
             "outlinewidth": 0,
             "ticks": ""
            },
            "type": "choropleth"
           }
          ],
          "contour": [
           {
            "colorbar": {
             "outlinewidth": 0,
             "ticks": ""
            },
            "colorscale": [
             [
              0,
              "#0d0887"
             ],
             [
              0.1111111111111111,
              "#46039f"
             ],
             [
              0.2222222222222222,
              "#7201a8"
             ],
             [
              0.3333333333333333,
              "#9c179e"
             ],
             [
              0.4444444444444444,
              "#bd3786"
             ],
             [
              0.5555555555555556,
              "#d8576b"
             ],
             [
              0.6666666666666666,
              "#ed7953"
             ],
             [
              0.7777777777777778,
              "#fb9f3a"
             ],
             [
              0.8888888888888888,
              "#fdca26"
             ],
             [
              1,
              "#f0f921"
             ]
            ],
            "type": "contour"
           }
          ],
          "contourcarpet": [
           {
            "colorbar": {
             "outlinewidth": 0,
             "ticks": ""
            },
            "type": "contourcarpet"
           }
          ],
          "heatmap": [
           {
            "colorbar": {
             "outlinewidth": 0,
             "ticks": ""
            },
            "colorscale": [
             [
              0,
              "#0d0887"
             ],
             [
              0.1111111111111111,
              "#46039f"
             ],
             [
              0.2222222222222222,
              "#7201a8"
             ],
             [
              0.3333333333333333,
              "#9c179e"
             ],
             [
              0.4444444444444444,
              "#bd3786"
             ],
             [
              0.5555555555555556,
              "#d8576b"
             ],
             [
              0.6666666666666666,
              "#ed7953"
             ],
             [
              0.7777777777777778,
              "#fb9f3a"
             ],
             [
              0.8888888888888888,
              "#fdca26"
             ],
             [
              1,
              "#f0f921"
             ]
            ],
            "type": "heatmap"
           }
          ],
          "heatmapgl": [
           {
            "colorbar": {
             "outlinewidth": 0,
             "ticks": ""
            },
            "colorscale": [
             [
              0,
              "#0d0887"
             ],
             [
              0.1111111111111111,
              "#46039f"
             ],
             [
              0.2222222222222222,
              "#7201a8"
             ],
             [
              0.3333333333333333,
              "#9c179e"
             ],
             [
              0.4444444444444444,
              "#bd3786"
             ],
             [
              0.5555555555555556,
              "#d8576b"
             ],
             [
              0.6666666666666666,
              "#ed7953"
             ],
             [
              0.7777777777777778,
              "#fb9f3a"
             ],
             [
              0.8888888888888888,
              "#fdca26"
             ],
             [
              1,
              "#f0f921"
             ]
            ],
            "type": "heatmapgl"
           }
          ],
          "histogram": [
           {
            "marker": {
             "pattern": {
              "fillmode": "overlay",
              "size": 10,
              "solidity": 0.2
             }
            },
            "type": "histogram"
           }
          ],
          "histogram2d": [
           {
            "colorbar": {
             "outlinewidth": 0,
             "ticks": ""
            },
            "colorscale": [
             [
              0,
              "#0d0887"
             ],
             [
              0.1111111111111111,
              "#46039f"
             ],
             [
              0.2222222222222222,
              "#7201a8"
             ],
             [
              0.3333333333333333,
              "#9c179e"
             ],
             [
              0.4444444444444444,
              "#bd3786"
             ],
             [
              0.5555555555555556,
              "#d8576b"
             ],
             [
              0.6666666666666666,
              "#ed7953"
             ],
             [
              0.7777777777777778,
              "#fb9f3a"
             ],
             [
              0.8888888888888888,
              "#fdca26"
             ],
             [
              1,
              "#f0f921"
             ]
            ],
            "type": "histogram2d"
           }
          ],
          "histogram2dcontour": [
           {
            "colorbar": {
             "outlinewidth": 0,
             "ticks": ""
            },
            "colorscale": [
             [
              0,
              "#0d0887"
             ],
             [
              0.1111111111111111,
              "#46039f"
             ],
             [
              0.2222222222222222,
              "#7201a8"
             ],
             [
              0.3333333333333333,
              "#9c179e"
             ],
             [
              0.4444444444444444,
              "#bd3786"
             ],
             [
              0.5555555555555556,
              "#d8576b"
             ],
             [
              0.6666666666666666,
              "#ed7953"
             ],
             [
              0.7777777777777778,
              "#fb9f3a"
             ],
             [
              0.8888888888888888,
              "#fdca26"
             ],
             [
              1,
              "#f0f921"
             ]
            ],
            "type": "histogram2dcontour"
           }
          ],
          "mesh3d": [
           {
            "colorbar": {
             "outlinewidth": 0,
             "ticks": ""
            },
            "type": "mesh3d"
           }
          ],
          "parcoords": [
           {
            "line": {
             "colorbar": {
              "outlinewidth": 0,
              "ticks": ""
             }
            },
            "type": "parcoords"
           }
          ],
          "pie": [
           {
            "automargin": true,
            "type": "pie"
           }
          ],
          "scatter": [
           {
            "fillpattern": {
             "fillmode": "overlay",
             "size": 10,
             "solidity": 0.2
            },
            "type": "scatter"
           }
          ],
          "scatter3d": [
           {
            "line": {
             "colorbar": {
              "outlinewidth": 0,
              "ticks": ""
             }
            },
            "marker": {
             "colorbar": {
              "outlinewidth": 0,
              "ticks": ""
             }
            },
            "type": "scatter3d"
           }
          ],
          "scattercarpet": [
           {
            "marker": {
             "colorbar": {
              "outlinewidth": 0,
              "ticks": ""
             }
            },
            "type": "scattercarpet"
           }
          ],
          "scattergeo": [
           {
            "marker": {
             "colorbar": {
              "outlinewidth": 0,
              "ticks": ""
             }
            },
            "type": "scattergeo"
           }
          ],
          "scattergl": [
           {
            "marker": {
             "colorbar": {
              "outlinewidth": 0,
              "ticks": ""
             }
            },
            "type": "scattergl"
           }
          ],
          "scattermapbox": [
           {
            "marker": {
             "colorbar": {
              "outlinewidth": 0,
              "ticks": ""
             }
            },
            "type": "scattermapbox"
           }
          ],
          "scatterpolar": [
           {
            "marker": {
             "colorbar": {
              "outlinewidth": 0,
              "ticks": ""
             }
            },
            "type": "scatterpolar"
           }
          ],
          "scatterpolargl": [
           {
            "marker": {
             "colorbar": {
              "outlinewidth": 0,
              "ticks": ""
             }
            },
            "type": "scatterpolargl"
           }
          ],
          "scatterternary": [
           {
            "marker": {
             "colorbar": {
              "outlinewidth": 0,
              "ticks": ""
             }
            },
            "type": "scatterternary"
           }
          ],
          "surface": [
           {
            "colorbar": {
             "outlinewidth": 0,
             "ticks": ""
            },
            "colorscale": [
             [
              0,
              "#0d0887"
             ],
             [
              0.1111111111111111,
              "#46039f"
             ],
             [
              0.2222222222222222,
              "#7201a8"
             ],
             [
              0.3333333333333333,
              "#9c179e"
             ],
             [
              0.4444444444444444,
              "#bd3786"
             ],
             [
              0.5555555555555556,
              "#d8576b"
             ],
             [
              0.6666666666666666,
              "#ed7953"
             ],
             [
              0.7777777777777778,
              "#fb9f3a"
             ],
             [
              0.8888888888888888,
              "#fdca26"
             ],
             [
              1,
              "#f0f921"
             ]
            ],
            "type": "surface"
           }
          ],
          "table": [
           {
            "cells": {
             "fill": {
              "color": "#EBF0F8"
             },
             "line": {
              "color": "white"
             }
            },
            "header": {
             "fill": {
              "color": "#C8D4E3"
             },
             "line": {
              "color": "white"
             }
            },
            "type": "table"
           }
          ]
         },
         "layout": {
          "annotationdefaults": {
           "arrowcolor": "#2a3f5f",
           "arrowhead": 0,
           "arrowwidth": 1
          },
          "autotypenumbers": "strict",
          "coloraxis": {
           "colorbar": {
            "outlinewidth": 0,
            "ticks": ""
           }
          },
          "colorscale": {
           "diverging": [
            [
             0,
             "#8e0152"
            ],
            [
             0.1,
             "#c51b7d"
            ],
            [
             0.2,
             "#de77ae"
            ],
            [
             0.3,
             "#f1b6da"
            ],
            [
             0.4,
             "#fde0ef"
            ],
            [
             0.5,
             "#f7f7f7"
            ],
            [
             0.6,
             "#e6f5d0"
            ],
            [
             0.7,
             "#b8e186"
            ],
            [
             0.8,
             "#7fbc41"
            ],
            [
             0.9,
             "#4d9221"
            ],
            [
             1,
             "#276419"
            ]
           ],
           "sequential": [
            [
             0,
             "#0d0887"
            ],
            [
             0.1111111111111111,
             "#46039f"
            ],
            [
             0.2222222222222222,
             "#7201a8"
            ],
            [
             0.3333333333333333,
             "#9c179e"
            ],
            [
             0.4444444444444444,
             "#bd3786"
            ],
            [
             0.5555555555555556,
             "#d8576b"
            ],
            [
             0.6666666666666666,
             "#ed7953"
            ],
            [
             0.7777777777777778,
             "#fb9f3a"
            ],
            [
             0.8888888888888888,
             "#fdca26"
            ],
            [
             1,
             "#f0f921"
            ]
           ],
           "sequentialminus": [
            [
             0,
             "#0d0887"
            ],
            [
             0.1111111111111111,
             "#46039f"
            ],
            [
             0.2222222222222222,
             "#7201a8"
            ],
            [
             0.3333333333333333,
             "#9c179e"
            ],
            [
             0.4444444444444444,
             "#bd3786"
            ],
            [
             0.5555555555555556,
             "#d8576b"
            ],
            [
             0.6666666666666666,
             "#ed7953"
            ],
            [
             0.7777777777777778,
             "#fb9f3a"
            ],
            [
             0.8888888888888888,
             "#fdca26"
            ],
            [
             1,
             "#f0f921"
            ]
           ]
          },
          "colorway": [
           "#636efa",
           "#EF553B",
           "#00cc96",
           "#ab63fa",
           "#FFA15A",
           "#19d3f3",
           "#FF6692",
           "#B6E880",
           "#FF97FF",
           "#FECB52"
          ],
          "font": {
           "color": "#2a3f5f"
          },
          "geo": {
           "bgcolor": "white",
           "lakecolor": "white",
           "landcolor": "#E5ECF6",
           "showlakes": true,
           "showland": true,
           "subunitcolor": "white"
          },
          "hoverlabel": {
           "align": "left"
          },
          "hovermode": "closest",
          "mapbox": {
           "style": "light"
          },
          "paper_bgcolor": "white",
          "plot_bgcolor": "#E5ECF6",
          "polar": {
           "angularaxis": {
            "gridcolor": "white",
            "linecolor": "white",
            "ticks": ""
           },
           "bgcolor": "#E5ECF6",
           "radialaxis": {
            "gridcolor": "white",
            "linecolor": "white",
            "ticks": ""
           }
          },
          "scene": {
           "xaxis": {
            "backgroundcolor": "#E5ECF6",
            "gridcolor": "white",
            "gridwidth": 2,
            "linecolor": "white",
            "showbackground": true,
            "ticks": "",
            "zerolinecolor": "white"
           },
           "yaxis": {
            "backgroundcolor": "#E5ECF6",
            "gridcolor": "white",
            "gridwidth": 2,
            "linecolor": "white",
            "showbackground": true,
            "ticks": "",
            "zerolinecolor": "white"
           },
           "zaxis": {
            "backgroundcolor": "#E5ECF6",
            "gridcolor": "white",
            "gridwidth": 2,
            "linecolor": "white",
            "showbackground": true,
            "ticks": "",
            "zerolinecolor": "white"
           }
          },
          "shapedefaults": {
           "line": {
            "color": "#2a3f5f"
           }
          },
          "ternary": {
           "aaxis": {
            "gridcolor": "white",
            "linecolor": "white",
            "ticks": ""
           },
           "baxis": {
            "gridcolor": "white",
            "linecolor": "white",
            "ticks": ""
           },
           "bgcolor": "#E5ECF6",
           "caxis": {
            "gridcolor": "white",
            "linecolor": "white",
            "ticks": ""
           }
          },
          "title": {
           "x": 0.05
          },
          "xaxis": {
           "automargin": true,
           "gridcolor": "white",
           "linecolor": "white",
           "ticks": "",
           "title": {
            "standoff": 15
           },
           "zerolinecolor": "white",
           "zerolinewidth": 2
          },
          "yaxis": {
           "automargin": true,
           "gridcolor": "white",
           "linecolor": "white",
           "ticks": "",
           "title": {
            "standoff": 15
           },
           "zerolinecolor": "white",
           "zerolinewidth": 2
          }
         }
        },
        "title": {
         "text": "Distribution of Vulnerability Types"
        },
        "xaxis": {
         "anchor": "y",
         "domain": [
          0,
          1
         ],
         "title": {
          "text": "Vulnerability Type"
         }
        },
        "yaxis": {
         "anchor": "x",
         "domain": [
          0,
          1
         ],
         "title": {
          "text": "Count"
         }
        }
       }
      }
     },
     "metadata": {},
     "output_type": "display_data"
    }
   ],
   "source": [
    "# Import plotly\n",
    "import plotly.express as px\n",
    "import plotly.graph_objects as go\n",
    "from collections import Counter\n",
    "\n",
    "# 1. Distribution of labels\n",
    "label_counts = data['label'].value_counts()\n",
    "fig = px.bar(x=label_counts.index, y=label_counts.values,\n",
    "             title='Distribution of Vulnerability Types',\n",
    "             labels={'x': 'Vulnerability Type', 'y': 'Count'})\n",
    "fig.show()\n"
   ]
  },
  {
   "cell_type": "code",
   "execution_count": 5,
   "metadata": {},
   "outputs": [
    {
     "data": {
      "application/vnd.plotly.v1+json": {
       "config": {
        "plotlyServerURL": "https://plot.ly"
       },
       "data": [
        {
         "alignmentgroup": "True",
         "hovertemplate": "Vulnerability Type=%{x}<br>Count=%{y}<extra></extra>",
         "legendgroup": "",
         "marker": {
          "color": "#636efa",
          "pattern": {
           "shape": ""
          }
         },
         "name": "",
         "offsetgroup": "",
         "orientation": "v",
         "showlegend": false,
         "textposition": "auto",
         "type": "bar",
         "x": [
          "clean",
          "gaslimit",
          "integeroverflow",
          "reentrancy"
         ],
         "xaxis": "x",
         "y": [
          600,
          600,
          600,
          600
         ],
         "yaxis": "y"
        }
       ],
       "layout": {
        "barmode": "relative",
        "legend": {
         "tracegroupgap": 0
        },
        "template": {
         "data": {
          "bar": [
           {
            "error_x": {
             "color": "#2a3f5f"
            },
            "error_y": {
             "color": "#2a3f5f"
            },
            "marker": {
             "line": {
              "color": "#E5ECF6",
              "width": 0.5
             },
             "pattern": {
              "fillmode": "overlay",
              "size": 10,
              "solidity": 0.2
             }
            },
            "type": "bar"
           }
          ],
          "barpolar": [
           {
            "marker": {
             "line": {
              "color": "#E5ECF6",
              "width": 0.5
             },
             "pattern": {
              "fillmode": "overlay",
              "size": 10,
              "solidity": 0.2
             }
            },
            "type": "barpolar"
           }
          ],
          "carpet": [
           {
            "aaxis": {
             "endlinecolor": "#2a3f5f",
             "gridcolor": "white",
             "linecolor": "white",
             "minorgridcolor": "white",
             "startlinecolor": "#2a3f5f"
            },
            "baxis": {
             "endlinecolor": "#2a3f5f",
             "gridcolor": "white",
             "linecolor": "white",
             "minorgridcolor": "white",
             "startlinecolor": "#2a3f5f"
            },
            "type": "carpet"
           }
          ],
          "choropleth": [
           {
            "colorbar": {
             "outlinewidth": 0,
             "ticks": ""
            },
            "type": "choropleth"
           }
          ],
          "contour": [
           {
            "colorbar": {
             "outlinewidth": 0,
             "ticks": ""
            },
            "colorscale": [
             [
              0,
              "#0d0887"
             ],
             [
              0.1111111111111111,
              "#46039f"
             ],
             [
              0.2222222222222222,
              "#7201a8"
             ],
             [
              0.3333333333333333,
              "#9c179e"
             ],
             [
              0.4444444444444444,
              "#bd3786"
             ],
             [
              0.5555555555555556,
              "#d8576b"
             ],
             [
              0.6666666666666666,
              "#ed7953"
             ],
             [
              0.7777777777777778,
              "#fb9f3a"
             ],
             [
              0.8888888888888888,
              "#fdca26"
             ],
             [
              1,
              "#f0f921"
             ]
            ],
            "type": "contour"
           }
          ],
          "contourcarpet": [
           {
            "colorbar": {
             "outlinewidth": 0,
             "ticks": ""
            },
            "type": "contourcarpet"
           }
          ],
          "heatmap": [
           {
            "colorbar": {
             "outlinewidth": 0,
             "ticks": ""
            },
            "colorscale": [
             [
              0,
              "#0d0887"
             ],
             [
              0.1111111111111111,
              "#46039f"
             ],
             [
              0.2222222222222222,
              "#7201a8"
             ],
             [
              0.3333333333333333,
              "#9c179e"
             ],
             [
              0.4444444444444444,
              "#bd3786"
             ],
             [
              0.5555555555555556,
              "#d8576b"
             ],
             [
              0.6666666666666666,
              "#ed7953"
             ],
             [
              0.7777777777777778,
              "#fb9f3a"
             ],
             [
              0.8888888888888888,
              "#fdca26"
             ],
             [
              1,
              "#f0f921"
             ]
            ],
            "type": "heatmap"
           }
          ],
          "heatmapgl": [
           {
            "colorbar": {
             "outlinewidth": 0,
             "ticks": ""
            },
            "colorscale": [
             [
              0,
              "#0d0887"
             ],
             [
              0.1111111111111111,
              "#46039f"
             ],
             [
              0.2222222222222222,
              "#7201a8"
             ],
             [
              0.3333333333333333,
              "#9c179e"
             ],
             [
              0.4444444444444444,
              "#bd3786"
             ],
             [
              0.5555555555555556,
              "#d8576b"
             ],
             [
              0.6666666666666666,
              "#ed7953"
             ],
             [
              0.7777777777777778,
              "#fb9f3a"
             ],
             [
              0.8888888888888888,
              "#fdca26"
             ],
             [
              1,
              "#f0f921"
             ]
            ],
            "type": "heatmapgl"
           }
          ],
          "histogram": [
           {
            "marker": {
             "pattern": {
              "fillmode": "overlay",
              "size": 10,
              "solidity": 0.2
             }
            },
            "type": "histogram"
           }
          ],
          "histogram2d": [
           {
            "colorbar": {
             "outlinewidth": 0,
             "ticks": ""
            },
            "colorscale": [
             [
              0,
              "#0d0887"
             ],
             [
              0.1111111111111111,
              "#46039f"
             ],
             [
              0.2222222222222222,
              "#7201a8"
             ],
             [
              0.3333333333333333,
              "#9c179e"
             ],
             [
              0.4444444444444444,
              "#bd3786"
             ],
             [
              0.5555555555555556,
              "#d8576b"
             ],
             [
              0.6666666666666666,
              "#ed7953"
             ],
             [
              0.7777777777777778,
              "#fb9f3a"
             ],
             [
              0.8888888888888888,
              "#fdca26"
             ],
             [
              1,
              "#f0f921"
             ]
            ],
            "type": "histogram2d"
           }
          ],
          "histogram2dcontour": [
           {
            "colorbar": {
             "outlinewidth": 0,
             "ticks": ""
            },
            "colorscale": [
             [
              0,
              "#0d0887"
             ],
             [
              0.1111111111111111,
              "#46039f"
             ],
             [
              0.2222222222222222,
              "#7201a8"
             ],
             [
              0.3333333333333333,
              "#9c179e"
             ],
             [
              0.4444444444444444,
              "#bd3786"
             ],
             [
              0.5555555555555556,
              "#d8576b"
             ],
             [
              0.6666666666666666,
              "#ed7953"
             ],
             [
              0.7777777777777778,
              "#fb9f3a"
             ],
             [
              0.8888888888888888,
              "#fdca26"
             ],
             [
              1,
              "#f0f921"
             ]
            ],
            "type": "histogram2dcontour"
           }
          ],
          "mesh3d": [
           {
            "colorbar": {
             "outlinewidth": 0,
             "ticks": ""
            },
            "type": "mesh3d"
           }
          ],
          "parcoords": [
           {
            "line": {
             "colorbar": {
              "outlinewidth": 0,
              "ticks": ""
             }
            },
            "type": "parcoords"
           }
          ],
          "pie": [
           {
            "automargin": true,
            "type": "pie"
           }
          ],
          "scatter": [
           {
            "fillpattern": {
             "fillmode": "overlay",
             "size": 10,
             "solidity": 0.2
            },
            "type": "scatter"
           }
          ],
          "scatter3d": [
           {
            "line": {
             "colorbar": {
              "outlinewidth": 0,
              "ticks": ""
             }
            },
            "marker": {
             "colorbar": {
              "outlinewidth": 0,
              "ticks": ""
             }
            },
            "type": "scatter3d"
           }
          ],
          "scattercarpet": [
           {
            "marker": {
             "colorbar": {
              "outlinewidth": 0,
              "ticks": ""
             }
            },
            "type": "scattercarpet"
           }
          ],
          "scattergeo": [
           {
            "marker": {
             "colorbar": {
              "outlinewidth": 0,
              "ticks": ""
             }
            },
            "type": "scattergeo"
           }
          ],
          "scattergl": [
           {
            "marker": {
             "colorbar": {
              "outlinewidth": 0,
              "ticks": ""
             }
            },
            "type": "scattergl"
           }
          ],
          "scattermapbox": [
           {
            "marker": {
             "colorbar": {
              "outlinewidth": 0,
              "ticks": ""
             }
            },
            "type": "scattermapbox"
           }
          ],
          "scatterpolar": [
           {
            "marker": {
             "colorbar": {
              "outlinewidth": 0,
              "ticks": ""
             }
            },
            "type": "scatterpolar"
           }
          ],
          "scatterpolargl": [
           {
            "marker": {
             "colorbar": {
              "outlinewidth": 0,
              "ticks": ""
             }
            },
            "type": "scatterpolargl"
           }
          ],
          "scatterternary": [
           {
            "marker": {
             "colorbar": {
              "outlinewidth": 0,
              "ticks": ""
             }
            },
            "type": "scatterternary"
           }
          ],
          "surface": [
           {
            "colorbar": {
             "outlinewidth": 0,
             "ticks": ""
            },
            "colorscale": [
             [
              0,
              "#0d0887"
             ],
             [
              0.1111111111111111,
              "#46039f"
             ],
             [
              0.2222222222222222,
              "#7201a8"
             ],
             [
              0.3333333333333333,
              "#9c179e"
             ],
             [
              0.4444444444444444,
              "#bd3786"
             ],
             [
              0.5555555555555556,
              "#d8576b"
             ],
             [
              0.6666666666666666,
              "#ed7953"
             ],
             [
              0.7777777777777778,
              "#fb9f3a"
             ],
             [
              0.8888888888888888,
              "#fdca26"
             ],
             [
              1,
              "#f0f921"
             ]
            ],
            "type": "surface"
           }
          ],
          "table": [
           {
            "cells": {
             "fill": {
              "color": "#EBF0F8"
             },
             "line": {
              "color": "white"
             }
            },
            "header": {
             "fill": {
              "color": "#C8D4E3"
             },
             "line": {
              "color": "white"
             }
            },
            "type": "table"
           }
          ]
         },
         "layout": {
          "annotationdefaults": {
           "arrowcolor": "#2a3f5f",
           "arrowhead": 0,
           "arrowwidth": 1
          },
          "autotypenumbers": "strict",
          "coloraxis": {
           "colorbar": {
            "outlinewidth": 0,
            "ticks": ""
           }
          },
          "colorscale": {
           "diverging": [
            [
             0,
             "#8e0152"
            ],
            [
             0.1,
             "#c51b7d"
            ],
            [
             0.2,
             "#de77ae"
            ],
            [
             0.3,
             "#f1b6da"
            ],
            [
             0.4,
             "#fde0ef"
            ],
            [
             0.5,
             "#f7f7f7"
            ],
            [
             0.6,
             "#e6f5d0"
            ],
            [
             0.7,
             "#b8e186"
            ],
            [
             0.8,
             "#7fbc41"
            ],
            [
             0.9,
             "#4d9221"
            ],
            [
             1,
             "#276419"
            ]
           ],
           "sequential": [
            [
             0,
             "#0d0887"
            ],
            [
             0.1111111111111111,
             "#46039f"
            ],
            [
             0.2222222222222222,
             "#7201a8"
            ],
            [
             0.3333333333333333,
             "#9c179e"
            ],
            [
             0.4444444444444444,
             "#bd3786"
            ],
            [
             0.5555555555555556,
             "#d8576b"
            ],
            [
             0.6666666666666666,
             "#ed7953"
            ],
            [
             0.7777777777777778,
             "#fb9f3a"
            ],
            [
             0.8888888888888888,
             "#fdca26"
            ],
            [
             1,
             "#f0f921"
            ]
           ],
           "sequentialminus": [
            [
             0,
             "#0d0887"
            ],
            [
             0.1111111111111111,
             "#46039f"
            ],
            [
             0.2222222222222222,
             "#7201a8"
            ],
            [
             0.3333333333333333,
             "#9c179e"
            ],
            [
             0.4444444444444444,
             "#bd3786"
            ],
            [
             0.5555555555555556,
             "#d8576b"
            ],
            [
             0.6666666666666666,
             "#ed7953"
            ],
            [
             0.7777777777777778,
             "#fb9f3a"
            ],
            [
             0.8888888888888888,
             "#fdca26"
            ],
            [
             1,
             "#f0f921"
            ]
           ]
          },
          "colorway": [
           "#636efa",
           "#EF553B",
           "#00cc96",
           "#ab63fa",
           "#FFA15A",
           "#19d3f3",
           "#FF6692",
           "#B6E880",
           "#FF97FF",
           "#FECB52"
          ],
          "font": {
           "color": "#2a3f5f"
          },
          "geo": {
           "bgcolor": "white",
           "lakecolor": "white",
           "landcolor": "#E5ECF6",
           "showlakes": true,
           "showland": true,
           "subunitcolor": "white"
          },
          "hoverlabel": {
           "align": "left"
          },
          "hovermode": "closest",
          "mapbox": {
           "style": "light"
          },
          "paper_bgcolor": "white",
          "plot_bgcolor": "#E5ECF6",
          "polar": {
           "angularaxis": {
            "gridcolor": "white",
            "linecolor": "white",
            "ticks": ""
           },
           "bgcolor": "#E5ECF6",
           "radialaxis": {
            "gridcolor": "white",
            "linecolor": "white",
            "ticks": ""
           }
          },
          "scene": {
           "xaxis": {
            "backgroundcolor": "#E5ECF6",
            "gridcolor": "white",
            "gridwidth": 2,
            "linecolor": "white",
            "showbackground": true,
            "ticks": "",
            "zerolinecolor": "white"
           },
           "yaxis": {
            "backgroundcolor": "#E5ECF6",
            "gridcolor": "white",
            "gridwidth": 2,
            "linecolor": "white",
            "showbackground": true,
            "ticks": "",
            "zerolinecolor": "white"
           },
           "zaxis": {
            "backgroundcolor": "#E5ECF6",
            "gridcolor": "white",
            "gridwidth": 2,
            "linecolor": "white",
            "showbackground": true,
            "ticks": "",
            "zerolinecolor": "white"
           }
          },
          "shapedefaults": {
           "line": {
            "color": "#2a3f5f"
           }
          },
          "ternary": {
           "aaxis": {
            "gridcolor": "white",
            "linecolor": "white",
            "ticks": ""
           },
           "baxis": {
            "gridcolor": "white",
            "linecolor": "white",
            "ticks": ""
           },
           "bgcolor": "#E5ECF6",
           "caxis": {
            "gridcolor": "white",
            "linecolor": "white",
            "ticks": ""
           }
          },
          "title": {
           "x": 0.05
          },
          "xaxis": {
           "automargin": true,
           "gridcolor": "white",
           "linecolor": "white",
           "ticks": "",
           "title": {
            "standoff": 15
           },
           "zerolinecolor": "white",
           "zerolinewidth": 2
          },
          "yaxis": {
           "automargin": true,
           "gridcolor": "white",
           "linecolor": "white",
           "ticks": "",
           "title": {
            "standoff": 15
           },
           "zerolinecolor": "white",
           "zerolinewidth": 2
          }
         }
        },
        "title": {
         "text": "Distribution of Vulnerability Types"
        },
        "xaxis": {
         "anchor": "y",
         "domain": [
          0,
          1
         ],
         "title": {
          "text": "Vulnerability Type"
         }
        },
        "yaxis": {
         "anchor": "x",
         "domain": [
          0,
          1
         ],
         "title": {
          "text": "Count"
         }
        }
       }
      }
     },
     "metadata": {},
     "output_type": "display_data"
    }
   ],
   "source": [
    "# Create balanced dataset with 199 samples per label\n",
    "balanced_data = pd.concat([\n",
    "    data[data['label'] == label].sample(n=600, random_state=42) \n",
    "    for label in data['label'].unique()\n",
    "])\n",
    "\n",
    "# Shuffle the balanced dataset\n",
    "data = balanced_data.sample(frac=1, random_state=42).reset_index(drop=True)\n",
    "\n",
    "label_counts = data['label'].value_counts()\n",
    "fig = px.bar(x=label_counts.index, y=label_counts.values,\n",
    "             title='Distribution of Vulnerability Types',\n",
    "             labels={'x': 'Vulnerability Type', 'y': 'Count'})\n",
    "fig.show()\n"
   ]
  },
  {
   "cell_type": "code",
   "execution_count": 6,
   "metadata": {},
   "outputs": [],
   "source": [
    "# Clean opcodes\n",
    "def clean_opcodes(opcode_list):\n",
    "    # Remove UNKNOWN and INVALID opcodes\n",
    "    cleaned = [op for op in opcode_list if not (op.startswith('UNKNOWN_') or op.startswith('INVALID_'))]\n",
    "    \n",
    "    # Remove numeric values after opcodes (e.g., PUSH1, PUSH2 -> PUSH)\n",
    "    cleaned = [op.rstrip('0123456789') for op in cleaned]\n",
    "    \n",
    "    return cleaned\n"
   ]
  },
  {
   "cell_type": "code",
   "execution_count": 7,
   "metadata": {},
   "outputs": [
    {
     "data": {
      "text/html": [
       "<div>\n",
       "<style scoped>\n",
       "    .dataframe tbody tr th:only-of-type {\n",
       "        vertical-align: middle;\n",
       "    }\n",
       "\n",
       "    .dataframe tbody tr th {\n",
       "        vertical-align: top;\n",
       "    }\n",
       "\n",
       "    .dataframe thead th {\n",
       "        text-align: right;\n",
       "    }\n",
       "</style>\n",
       "<table border=\"1\" class=\"dataframe\">\n",
       "  <thead>\n",
       "    <tr style=\"text-align: right;\">\n",
       "      <th></th>\n",
       "      <th>opcodes</th>\n",
       "      <th>label</th>\n",
       "    </tr>\n",
       "  </thead>\n",
       "  <tbody>\n",
       "    <tr>\n",
       "      <th>0</th>\n",
       "      <td>PUSH PUSH MSTORE CALLDATASIZE ISZERO PUSH JUMP...</td>\n",
       "      <td>clean</td>\n",
       "    </tr>\n",
       "    <tr>\n",
       "      <th>1</th>\n",
       "      <td>PUSH PUSH MSTORE CALLVALUE DUP ISZERO PUSH JUM...</td>\n",
       "      <td>clean</td>\n",
       "    </tr>\n",
       "    <tr>\n",
       "      <th>2</th>\n",
       "      <td>PUSH PUSH MSTORE PUSH DUP SLOAD PUSH PUSH PUSH...</td>\n",
       "      <td>gaslimit</td>\n",
       "    </tr>\n",
       "    <tr>\n",
       "      <th>3</th>\n",
       "      <td>PUSH PUSH MSTORE PUSH PUSH SSTORE CALLVALUE PU...</td>\n",
       "      <td>integeroverflow</td>\n",
       "    </tr>\n",
       "    <tr>\n",
       "      <th>4</th>\n",
       "      <td>PUSH PUSH MSTORE CALLVALUE DUP ISZERO PUSH JUM...</td>\n",
       "      <td>clean</td>\n",
       "    </tr>\n",
       "    <tr>\n",
       "      <th>...</th>\n",
       "      <td>...</td>\n",
       "      <td>...</td>\n",
       "    </tr>\n",
       "    <tr>\n",
       "      <th>2395</th>\n",
       "      <td>PUSH PUSH MSTORE CALLVALUE ISZERO PUSH JUMPI J...</td>\n",
       "      <td>integeroverflow</td>\n",
       "    </tr>\n",
       "    <tr>\n",
       "      <th>2396</th>\n",
       "      <td>PUSH PUSH MSTORE CALLVALUE ISZERO PUSH JUMPI P...</td>\n",
       "      <td>gaslimit</td>\n",
       "    </tr>\n",
       "    <tr>\n",
       "      <th>2397</th>\n",
       "      <td>PUSH PUSH MSTORE PUSH PUSH DUP SWAP MSTORE PUS...</td>\n",
       "      <td>gaslimit</td>\n",
       "    </tr>\n",
       "    <tr>\n",
       "      <th>2398</th>\n",
       "      <td>PUSH PUSH MSTORE CALLVALUE ISZERO PUSH JUMPI J...</td>\n",
       "      <td>integeroverflow</td>\n",
       "    </tr>\n",
       "    <tr>\n",
       "      <th>2399</th>\n",
       "      <td>PUSH PUSH MSTORE PUSH PUSH MSTORE PUSH PUSH MS...</td>\n",
       "      <td>gaslimit</td>\n",
       "    </tr>\n",
       "  </tbody>\n",
       "</table>\n",
       "<p>2400 rows × 2 columns</p>\n",
       "</div>"
      ],
      "text/plain": [
       "                                                opcodes            label\n",
       "0     PUSH PUSH MSTORE CALLDATASIZE ISZERO PUSH JUMP...            clean\n",
       "1     PUSH PUSH MSTORE CALLVALUE DUP ISZERO PUSH JUM...            clean\n",
       "2     PUSH PUSH MSTORE PUSH DUP SLOAD PUSH PUSH PUSH...         gaslimit\n",
       "3     PUSH PUSH MSTORE PUSH PUSH SSTORE CALLVALUE PU...  integeroverflow\n",
       "4     PUSH PUSH MSTORE CALLVALUE DUP ISZERO PUSH JUM...            clean\n",
       "...                                                 ...              ...\n",
       "2395  PUSH PUSH MSTORE CALLVALUE ISZERO PUSH JUMPI J...  integeroverflow\n",
       "2396  PUSH PUSH MSTORE CALLVALUE ISZERO PUSH JUMPI P...         gaslimit\n",
       "2397  PUSH PUSH MSTORE PUSH PUSH DUP SWAP MSTORE PUS...         gaslimit\n",
       "2398  PUSH PUSH MSTORE CALLVALUE ISZERO PUSH JUMPI J...  integeroverflow\n",
       "2399  PUSH PUSH MSTORE PUSH PUSH MSTORE PUSH PUSH MS...         gaslimit\n",
       "\n",
       "[2400 rows x 2 columns]"
      ]
     },
     "execution_count": 7,
     "metadata": {},
     "output_type": "execute_result"
    }
   ],
   "source": [
    "data['opcodes'] = data['opcodes'].apply(clean_opcodes)\n",
    "data['opcodes'] = data['opcodes'].apply(lambda x: ' '.join(x))\n",
    "data"
   ]
  },
  {
   "cell_type": "code",
   "execution_count": 8,
   "metadata": {},
   "outputs": [
    {
     "data": {
      "text/plain": [
       "'PUSH PUSH MSTORE CALLVALUE DUP ISZERO PUSH JUMPI PUSH DUP REVERT JUMPDEST POP PUSH CALLDATASIZE LT PUSH JUMPI PUSH CALLDATALOAD PUSH SHR DUP PUSH GT PUSH JUMPI DUP PUSH GT PUSH JUMPI DUP PUSH EQ PUSH JUMPI DUP PUSH EQ PUSH JUMPI DUP PUSH EQ PUSH JUMPI PUSH JUMP JUMPDEST DUP PUSH EQ PUSH JUMPI DUP PUSH EQ PUSH JUMPI DUP PUSH EQ PUSH JUMPI PUSH JUMP JUMPDEST DUP PUSH GT PUSH JUMPI DUP PUSH EQ PUSH JUMPI DUP PUSH EQ PUSH JUMPI DUP PUSH EQ PUSH JUMPI PUSH JUMP JUMPDEST DUP PUSH EQ PUSH JUMPI DUP PUSH EQ PUSH JUMPI JUMPDEST PUSH DUP REVERT JUMPDEST PUSH PUSH JUMP JUMPDEST PUSH MLOAD PUSH SWAP SWAP PUSH JUMP JUMPDEST PUSH MLOAD DUP SWAP SUB SWAP RETURN JUMPDEST PUSH PUSH CALLDATASIZE PUSH PUSH JUMP JUMPDEST PUSH JUMP JUMPDEST PUSH MLOAD PUSH SWAP SWAP PUSH JUMP JUMPDEST PUSH PUSH JUMP JUMPDEST PUSH MLOAD PUSH SWAP SWAP PUSH JUMP JUMPDEST PUSH PUSH CALLDATASIZE PUSH PUSH JUMP JUMPDEST PUSH JUMP JUMPDEST PUSH PUSH JUMP JUMPDEST PUSH MLOAD PUSH SWAP SWAP PUSH JUMP JUMPDEST PUSH PUSH CALLDATASIZE PUSH PUSH JUMP JUMPDEST PUSH JUMP JUMPDEST PUSH PUSH JUMP JUMPDEST PUSH PUSH JUMP JUMPDEST PUSH MLOAD PUSH SWAP SWAP PUSH JUMP JUMPDEST PUSH PUSH CALLDATASIZE PUSH PUSH JUMP JUMPDEST PUSH JUMP JUMPDEST PUSH PUSH CALLDATASIZE PUSH PUSH JUMP JUMPDEST PUSH JUMP JUMPDEST PUSH PUSH JUMP JUMPDEST PUSH MLOAD DUP PUSH ADD PUSH MSTORE DUP PUSH DUP MSTORE PUSH ADD PUSH DUP MSTORE POP DUP JUMP JUMPDEST PUSH PUSH CALLER DUP DUP PUSH JUMP JUMPDEST POP PUSH JUMPDEST SWAP SWAP POP POP JUMP JUMPDEST PUSH SLOAD DUP JUMP JUMPDEST PUSH DUP AND PUSH SWAP DUP MSTORE PUSH PUSH SWAP DUP MSTORE PUSH DUP DUP SHA CALLER DUP MSTORE SWAP SWAP MSTORE DUP SHA SLOAD PUSH EQ PUSH JUMPI PUSH DUP AND PUSH SWAP DUP MSTORE PUSH PUSH SWAP DUP MSTORE PUSH DUP DUP SHA CALLER DUP MSTORE SWAP SWAP MSTORE SWAP SHA SLOAD PUSH SWAP DUP PUSH JUMP JUMPDEST PUSH DUP AND PUSH SWAP DUP MSTORE PUSH PUSH SWAP DUP MSTORE PUSH DUP DUP SHA CALLER DUP MSTORE SWAP SWAP MSTORE SWAP SHA SSTORE JUMPDEST PUSH DUP DUP DUP PUSH JUMP JUMPDEST POP PUSH SWAP SWAP POP POP POP JUMP JUMPDEST PUSH DUP JUMP JUMPDEST PUSH PUSH MSTORE PUSH SWAP DUP MSTORE PUSH SWAP SHA SLOAD DUP JUMP JUMPDEST PUSH MLOAD DUP PUSH ADD PUSH MSTORE DUP PUSH DUP MSTORE PUSH ADD PUSH DUP MSTORE POP DUP JUMP JUMPDEST PUSH SLOAD PUSH AND DUP JUMP JUMPDEST PUSH PUSH CALLER DUP DUP PUSH JUMP JUMPDEST PUSH PUSH SWAP DUP MSTORE PUSH SWAP DUP MSTORE PUSH DUP DUP SHA SWAP SWAP MSTORE SWAP DUP MSTORE SWAP SHA SLOAD DUP JUMP JUMPDEST PUSH SLOAD PUSH SWAP DIV PUSH AND DUP JUMP JUMPDEST PUSH DUP PUSH DUP DUP PUSH JUMP JUMPDEST SWAP POP DUP LT ISZERO PUSH JUMPI PUSH MLOAD PUSH DUP MSTORE PUSH ADD PUSH SWAP PUSH JUMP JUMPDEST PUSH MLOAD DUP SWAP SUB SWAP REVERT JUMPDEST PUSH SLOAD PUSH DUP DUP AND SWAP AND EQ DUP ISZERO PUSH JUMPI POP PUSH DUP DUP PUSH JUMP JUMPDEST ISZERO PUSH JUMPI PUSH JUMP JUMPDEST PUSH DUP DUP AND PUSH DUP DUP MSTORE PUSH PUSH SWAP DUP MSTORE PUSH DUP DUP SHA SWAP DUP AND DUP DUP MSTORE SWAP SWAP SWAP MSTORE SWAP DUP SWAP SHA DUP SWAP SSTORE MLOAD PUSH SWAP PUSH SWAP DUP SWAP PUSH JUMP JUMPDEST PUSH MLOAD DUP SWAP SUB SWAP LOG JUMPDEST POP POP POP JUMP JUMPDEST PUSH DUP PUSH DUP DUP PUSH JUMP JUMPDEST SWAP POP DUP GT ISZERO PUSH JUMPI PUSH MLOAD PUSH DUP MSTORE PUSH ADD PUSH SWAP PUSH JUMP JUMPDEST PUSH SLOAD PUSH SWAP DIV PUSH AND ISZERO PUSH JUMPI PUSH MLOAD PUSH DUP MSTORE PUSH ADD PUSH SWAP PUSH JUMP JUMPDEST PUSH DUP AND PUSH SWAP DUP MSTORE PUSH PUSH MSTORE PUSH SWAP SHA SLOAD PUSH SWAP DUP PUSH JUMP JUMPDEST PUSH DUP DUP AND PUSH SWAP DUP MSTORE PUSH PUSH MSTORE PUSH DUP DUP SHA SWAP SWAP SWAP SSTORE SWAP DUP AND DUP MSTORE SHA SLOAD PUSH SWAP DUP PUSH JUMP JUMPDEST PUSH DUP DUP AND PUSH DUP DUP MSTORE PUSH PUSH MSTORE PUSH DUP SHA SWAP SWAP SWAP SSTORE SWAP SLOAD AND EQ ISZERO PUSH JUMPI PUSH DUP SLOAD PUSH AND DUP MSTORE PUSH PUSH SWAP DUP MSTORE PUSH DUP DUP SHA SWAP SWAP MSTORE SWAP SHA SLOAD PUSH JUMPI PUSH DUP SLOAD PUSH AND PUSH OR SWAP SSTORE PUSH JUMP JUMPDEST PUSH DUP SLOAD PUSH AND DUP MSTORE PUSH PUSH SWAP DUP MSTORE PUSH DUP DUP SHA SWAP SWAP MSTORE DUP SHA DUP SLOAD PUSH SWAP SWAP PUSH SWAP DUP SWAP PUSH JUMP JUMPDEST SWAP SWAP SSTORE POP POP JUMPDEST DUP PUSH AND DUP PUSH AND PUSH DUP PUSH MLOAD PUSH SWAP SWAP PUSH JUMP JUMPDEST PUSH PUSH DUP AND PUSH JUMPI POP PUSH DUP SLOAD PUSH AND PUSH OR SWAP SSTORE PUSH PUSH JUMP JUMPDEST PUSH DUP AND PUSH EQ ISZERO PUSH JUMPI POP PUSH DUP SLOAD PUSH AND SWAP SSTORE PUSH PUSH JUMP JUMPDEST PUSH DUP AND PUSH EQ ISZERO PUSH JUMPI PUSH PUSH JUMP JUMPDEST PUSH SELFBALANCE SELFBALANCE DUP PUSH JUMP JUMPDEST POP PUSH PUSH JUMP JUMPDEST PUSH DUP AND PUSH EQ ISZERO PUSH JUMPI PUSH SELFBALANCE DUP PUSH JUMP JUMPDEST PUSH DUP AND PUSH EQ ISZERO PUSH JUMPI PUSH SLOAD PUSH MLOAD PUSH DUP MSTORE PUSH SWAP PUSH AND SWAP PUSH SWAP PUSH SWAP ADDRESS SWAP PUSH ADD PUSH JUMP JUMPDEST PUSH PUSH MLOAD DUP DUP SUB DUP DUP DUP EXTCODESIZE ISZERO DUP ISZERO PUSH JUMPI PUSH DUP REVERT JUMPDEST POP GAS STATICCALL ISZERO DUP ISZERO PUSH JUMPI RETURNDATASIZE PUSH DUP RETURNDATACOPY RETURNDATASIZE PUSH REVERT JUMPDEST POP POP POP POP PUSH MLOAD RETURNDATASIZE PUSH NOT PUSH DUP ADD AND DUP ADD DUP PUSH MSTORE POP DUP ADD SWAP PUSH SWAP SWAP PUSH JUMP JUMPDEST DUP PUSH JUMP JUMPDEST PUSH DUP AND PUSH EQ ISZERO PUSH JUMPI PUSH DUP SLOAD PUSH MLOAD PUSH SWAP SWAP AND SWAP DUP ISZERO PUSH MUL SWAP DUP SWAP DUP DUP DUP DUP DUP DUP CALL SWAP POP POP POP POP ISZERO DUP ISZERO PUSH JUMPI RETURNDATASIZE PUSH DUP RETURNDATACOPY RETURNDATASIZE PUSH REVERT JUMPDEST POP PUSH SWAP POP PUSH JUMP JUMPDEST PUSH DUP AND PUSH EQ ISZERO PUSH JUMPI PUSH SLOAD PUSH SWAP ADDRESS SWAP PUSH AND DUP PUSH JUMP JUMPDEST PUSH DUP AND PUSH EQ ISZERO PUSH JUMPI PUSH SLOAD PUSH MLOAD PUSH DUP MSTORE PUSH DUP DUP AND SWAP PUSH SWAP PUSH SWAP SWAP SWAP AND SWAP DUP SWAP PUSH ADD PUSH JUMP JUMPDEST PUSH PUSH MLOAD DUP DUP SUB DUP PUSH DUP DUP EXTCODESIZE ISZERO DUP ISZERO PUSH JUMPI PUSH DUP REVERT JUMPDEST POP GAS CALL ISZERO DUP ISZERO PUSH JUMPI RETURNDATASIZE PUSH DUP RETURNDATACOPY RETURNDATASIZE PUSH REVERT JUMPDEST POP POP POP POP PUSH MLOAD RETURNDATASIZE PUSH NOT PUSH DUP ADD AND DUP ADD DUP PUSH MSTORE POP DUP ADD SWAP PUSH SWAP SWAP PUSH JUMP JUMPDEST PUSH DUP AND PUSH EQ ISZERO PUSH JUMPI PUSH SLOAD PUSH SWAP PUSH AND DUP PUSH JUMP JUMPDEST PUSH DUP AND PUSH EQ ISZERO PUSH JUMPI PUSH SLOAD PUSH SLOAD PUSH MLOAD PUSH DUP MSTORE PUSH SWAP DUP AND SWAP PUSH SWAP PUSH SWAP SWAP AND SWAP DUP SWAP PUSH ADD PUSH JUMP JUMPDEST PUSH DUP AND PUSH EQ ISZERO PUSH JUMPI POP PUSH DUP SLOAD PUSH AND CALLER OR SWAP SSTORE PUSH PUSH JUMP JUMPDEST POP PUSH SWAP SWAP POP POP JUMP JUMPDEST PUSH MLOAD PUSH DUP MSTORE PUSH PUSH AND SWAP PUSH SWAP PUSH SWAP ADDRESS SWAP PUSH SWAP PUSH ADD PUSH JUMP JUMPDEST PUSH PUSH MLOAD DUP DUP SUB DUP PUSH DUP DUP EXTCODESIZE ISZERO DUP ISZERO PUSH JUMPI PUSH DUP REVERT JUMPDEST POP GAS CALL ISZERO DUP ISZERO PUSH JUMPI RETURNDATASIZE PUSH DUP RETURNDATACOPY RETURNDATASIZE PUSH REVERT JUMPDEST POP POP POP POP PUSH MLOAD RETURNDATASIZE PUSH NOT PUSH DUP ADD AND DUP ADD DUP PUSH MSTORE POP DUP ADD SWAP PUSH SWAP SWAP PUSH JUMP JUMPDEST PUSH DUP SLOAD PUSH AND PUSH SWAP SWAP SWAP AND SWAP SWAP SWAP OR SWAP SSTORE JUMP JUMPDEST ADDRESS PUSH DUP DUP MSTORE PUSH PUSH SWAP DUP MSTORE PUSH DUP DUP SHA PUSH PUSH AND DUP DUP MSTORE SWAP MSTORE SWAP DUP SWAP SHA PUSH SWAP SSTORE SWAP MLOAD PUSH DUP MSTORE SWAP SWAP PUSH SWAP DUP SWAP PUSH SWAP DUP SWAP DUP SWAP DUP SWAP DUP SWAP DUP SWAP PUSH ADD PUSH JUMP JUMPDEST PUSH PUSH MLOAD DUP DUP SUB DUP DUP DUP DUP EXTCODESIZE ISZERO DUP ISZERO PUSH JUMPI PUSH DUP REVERT JUMPDEST POP GAS CALL ISZERO DUP ISZERO PUSH JUMPI RETURNDATASIZE PUSH DUP RETURNDATACOPY RETURNDATASIZE PUSH REVERT JUMPDEST POP POP POP POP POP PUSH MLOAD RETURNDATASIZE PUSH NOT PUSH DUP ADD AND DUP ADD DUP PUSH MSTORE POP DUP ADD SWAP PUSH SWAP SWAP PUSH JUMP JUMPDEST POP POP POP POP POP POP JUMP JUMPDEST PUSH DUP SLOAD PUSH DUP AND SWAP SWAP SSTORE PUSH MLOAD PUSH DUP MSTORE PUSH SWAP SWAP AND SWAP PUSH SWAP PUSH SWAP PUSH SWAP DUP SWAP PUSH ADD PUSH JUMP JUMPDEST PUSH PUSH MLOAD DUP DUP SUB DUP PUSH DUP DUP EXTCODESIZE ISZERO DUP ISZERO PUSH JUMPI PUSH DUP REVERT JUMPDEST POP GAS CALL ISZERO DUP ISZERO PUSH JUMPI RETURNDATASIZE PUSH DUP RETURNDATACOPY RETURNDATASIZE PUSH REVERT JUMPDEST POP POP POP POP PUSH MLOAD RETURNDATASIZE PUSH NOT PUSH DUP ADD AND DUP ADD DUP PUSH MSTORE POP DUP ADD SWAP PUSH SWAP SWAP PUSH JUMP JUMPDEST POP PUSH DUP SLOAD PUSH MLOAD PUSH DUP MSTORE PUSH PUSH DUP AND SWAP PUSH SWAP PUSH SWAP ADDRESS SWAP DUP SWAP SWAP DUP SWAP SWAP AND SWAP DUP SWAP PUSH ADD PUSH JUMP JUMPDEST PUSH DUP MLOAD DUP DUP SUB DUP PUSH DUP DUP EXTCODESIZE ISZERO DUP ISZERO PUSH JUMPI PUSH DUP REVERT JUMPDEST POP GAS CALL ISZERO DUP ISZERO PUSH JUMPI RETURNDATASIZE PUSH DUP RETURNDATACOPY RETURNDATASIZE PUSH REVERT JUMPDEST POP POP POP POP PUSH MLOAD RETURNDATASIZE PUSH NOT PUSH DUP ADD AND DUP ADD DUP PUSH MSTORE POP DUP ADD SWAP PUSH SWAP SWAP PUSH JUMP JUMPDEST POP POP PUSH DUP SLOAD PUSH AND SWAP SSTORE POP POP JUMP JUMPDEST PUSH SLOAD PUSH SWAP DUP PUSH JUMP JUMPDEST PUSH SSTORE PUSH DUP AND PUSH SWAP DUP MSTORE PUSH PUSH MSTORE PUSH SWAP SHA SLOAD PUSH SWAP DUP PUSH JUMP JUMPDEST PUSH DUP AND PUSH DUP DUP MSTORE PUSH PUSH MSTORE PUSH DUP DUP SHA SWAP SWAP SWAP SSTORE SWAP MLOAD SWAP SWAP SWAP PUSH SWAP PUSH SWAP DUP SWAP PUSH JUMP JUMPDEST PUSH MLOAD DUP SWAP SUB SWAP LOG POP POP JUMP JUMPDEST PUSH PUSH DUP DUP SUB SLT ISZERO PUSH JUMPI DUP DUP REVERT JUMPDEST DUP CALLDATALOAD PUSH DUP PUSH JUMP JUMPDEST SWAP SWAP POP POP POP JUMP JUMPDEST PUSH PUSH DUP DUP SUB SLT ISZERO PUSH JUMPI DUP DUP REVERT JUMPDEST DUP MLOAD PUSH DUP PUSH JUMP JUMPDEST PUSH DUP PUSH DUP DUP SUB SLT ISZERO PUSH JUMPI DUP DUP REVERT JUMPDEST DUP CALLDATALOAD PUSH DUP PUSH JUMP JUMPDEST SWAP POP PUSH DUP ADD CALLDATALOAD PUSH DUP PUSH JUMP JUMPDEST DUP SWAP POP POP SWAP POP SWAP SWAP POP JUMP JUMPDEST PUSH DUP PUSH PUSH DUP DUP SUB SLT ISZERO PUSH JUMPI DUP DUP REVERT JUMPDEST DUP CALLDATALOAD PUSH DUP PUSH JUMP JUMPDEST SWAP POP PUSH DUP ADD CALLDATALOAD PUSH DUP PUSH JUMP JUMPDEST SWAP SWAP SWAP SWAP POP POP POP PUSH SWAP SWAP SWAP ADD CALLDATALOAD SWAP JUMP JUMPDEST PUSH DUP PUSH DUP DUP SUB SLT ISZERO PUSH JUMPI DUP DUP REVERT JUMPDEST DUP CALLDATALOAD PUSH DUP PUSH JUMP JUMPDEST SWAP PUSH SWAP SWAP SWAP ADD CALLDATALOAD SWAP POP POP POP JUMP JUMPDEST PUSH PUSH DUP DUP SUB SLT ISZERO PUSH JUMPI DUP DUP REVERT JUMPDEST DUP MLOAD DUP ISZERO ISZERO DUP EQ PUSH JUMPI DUP DUP REVERT JUMPDEST PUSH PUSH DUP DUP SUB SLT ISZERO PUSH JUMPI DUP DUP REVERT JUMPDEST POP MLOAD SWAP SWAP POP JUMP JUMPDEST PUSH DUP PUSH DUP DUP SUB SLT ISZERO PUSH JUMPI DUP DUP REVERT JUMPDEST POP POP DUP MLOAD PUSH SWAP SWAP ADD MLOAD SWAP SWAP SWAP SWAP POP JUMP JUMPDEST PUSH DUP PUSH PUSH DUP DUP SUB SLT ISZERO PUSH JUMPI DUP DUP REVERT JUMPDEST DUP MLOAD SWAP POP PUSH DUP ADD MLOAD SWAP POP PUSH DUP ADD MLOAD SWAP POP SWAP POP SWAP POP SWAP JUMP JUMPDEST PUSH SWAP SWAP SWAP AND DUP MSTORE PUSH ADD SWAP JUMP JUMPDEST PUSH SWAP DUP AND DUP MSTORE SWAP AND PUSH DUP ADD MSTORE PUSH ADD SWAP JUMP JUMPDEST PUSH SWAP SWAP SWAP AND DUP MSTORE PUSH DUP ADD MSTORE PUSH ADD SWAP JUMP JUMPDEST PUSH SWAP DUP AND DUP MSTORE PUSH DUP ADD SWAP SWAP SWAP MSTORE PUSH DUP ADD SWAP SWAP SWAP MSTORE PUSH DUP ADD SWAP SWAP SWAP MSTORE SWAP SWAP AND PUSH DUP ADD MSTORE PUSH DUP ADD SWAP SWAP SWAP MSTORE PUSH ADD SWAP JUMP JUMPDEST SWAP ISZERO ISZERO DUP MSTORE PUSH ADD SWAP JUMP JUMPDEST PUSH PUSH DUP DUP MSTORE DUP MLOAD DUP DUP DUP ADD MSTORE DUP JUMPDEST DUP DUP LT ISZERO PUSH JUMPI DUP DUP ADD DUP ADD MLOAD DUP DUP ADD PUSH ADD MSTORE DUP ADD PUSH JUMP JUMPDEST DUP DUP GT ISZERO PUSH JUMPI DUP PUSH DUP DUP ADD ADD MSTORE JUMPDEST POP PUSH ADD PUSH AND SWAP SWAP SWAP ADD PUSH ADD SWAP SWAP POP POP POP JUMP JUMPDEST PUSH DUP DUP MSTORE PUSH SWAP DUP ADD MSTORE PUSH PUSH DUP ADD MSTORE PUSH ADD SWAP JUMP JUMPDEST PUSH DUP DUP MSTORE PUSH SWAP DUP ADD MSTORE PUSH PUSH DUP ADD MSTORE PUSH ADD SWAP JUMP JUMPDEST PUSH DUP DUP MSTORE PUSH SWAP DUP ADD MSTORE PUSH PUSH DUP ADD MSTORE PUSH ADD SWAP JUMP JUMPDEST SWAP DUP MSTORE PUSH ADD SWAP JUMP JUMPDEST PUSH SWAP SWAP SWAP AND DUP MSTORE PUSH ADD SWAP JUMP JUMPDEST PUSH DUP NOT DUP GT ISZERO PUSH JUMPI PUSH PUSH JUMP JUMPDEST POP ADD SWAP JUMP JUMPDEST PUSH DUP DUP LT ISZERO PUSH JUMPI PUSH PUSH JUMP JUMPDEST POP SUB SWAP JUMP JUMPDEST PUSH PUSH MSTORE PUSH PUSH MSTORE PUSH PUSH REVERT JUMPDEST PUSH DUP AND DUP EQ PUSH JUMPI PUSH DUP REVERT JUMPDEST POP JUMP LOG PUSH SLT SHA SIGNEXTEND MSIZE EXTCODESIZE PUSH'"
      ]
     },
     "execution_count": 8,
     "metadata": {},
     "output_type": "execute_result"
    }
   ],
   "source": [
    "data['opcodes'][1]"
   ]
  },
  {
   "cell_type": "markdown",
   "metadata": {},
   "source": [
    "## Feature Extraction"
   ]
  },
  {
   "cell_type": "code",
   "execution_count": 9,
   "metadata": {},
   "outputs": [],
   "source": [
    "from collections import defaultdict\n",
    "\n",
    "def extract_reentrancy_features(opcodes):\n",
    "    # Tokenize the opcode sequence\n",
    "    tokens = opcodes.split()\n",
    "\n",
    "    # Initialize block features\n",
    "    nodes = set(tokens)\n",
    "    edges = defaultdict(list)\n",
    "    in_degree = defaultdict(int)\n",
    "    out_degree = defaultdict(int)\n",
    "\n",
    "    # Initialize attribute features\n",
    "    features = {\n",
    "        'external_call_presence': False,\n",
    "        'state_change_after_call': False,\n",
    "        'recursive_call_potential': False,\n",
    "        'gas_forwarding': False,\n",
    "        'arithmetic_count': 0,\n",
    "        'logical_count': 0,\n",
    "        'comparison_count': 0,\n",
    "        'storage_count': 0,\n",
    "        'control_flow_count': 0\n",
    "    }\n",
    "\n",
    "    # Opcode categories\n",
    "    external_calls = {'CALL', 'CALLCODE', 'DELEGATECALL', 'STATICCALL'}\n",
    "    state_changes = {'SSTORE', 'MSTORE'}\n",
    "    gas_management = {'GAS', 'CALLGAS'}\n",
    "    arithmetic_ops = {'ADD', 'SUB', 'MUL', 'DIV', 'EXP'}\n",
    "    logical_ops = {'AND', 'OR', 'XOR', 'NOT'}\n",
    "    comparison_ops = {'EQ', 'LT', 'GT', 'SLT', 'SGT'}\n",
    "    control_flow = {'JUMP', 'JUMPI', 'JUMPDEST'}\n",
    "\n",
    "    # Process opcodes to extract features\n",
    "    for i, op in enumerate(tokens):\n",
    "        # External call presence\n",
    "        if op in external_calls:\n",
    "            features['external_call_presence'] = True\n",
    "\n",
    "        # State change after external call\n",
    "        if op in state_changes:\n",
    "            if any(tokens[j] in external_calls for j in range(i)):\n",
    "                features['state_change_after_call'] = True\n",
    "\n",
    "        # Recursive call potential\n",
    "        if op in control_flow:\n",
    "            features['recursive_call_potential'] = True\n",
    "\n",
    "        # Gas forwarding\n",
    "        if op in gas_management:\n",
    "            features['gas_forwarding'] = True\n",
    "\n",
    "        # Count opcode categories\n",
    "        if op in arithmetic_ops:\n",
    "            features['arithmetic_count'] += 1\n",
    "        elif op in logical_ops:\n",
    "            features['logical_count'] += 1\n",
    "        elif op in comparison_ops:\n",
    "            features['comparison_count'] += 1\n",
    "        elif op in state_changes:\n",
    "            features['storage_count'] += 1\n",
    "        elif op in control_flow:\n",
    "            features['control_flow_count'] += 1\n",
    "\n",
    "        # Build edges for block features\n",
    "        if i < len(tokens) - 1:\n",
    "            edges[op].append(tokens[i + 1])\n",
    "            out_degree[op] += 1\n",
    "            in_degree[tokens[i + 1]] += 1\n",
    "\n",
    "    # Maximum in/out degree\n",
    "    max_in_degree = max(in_degree.values()) if in_degree else 0\n",
    "    max_out_degree = max(out_degree.values()) if out_degree else 0\n",
    "\n",
    "    block_features = {\n",
    "        'nodes': list(nodes),\n",
    "        'edges': dict(edges),\n",
    "        'max_in_degree': max_in_degree,\n",
    "        'max_out_degree': max_out_degree,\n",
    "    }\n",
    "\n",
    "    return block_features, features\n"
   ]
  },
  {
   "cell_type": "code",
   "execution_count": 10,
   "metadata": {},
   "outputs": [],
   "source": [
    "def extract_gas_limit_features(opcodes):\n",
    "    # Tokenize the opcode sequence\n",
    "    tokens = opcodes.split()\n",
    "\n",
    "    # Initialize block features\n",
    "    nodes = set(tokens)\n",
    "    edges = defaultdict(list)\n",
    "    in_degree = defaultdict(int)\n",
    "    out_degree = defaultdict(int)\n",
    "\n",
    "    # Initialize attribute features\n",
    "    features = {\n",
    "        'gas_related_opcodes': 0,\n",
    "        'expensive_operations_count': 0,\n",
    "        'state_change_count': 0,\n",
    "        'loop_count': 0,\n",
    "        'arithmetic_count': 0,\n",
    "        'logical_count': 0,\n",
    "        'comparison_count': 0,\n",
    "        'control_flow_count': 0\n",
    "    }\n",
    "\n",
    "    # Opcode categories\n",
    "    gas_related = {'GAS', 'CALLGAS'}\n",
    "    state_changes = {'SSTORE', 'MSTORE'}\n",
    "    expensive_ops = {'EXP', 'SHA3', 'LOG0', 'LOG1', 'LOG2', 'LOG3', 'LOG4'}\n",
    "    arithmetic_ops = {'ADD', 'SUB', 'MUL', 'DIV', 'EXP'}\n",
    "    logical_ops = {'AND', 'OR', 'XOR', 'NOT'}\n",
    "    comparison_ops = {'EQ', 'LT', 'GT', 'SLT', 'SGT'}\n",
    "    control_flow = {'JUMP', 'JUMPI', 'JUMPDEST'}\n",
    "\n",
    "    # Process opcodes to extract features\n",
    "    for i, op in enumerate(tokens):\n",
    "        # Count gas-related opcodes\n",
    "        if op in gas_related:\n",
    "            features['gas_related_opcodes'] += 1\n",
    "\n",
    "        # Count expensive operations\n",
    "        if op in expensive_ops:\n",
    "            features['expensive_operations_count'] += 1\n",
    "\n",
    "        # Count state-changing opcodes\n",
    "        if op in state_changes:\n",
    "            features['state_change_count'] += 1\n",
    "\n",
    "        # Count loops (control flow opcodes)\n",
    "        if op in control_flow:\n",
    "            features['loop_count'] += 1\n",
    "\n",
    "        # Count opcode categories\n",
    "        if op in arithmetic_ops:\n",
    "            features['arithmetic_count'] += 1\n",
    "        elif op in logical_ops:\n",
    "            features['logical_count'] += 1\n",
    "        elif op in comparison_ops:\n",
    "            features['comparison_count'] += 1\n",
    "\n",
    "        # Build edges for block features\n",
    "        if i < len(tokens) - 1:\n",
    "            edges[op].append(tokens[i + 1])\n",
    "            out_degree[op] += 1\n",
    "            in_degree[tokens[i + 1]] += 1\n",
    "\n",
    "    # Maximum in/out degree\n",
    "    max_in_degree = max(in_degree.values()) if in_degree else 0\n",
    "    max_out_degree = max(out_degree.values()) if out_degree else 0\n",
    "\n",
    "    block_features = {\n",
    "        'nodes': list(nodes),\n",
    "        'edges': dict(edges),\n",
    "        'max_in_degree': max_in_degree,\n",
    "        'max_out_degree': max_out_degree,\n",
    "    }\n",
    "\n",
    "    return block_features, features"
   ]
  },
  {
   "cell_type": "code",
   "execution_count": 11,
   "metadata": {},
   "outputs": [],
   "source": [
    "def extract_integer_overflow_features(opcodes):\n",
    "    # Tokenize the opcode sequence\n",
    "    tokens = opcodes.split()\n",
    "\n",
    "    # Initialize block features\n",
    "    nodes = set(tokens)\n",
    "    edges = defaultdict(list)\n",
    "    in_degree = defaultdict(int)\n",
    "    out_degree = defaultdict(int)\n",
    "\n",
    "    # Initialize attribute features\n",
    "    features = {\n",
    "        'node_count': len(nodes),\n",
    "        'edge_count': 0,\n",
    "        'max_out_degree': 0,\n",
    "        'max_in_degree': 0,\n",
    "        'unary_arithmetic_ratio': 0.0,\n",
    "        'binary_arithmetic_ratio': 0.0,\n",
    "        'block_ratio': 0.0,\n",
    "        'control_flow_ratio': 0.0,\n",
    "        'environment_ratio': 0.0,\n",
    "        'system_ratio': 0.0,\n",
    "        'stack_ratio': 0.0,\n",
    "        'invalid_ratio': 0.0\n",
    "    }\n",
    "\n",
    "    # Opcode categories\n",
    "    unary_arithmetic_ops = {'ISZERO', 'NOT'}\n",
    "    binary_arithmetic_ops = {'ADD', 'SUB', 'MUL', 'DIV', 'AND', 'SHA3'}\n",
    "    block_related_ops = {'NUMBER', 'BLOCKHASH', 'COINBASE', 'TIMESTAMP'}\n",
    "    control_flow_ops = {'JUMP', 'JUMPI', 'JUMPDEST'}\n",
    "    environment_ops = {'CALLER', 'CALLDATASIZE', 'ORIGIN'}\n",
    "    system_ops = {'CALL', 'RETURN', 'REVERT', 'SELFDESTRUCT'}\n",
    "    stack_ops = {'PUSH', 'POP', 'SWAP'}\n",
    "    invalid_ops = {'INVALID'}\n",
    "\n",
    "    # Counters for each category\n",
    "    opcode_counts = {\n",
    "        'unary_arithmetic': 0,\n",
    "        'binary_arithmetic': 0,\n",
    "        'block_related': 0,\n",
    "        'control_flow': 0,\n",
    "        'environment': 0,\n",
    "        'system': 0,\n",
    "        'stack': 0,\n",
    "        'invalid': 0\n",
    "    }\n",
    "\n",
    "    # Count opcodes by category\n",
    "    for i, op in enumerate(tokens):\n",
    "        if op in unary_arithmetic_ops:\n",
    "            opcode_counts['unary_arithmetic'] += 1\n",
    "        elif op in binary_arithmetic_ops:\n",
    "            opcode_counts['binary_arithmetic'] += 1\n",
    "        elif op in block_related_ops:\n",
    "            opcode_counts['block_related'] += 1\n",
    "        elif op in control_flow_ops:\n",
    "            opcode_counts['control_flow'] += 1\n",
    "        elif op in environment_ops:\n",
    "            opcode_counts['environment'] += 1\n",
    "        elif op in system_ops:\n",
    "            opcode_counts['system'] += 1\n",
    "        elif op in stack_ops:\n",
    "            opcode_counts['stack'] += 1\n",
    "        elif op in invalid_ops:\n",
    "            opcode_counts['invalid'] += 1\n",
    "\n",
    "        # Build edges for block features\n",
    "        if i < len(tokens) - 1:\n",
    "            edges[op].append(tokens[i + 1])\n",
    "            out_degree[op] += 1\n",
    "            in_degree[tokens[i + 1]] += 1\n",
    "\n",
    "    # Calculate block features\n",
    "    features['edge_count'] = sum(len(v) for v in edges.values())\n",
    "    features['max_out_degree'] = max(out_degree.values()) if out_degree else 0\n",
    "    features['max_in_degree'] = max(in_degree.values()) if in_degree else 0\n",
    "\n",
    "    # Calculate ratios for attribute features\n",
    "    total_opcodes = len(tokens)\n",
    "    if total_opcodes > 0:\n",
    "        features['unary_arithmetic_ratio'] = opcode_counts['unary_arithmetic'] / total_opcodes\n",
    "        features['binary_arithmetic_ratio'] = opcode_counts['binary_arithmetic'] / total_opcodes\n",
    "        features['block_ratio'] = opcode_counts['block_related'] / total_opcodes\n",
    "        features['control_flow_ratio'] = opcode_counts['control_flow'] / total_opcodes\n",
    "        features['environment_ratio'] = opcode_counts['environment'] / total_opcodes\n",
    "        features['system_ratio'] = opcode_counts['system'] / total_opcodes\n",
    "        features['stack_ratio'] = opcode_counts['stack'] / total_opcodes\n",
    "        features['invalid_ratio'] = opcode_counts['invalid'] / total_opcodes\n",
    "\n",
    "    return {\n",
    "        'block_features': {\n",
    "            'nodes': list(nodes),\n",
    "            'edges': dict(edges),\n",
    "            'max_in_degree': features['max_in_degree'],\n",
    "            'max_out_degree': features['max_out_degree']\n",
    "        },\n",
    "        'attribute_features': {\n",
    "            'unary_arithmetic_ratio': features['unary_arithmetic_ratio'],\n",
    "            'binary_arithmetic_ratio': features['binary_arithmetic_ratio'],\n",
    "            'block_ratio': features['block_ratio'],\n",
    "            'control_flow_ratio': features['control_flow_ratio'],\n",
    "            'environment_ratio': features['environment_ratio'],\n",
    "            'system_ratio': features['system_ratio'],\n",
    "            'stack_ratio': features['stack_ratio'],\n",
    "            'invalid_ratio': features['invalid_ratio']\n",
    "        }\n",
    "    }"
   ]
  },
  {
   "cell_type": "code",
   "execution_count": 12,
   "metadata": {},
   "outputs": [
    {
     "data": {
      "text/html": [
       "<div>\n",
       "<style scoped>\n",
       "    .dataframe tbody tr th:only-of-type {\n",
       "        vertical-align: middle;\n",
       "    }\n",
       "\n",
       "    .dataframe tbody tr th {\n",
       "        vertical-align: top;\n",
       "    }\n",
       "\n",
       "    .dataframe thead th {\n",
       "        text-align: right;\n",
       "    }\n",
       "</style>\n",
       "<table border=\"1\" class=\"dataframe\">\n",
       "  <thead>\n",
       "    <tr style=\"text-align: right;\">\n",
       "      <th></th>\n",
       "      <th>opcodes</th>\n",
       "      <th>label</th>\n",
       "      <th>block_features</th>\n",
       "      <th>attribute_features</th>\n",
       "    </tr>\n",
       "  </thead>\n",
       "  <tbody>\n",
       "    <tr>\n",
       "      <th>0</th>\n",
       "      <td>PUSH PUSH MSTORE CALLDATASIZE ISZERO PUSH JUMP...</td>\n",
       "      <td>clean</td>\n",
       "      <td>{'nodes': [], 'edges': {}, 'max_in_degree': 0,...</td>\n",
       "      <td>{'external_call_presence': False, 'state_chang...</td>\n",
       "    </tr>\n",
       "    <tr>\n",
       "      <th>1</th>\n",
       "      <td>PUSH PUSH MSTORE CALLVALUE DUP ISZERO PUSH JUM...</td>\n",
       "      <td>clean</td>\n",
       "      <td>{'nodes': [], 'edges': {}, 'max_in_degree': 0,...</td>\n",
       "      <td>{'external_call_presence': False, 'state_chang...</td>\n",
       "    </tr>\n",
       "    <tr>\n",
       "      <th>2</th>\n",
       "      <td>PUSH PUSH MSTORE PUSH DUP SLOAD PUSH PUSH PUSH...</td>\n",
       "      <td>gaslimit</td>\n",
       "      <td>{'nodes': ['SLOAD', 'SSTORE', 'ADD', 'SHA', 'L...</td>\n",
       "      <td>{'gas_related_opcodes': 0, 'expensive_operatio...</td>\n",
       "    </tr>\n",
       "    <tr>\n",
       "      <th>3</th>\n",
       "      <td>PUSH PUSH MSTORE PUSH PUSH SSTORE CALLVALUE PU...</td>\n",
       "      <td>integeroverflow</td>\n",
       "      <td>{'nodes': ['SSTORE', 'SLOAD', 'ADD', 'SHA', 'L...</td>\n",
       "      <td>{'unary_arithmetic_ratio': 0.0, 'binary_arithm...</td>\n",
       "    </tr>\n",
       "    <tr>\n",
       "      <th>4</th>\n",
       "      <td>PUSH PUSH MSTORE CALLVALUE DUP ISZERO PUSH JUM...</td>\n",
       "      <td>clean</td>\n",
       "      <td>{'nodes': [], 'edges': {}, 'max_in_degree': 0,...</td>\n",
       "      <td>{'external_call_presence': False, 'state_chang...</td>\n",
       "    </tr>\n",
       "  </tbody>\n",
       "</table>\n",
       "</div>"
      ],
      "text/plain": [
       "                                             opcodes            label  \\\n",
       "0  PUSH PUSH MSTORE CALLDATASIZE ISZERO PUSH JUMP...            clean   \n",
       "1  PUSH PUSH MSTORE CALLVALUE DUP ISZERO PUSH JUM...            clean   \n",
       "2  PUSH PUSH MSTORE PUSH DUP SLOAD PUSH PUSH PUSH...         gaslimit   \n",
       "3  PUSH PUSH MSTORE PUSH PUSH SSTORE CALLVALUE PU...  integeroverflow   \n",
       "4  PUSH PUSH MSTORE CALLVALUE DUP ISZERO PUSH JUM...            clean   \n",
       "\n",
       "                                      block_features  \\\n",
       "0  {'nodes': [], 'edges': {}, 'max_in_degree': 0,...   \n",
       "1  {'nodes': [], 'edges': {}, 'max_in_degree': 0,...   \n",
       "2  {'nodes': ['SLOAD', 'SSTORE', 'ADD', 'SHA', 'L...   \n",
       "3  {'nodes': ['SSTORE', 'SLOAD', 'ADD', 'SHA', 'L...   \n",
       "4  {'nodes': [], 'edges': {}, 'max_in_degree': 0,...   \n",
       "\n",
       "                                  attribute_features  \n",
       "0  {'external_call_presence': False, 'state_chang...  \n",
       "1  {'external_call_presence': False, 'state_chang...  \n",
       "2  {'gas_related_opcodes': 0, 'expensive_operatio...  \n",
       "3  {'unary_arithmetic_ratio': 0.0, 'binary_arithm...  \n",
       "4  {'external_call_presence': False, 'state_chang...  "
      ]
     },
     "execution_count": 12,
     "metadata": {},
     "output_type": "execute_result"
    }
   ],
   "source": [
    "# Extract features based on label\n",
    "def extract_features_by_label(row):\n",
    "    # Initialize default values\n",
    "    block_features = None\n",
    "    attribute_features = None\n",
    "    \n",
    "    try:\n",
    "        if row['label'] == 'reentrancy':\n",
    "            block_features, attribute_features = extract_reentrancy_features(row['opcodes'])\n",
    "        elif row['label'] == 'gaslimit':\n",
    "            block_features, attribute_features = extract_gas_limit_features(row['opcodes'])\n",
    "        elif row['label'] == 'integeroverflow':\n",
    "            features = extract_integer_overflow_features(row['opcodes'])\n",
    "            block_features = features['block_features']\n",
    "            attribute_features = features['attribute_features']\n",
    "        elif row['label'] == 'clean':\n",
    "            # Handle clean samples with default features\n",
    "            block_features = {\n",
    "                'nodes': [],\n",
    "                'edges': {},\n",
    "                'max_in_degree': 0,\n",
    "                'max_out_degree': 0\n",
    "            }\n",
    "            attribute_features = {\n",
    "                'external_call_presence': False,\n",
    "                'state_change_after_call': False,\n",
    "                'recursive_call_potential': False,\n",
    "                'gas_forwarding': False,\n",
    "                'arithmetic_count': 0,\n",
    "                'logical_count': 0,\n",
    "                'comparison_count': 0,\n",
    "                'storage_count': 0,\n",
    "                'control_flow_count': 0\n",
    "            }\n",
    "        else:\n",
    "            raise ValueError(f\"Unknown label: {row['label']}\")\n",
    "            \n",
    "        return pd.Series({\n",
    "            'block_features': block_features,\n",
    "            'attribute_features': attribute_features\n",
    "        })\n",
    "        \n",
    "    except Exception as e:\n",
    "        print(f\"Error processing row with label {row['label']}: {str(e)}\")\n",
    "        # Return default features in case of error\n",
    "        return pd.Series({\n",
    "            'block_features': {\n",
    "                'nodes': [],\n",
    "                'edges': {},\n",
    "                'max_in_degree': 0,\n",
    "                'max_out_degree': 0\n",
    "            },\n",
    "            'attribute_features': {\n",
    "                'external_call_presence': False,\n",
    "                'state_change_after_call': False,\n",
    "                'recursive_call_potential': False,\n",
    "                'gas_forwarding': False,\n",
    "                'arithmetic_count': 0,\n",
    "                'logical_count': 0,\n",
    "                'comparison_count': 0,\n",
    "                'storage_count': 0,\n",
    "                'control_flow_count': 0\n",
    "            }\n",
    "        })\n",
    "\n",
    "# Apply the extraction function to each row\n",
    "features_df = data.apply(extract_features_by_label, axis=1)\n",
    "\n",
    "# Split the features into separate columns\n",
    "data['block_features'] = features_df['block_features']\n",
    "data['attribute_features'] = features_df['attribute_features']\n",
    "\n",
    "# Display the first few rows to verify\n",
    "data.head() "
   ]
  },
  {
   "cell_type": "code",
   "execution_count": null,
   "metadata": {},
   "outputs": [],
   "source": []
  },
  {
   "cell_type": "code",
   "execution_count": 13,
   "metadata": {},
   "outputs": [
    {
     "data": {
      "text/html": [
       "<div>\n",
       "<style scoped>\n",
       "    .dataframe tbody tr th:only-of-type {\n",
       "        vertical-align: middle;\n",
       "    }\n",
       "\n",
       "    .dataframe tbody tr th {\n",
       "        vertical-align: top;\n",
       "    }\n",
       "\n",
       "    .dataframe thead th {\n",
       "        text-align: right;\n",
       "    }\n",
       "</style>\n",
       "<table border=\"1\" class=\"dataframe\">\n",
       "  <thead>\n",
       "    <tr style=\"text-align: right;\">\n",
       "      <th></th>\n",
       "      <th>opcodes</th>\n",
       "      <th>label</th>\n",
       "      <th>block_features</th>\n",
       "      <th>attribute_features</th>\n",
       "    </tr>\n",
       "  </thead>\n",
       "  <tbody>\n",
       "    <tr>\n",
       "      <th>0</th>\n",
       "      <td>PUSH PUSH MSTORE CALLDATASIZE ISZERO PUSH JUMP...</td>\n",
       "      <td>clean</td>\n",
       "      <td>{'nodes': [], 'edges': {}, 'max_in_degree': 0,...</td>\n",
       "      <td>{'external_call_presence': False, 'state_chang...</td>\n",
       "    </tr>\n",
       "    <tr>\n",
       "      <th>1</th>\n",
       "      <td>PUSH PUSH MSTORE CALLVALUE DUP ISZERO PUSH JUM...</td>\n",
       "      <td>clean</td>\n",
       "      <td>{'nodes': [], 'edges': {}, 'max_in_degree': 0,...</td>\n",
       "      <td>{'external_call_presence': False, 'state_chang...</td>\n",
       "    </tr>\n",
       "    <tr>\n",
       "      <th>2</th>\n",
       "      <td>PUSH PUSH MSTORE PUSH DUP SLOAD PUSH PUSH PUSH...</td>\n",
       "      <td>gaslimit</td>\n",
       "      <td>{'nodes': ['SLOAD', 'SSTORE', 'ADD', 'SHA', 'L...</td>\n",
       "      <td>{'gas_related_opcodes': 0, 'expensive_operatio...</td>\n",
       "    </tr>\n",
       "    <tr>\n",
       "      <th>3</th>\n",
       "      <td>PUSH PUSH MSTORE PUSH PUSH SSTORE CALLVALUE PU...</td>\n",
       "      <td>integeroverflow</td>\n",
       "      <td>{'nodes': ['SSTORE', 'SLOAD', 'ADD', 'SHA', 'L...</td>\n",
       "      <td>{'unary_arithmetic_ratio': 0.0, 'binary_arithm...</td>\n",
       "    </tr>\n",
       "    <tr>\n",
       "      <th>4</th>\n",
       "      <td>PUSH PUSH MSTORE CALLVALUE DUP ISZERO PUSH JUM...</td>\n",
       "      <td>clean</td>\n",
       "      <td>{'nodes': [], 'edges': {}, 'max_in_degree': 0,...</td>\n",
       "      <td>{'external_call_presence': False, 'state_chang...</td>\n",
       "    </tr>\n",
       "    <tr>\n",
       "      <th>...</th>\n",
       "      <td>...</td>\n",
       "      <td>...</td>\n",
       "      <td>...</td>\n",
       "      <td>...</td>\n",
       "    </tr>\n",
       "    <tr>\n",
       "      <th>2395</th>\n",
       "      <td>PUSH PUSH MSTORE CALLVALUE ISZERO PUSH JUMPI J...</td>\n",
       "      <td>integeroverflow</td>\n",
       "      <td>{'nodes': ['SSTORE', 'SLOAD', 'ADD', 'SHA', 'L...</td>\n",
       "      <td>{'unary_arithmetic_ratio': 0.0273972602739726,...</td>\n",
       "    </tr>\n",
       "    <tr>\n",
       "      <th>2396</th>\n",
       "      <td>PUSH PUSH MSTORE CALLVALUE ISZERO PUSH JUMPI P...</td>\n",
       "      <td>gaslimit</td>\n",
       "      <td>{'nodes': ['SSTORE', 'SLOAD', 'ADD', 'SHA', 'L...</td>\n",
       "      <td>{'gas_related_opcodes': 0, 'expensive_operatio...</td>\n",
       "    </tr>\n",
       "    <tr>\n",
       "      <th>2397</th>\n",
       "      <td>PUSH PUSH MSTORE PUSH PUSH DUP SWAP MSTORE PUS...</td>\n",
       "      <td>gaslimit</td>\n",
       "      <td>{'nodes': ['SSTORE', 'SLOAD', 'ADD', 'SHA', 'L...</td>\n",
       "      <td>{'gas_related_opcodes': 0, 'expensive_operatio...</td>\n",
       "    </tr>\n",
       "    <tr>\n",
       "      <th>2398</th>\n",
       "      <td>PUSH PUSH MSTORE CALLVALUE ISZERO PUSH JUMPI J...</td>\n",
       "      <td>integeroverflow</td>\n",
       "      <td>{'nodes': ['SHA', 'LOG', 'JUMPDEST', 'CREATE',...</td>\n",
       "      <td>{'unary_arithmetic_ratio': 0.08450704225352113...</td>\n",
       "    </tr>\n",
       "    <tr>\n",
       "      <th>2399</th>\n",
       "      <td>PUSH PUSH MSTORE PUSH PUSH MSTORE PUSH PUSH MS...</td>\n",
       "      <td>gaslimit</td>\n",
       "      <td>{'nodes': ['SLOAD', 'SSTORE', 'ADD', 'SHA', 'L...</td>\n",
       "      <td>{'gas_related_opcodes': 1, 'expensive_operatio...</td>\n",
       "    </tr>\n",
       "  </tbody>\n",
       "</table>\n",
       "<p>2400 rows × 4 columns</p>\n",
       "</div>"
      ],
      "text/plain": [
       "                                                opcodes            label  \\\n",
       "0     PUSH PUSH MSTORE CALLDATASIZE ISZERO PUSH JUMP...            clean   \n",
       "1     PUSH PUSH MSTORE CALLVALUE DUP ISZERO PUSH JUM...            clean   \n",
       "2     PUSH PUSH MSTORE PUSH DUP SLOAD PUSH PUSH PUSH...         gaslimit   \n",
       "3     PUSH PUSH MSTORE PUSH PUSH SSTORE CALLVALUE PU...  integeroverflow   \n",
       "4     PUSH PUSH MSTORE CALLVALUE DUP ISZERO PUSH JUM...            clean   \n",
       "...                                                 ...              ...   \n",
       "2395  PUSH PUSH MSTORE CALLVALUE ISZERO PUSH JUMPI J...  integeroverflow   \n",
       "2396  PUSH PUSH MSTORE CALLVALUE ISZERO PUSH JUMPI P...         gaslimit   \n",
       "2397  PUSH PUSH MSTORE PUSH PUSH DUP SWAP MSTORE PUS...         gaslimit   \n",
       "2398  PUSH PUSH MSTORE CALLVALUE ISZERO PUSH JUMPI J...  integeroverflow   \n",
       "2399  PUSH PUSH MSTORE PUSH PUSH MSTORE PUSH PUSH MS...         gaslimit   \n",
       "\n",
       "                                         block_features  \\\n",
       "0     {'nodes': [], 'edges': {}, 'max_in_degree': 0,...   \n",
       "1     {'nodes': [], 'edges': {}, 'max_in_degree': 0,...   \n",
       "2     {'nodes': ['SLOAD', 'SSTORE', 'ADD', 'SHA', 'L...   \n",
       "3     {'nodes': ['SSTORE', 'SLOAD', 'ADD', 'SHA', 'L...   \n",
       "4     {'nodes': [], 'edges': {}, 'max_in_degree': 0,...   \n",
       "...                                                 ...   \n",
       "2395  {'nodes': ['SSTORE', 'SLOAD', 'ADD', 'SHA', 'L...   \n",
       "2396  {'nodes': ['SSTORE', 'SLOAD', 'ADD', 'SHA', 'L...   \n",
       "2397  {'nodes': ['SSTORE', 'SLOAD', 'ADD', 'SHA', 'L...   \n",
       "2398  {'nodes': ['SHA', 'LOG', 'JUMPDEST', 'CREATE',...   \n",
       "2399  {'nodes': ['SLOAD', 'SSTORE', 'ADD', 'SHA', 'L...   \n",
       "\n",
       "                                     attribute_features  \n",
       "0     {'external_call_presence': False, 'state_chang...  \n",
       "1     {'external_call_presence': False, 'state_chang...  \n",
       "2     {'gas_related_opcodes': 0, 'expensive_operatio...  \n",
       "3     {'unary_arithmetic_ratio': 0.0, 'binary_arithm...  \n",
       "4     {'external_call_presence': False, 'state_chang...  \n",
       "...                                                 ...  \n",
       "2395  {'unary_arithmetic_ratio': 0.0273972602739726,...  \n",
       "2396  {'gas_related_opcodes': 0, 'expensive_operatio...  \n",
       "2397  {'gas_related_opcodes': 0, 'expensive_operatio...  \n",
       "2398  {'unary_arithmetic_ratio': 0.08450704225352113...  \n",
       "2399  {'gas_related_opcodes': 1, 'expensive_operatio...  \n",
       "\n",
       "[2400 rows x 4 columns]"
      ]
     },
     "execution_count": 13,
     "metadata": {},
     "output_type": "execute_result"
    }
   ],
   "source": [
    "data"
   ]
  },
  {
   "cell_type": "code",
   "execution_count": 14,
   "metadata": {},
   "outputs": [
    {
     "data": {
      "text/html": [
       "<div>\n",
       "<style scoped>\n",
       "    .dataframe tbody tr th:only-of-type {\n",
       "        vertical-align: middle;\n",
       "    }\n",
       "\n",
       "    .dataframe tbody tr th {\n",
       "        vertical-align: top;\n",
       "    }\n",
       "\n",
       "    .dataframe thead th {\n",
       "        text-align: right;\n",
       "    }\n",
       "</style>\n",
       "<table border=\"1\" class=\"dataframe\">\n",
       "  <thead>\n",
       "    <tr style=\"text-align: right;\">\n",
       "      <th></th>\n",
       "      <th>opcodes</th>\n",
       "      <th>label</th>\n",
       "      <th>block_features</th>\n",
       "      <th>attribute_features</th>\n",
       "      <th>combined_features</th>\n",
       "    </tr>\n",
       "  </thead>\n",
       "  <tbody>\n",
       "    <tr>\n",
       "      <th>0</th>\n",
       "      <td>PUSH PUSH MSTORE CALLDATASIZE ISZERO PUSH JUMP...</td>\n",
       "      <td>clean</td>\n",
       "      <td>{'nodes': [], 'edges': {}, 'max_in_degree': 0,...</td>\n",
       "      <td>{'external_call_presence': False, 'state_chang...</td>\n",
       "      <td>{'num_nodes': 0, 'num_edges': 0, 'max_in_degre...</td>\n",
       "    </tr>\n",
       "    <tr>\n",
       "      <th>1</th>\n",
       "      <td>PUSH PUSH MSTORE CALLVALUE DUP ISZERO PUSH JUM...</td>\n",
       "      <td>clean</td>\n",
       "      <td>{'nodes': [], 'edges': {}, 'max_in_degree': 0,...</td>\n",
       "      <td>{'external_call_presence': False, 'state_chang...</td>\n",
       "      <td>{'num_nodes': 0, 'num_edges': 0, 'max_in_degre...</td>\n",
       "    </tr>\n",
       "    <tr>\n",
       "      <th>2</th>\n",
       "      <td>PUSH PUSH MSTORE PUSH DUP SLOAD PUSH PUSH PUSH...</td>\n",
       "      <td>gaslimit</td>\n",
       "      <td>{'nodes': ['SLOAD', 'SSTORE', 'ADD', 'SHA', 'L...</td>\n",
       "      <td>{'gas_related_opcodes': 0, 'expensive_operatio...</td>\n",
       "      <td>{'num_nodes': 35, 'num_edges': 382, 'max_in_de...</td>\n",
       "    </tr>\n",
       "    <tr>\n",
       "      <th>3</th>\n",
       "      <td>PUSH PUSH MSTORE PUSH PUSH SSTORE CALLVALUE PU...</td>\n",
       "      <td>integeroverflow</td>\n",
       "      <td>{'nodes': ['SSTORE', 'SLOAD', 'ADD', 'SHA', 'L...</td>\n",
       "      <td>{'unary_arithmetic_ratio': 0.0, 'binary_arithm...</td>\n",
       "      <td>{'num_nodes': 27, 'num_edges': 304, 'max_in_de...</td>\n",
       "    </tr>\n",
       "    <tr>\n",
       "      <th>4</th>\n",
       "      <td>PUSH PUSH MSTORE CALLVALUE DUP ISZERO PUSH JUM...</td>\n",
       "      <td>clean</td>\n",
       "      <td>{'nodes': [], 'edges': {}, 'max_in_degree': 0,...</td>\n",
       "      <td>{'external_call_presence': False, 'state_chang...</td>\n",
       "      <td>{'num_nodes': 0, 'num_edges': 0, 'max_in_degre...</td>\n",
       "    </tr>\n",
       "    <tr>\n",
       "      <th>...</th>\n",
       "      <td>...</td>\n",
       "      <td>...</td>\n",
       "      <td>...</td>\n",
       "      <td>...</td>\n",
       "      <td>...</td>\n",
       "    </tr>\n",
       "    <tr>\n",
       "      <th>2395</th>\n",
       "      <td>PUSH PUSH MSTORE CALLVALUE ISZERO PUSH JUMPI J...</td>\n",
       "      <td>integeroverflow</td>\n",
       "      <td>{'nodes': ['SSTORE', 'SLOAD', 'ADD', 'SHA', 'L...</td>\n",
       "      <td>{'unary_arithmetic_ratio': 0.0273972602739726,...</td>\n",
       "      <td>{'num_nodes': 23, 'num_edges': 72, 'max_in_deg...</td>\n",
       "    </tr>\n",
       "    <tr>\n",
       "      <th>2396</th>\n",
       "      <td>PUSH PUSH MSTORE CALLVALUE ISZERO PUSH JUMPI P...</td>\n",
       "      <td>gaslimit</td>\n",
       "      <td>{'nodes': ['SSTORE', 'SLOAD', 'ADD', 'SHA', 'L...</td>\n",
       "      <td>{'gas_related_opcodes': 0, 'expensive_operatio...</td>\n",
       "      <td>{'num_nodes': 37, 'num_edges': 1357, 'max_in_d...</td>\n",
       "    </tr>\n",
       "    <tr>\n",
       "      <th>2397</th>\n",
       "      <td>PUSH PUSH MSTORE PUSH PUSH DUP SWAP MSTORE PUS...</td>\n",
       "      <td>gaslimit</td>\n",
       "      <td>{'nodes': ['SSTORE', 'SLOAD', 'ADD', 'SHA', 'L...</td>\n",
       "      <td>{'gas_related_opcodes': 0, 'expensive_operatio...</td>\n",
       "      <td>{'num_nodes': 40, 'num_edges': 1928, 'max_in_d...</td>\n",
       "    </tr>\n",
       "    <tr>\n",
       "      <th>2398</th>\n",
       "      <td>PUSH PUSH MSTORE CALLVALUE ISZERO PUSH JUMPI J...</td>\n",
       "      <td>integeroverflow</td>\n",
       "      <td>{'nodes': ['SHA', 'LOG', 'JUMPDEST', 'CREATE',...</td>\n",
       "      <td>{'unary_arithmetic_ratio': 0.08450704225352113...</td>\n",
       "      <td>{'num_nodes': 23, 'num_edges': 70, 'max_in_deg...</td>\n",
       "    </tr>\n",
       "    <tr>\n",
       "      <th>2399</th>\n",
       "      <td>PUSH PUSH MSTORE PUSH PUSH MSTORE PUSH PUSH MS...</td>\n",
       "      <td>gaslimit</td>\n",
       "      <td>{'nodes': ['SLOAD', 'SSTORE', 'ADD', 'SHA', 'L...</td>\n",
       "      <td>{'gas_related_opcodes': 1, 'expensive_operatio...</td>\n",
       "      <td>{'num_nodes': 36, 'num_edges': 1519, 'max_in_d...</td>\n",
       "    </tr>\n",
       "  </tbody>\n",
       "</table>\n",
       "<p>2400 rows × 5 columns</p>\n",
       "</div>"
      ],
      "text/plain": [
       "                                                opcodes            label  \\\n",
       "0     PUSH PUSH MSTORE CALLDATASIZE ISZERO PUSH JUMP...            clean   \n",
       "1     PUSH PUSH MSTORE CALLVALUE DUP ISZERO PUSH JUM...            clean   \n",
       "2     PUSH PUSH MSTORE PUSH DUP SLOAD PUSH PUSH PUSH...         gaslimit   \n",
       "3     PUSH PUSH MSTORE PUSH PUSH SSTORE CALLVALUE PU...  integeroverflow   \n",
       "4     PUSH PUSH MSTORE CALLVALUE DUP ISZERO PUSH JUM...            clean   \n",
       "...                                                 ...              ...   \n",
       "2395  PUSH PUSH MSTORE CALLVALUE ISZERO PUSH JUMPI J...  integeroverflow   \n",
       "2396  PUSH PUSH MSTORE CALLVALUE ISZERO PUSH JUMPI P...         gaslimit   \n",
       "2397  PUSH PUSH MSTORE PUSH PUSH DUP SWAP MSTORE PUS...         gaslimit   \n",
       "2398  PUSH PUSH MSTORE CALLVALUE ISZERO PUSH JUMPI J...  integeroverflow   \n",
       "2399  PUSH PUSH MSTORE PUSH PUSH MSTORE PUSH PUSH MS...         gaslimit   \n",
       "\n",
       "                                         block_features  \\\n",
       "0     {'nodes': [], 'edges': {}, 'max_in_degree': 0,...   \n",
       "1     {'nodes': [], 'edges': {}, 'max_in_degree': 0,...   \n",
       "2     {'nodes': ['SLOAD', 'SSTORE', 'ADD', 'SHA', 'L...   \n",
       "3     {'nodes': ['SSTORE', 'SLOAD', 'ADD', 'SHA', 'L...   \n",
       "4     {'nodes': [], 'edges': {}, 'max_in_degree': 0,...   \n",
       "...                                                 ...   \n",
       "2395  {'nodes': ['SSTORE', 'SLOAD', 'ADD', 'SHA', 'L...   \n",
       "2396  {'nodes': ['SSTORE', 'SLOAD', 'ADD', 'SHA', 'L...   \n",
       "2397  {'nodes': ['SSTORE', 'SLOAD', 'ADD', 'SHA', 'L...   \n",
       "2398  {'nodes': ['SHA', 'LOG', 'JUMPDEST', 'CREATE',...   \n",
       "2399  {'nodes': ['SLOAD', 'SSTORE', 'ADD', 'SHA', 'L...   \n",
       "\n",
       "                                     attribute_features  \\\n",
       "0     {'external_call_presence': False, 'state_chang...   \n",
       "1     {'external_call_presence': False, 'state_chang...   \n",
       "2     {'gas_related_opcodes': 0, 'expensive_operatio...   \n",
       "3     {'unary_arithmetic_ratio': 0.0, 'binary_arithm...   \n",
       "4     {'external_call_presence': False, 'state_chang...   \n",
       "...                                                 ...   \n",
       "2395  {'unary_arithmetic_ratio': 0.0273972602739726,...   \n",
       "2396  {'gas_related_opcodes': 0, 'expensive_operatio...   \n",
       "2397  {'gas_related_opcodes': 0, 'expensive_operatio...   \n",
       "2398  {'unary_arithmetic_ratio': 0.08450704225352113...   \n",
       "2399  {'gas_related_opcodes': 1, 'expensive_operatio...   \n",
       "\n",
       "                                      combined_features  \n",
       "0     {'num_nodes': 0, 'num_edges': 0, 'max_in_degre...  \n",
       "1     {'num_nodes': 0, 'num_edges': 0, 'max_in_degre...  \n",
       "2     {'num_nodes': 35, 'num_edges': 382, 'max_in_de...  \n",
       "3     {'num_nodes': 27, 'num_edges': 304, 'max_in_de...  \n",
       "4     {'num_nodes': 0, 'num_edges': 0, 'max_in_degre...  \n",
       "...                                                 ...  \n",
       "2395  {'num_nodes': 23, 'num_edges': 72, 'max_in_deg...  \n",
       "2396  {'num_nodes': 37, 'num_edges': 1357, 'max_in_d...  \n",
       "2397  {'num_nodes': 40, 'num_edges': 1928, 'max_in_d...  \n",
       "2398  {'num_nodes': 23, 'num_edges': 70, 'max_in_deg...  \n",
       "2399  {'num_nodes': 36, 'num_edges': 1519, 'max_in_d...  \n",
       "\n",
       "[2400 rows x 5 columns]"
      ]
     },
     "execution_count": 14,
     "metadata": {},
     "output_type": "execute_result"
    }
   ],
   "source": [
    "def create_combined_features(row):\n",
    "    \"\"\"\n",
    "    Combine block_features and attribute_features into a single standardized feature vector.\n",
    "    \"\"\"\n",
    "    features = {}\n",
    "    \n",
    "    # Extract block features\n",
    "    block_feat = row['block_features']\n",
    "    features.update({\n",
    "        'num_nodes': len(block_feat['nodes']),\n",
    "        'num_edges': sum(len(edges) for edges in block_feat['edges'].values()),\n",
    "        'max_in_degree': block_feat['max_in_degree'],\n",
    "        'max_out_degree': block_feat['max_out_degree'],\n",
    "    })\n",
    "    \n",
    "    # Extract attribute features\n",
    "    attr_feat = row['attribute_features']\n",
    "    \n",
    "    # Handle different attribute features based on vulnerability type\n",
    "    if row['label'] == 'reentrancy':\n",
    "        features.update({\n",
    "            'external_call': int(attr_feat['external_call_presence']),\n",
    "            'state_change_after_call': int(attr_feat['state_change_after_call']),\n",
    "            'recursive_call': int(attr_feat['recursive_call_potential']),\n",
    "            'gas_forwarding': int(attr_feat['gas_forwarding']),\n",
    "            'arithmetic_ops': attr_feat['arithmetic_count'],\n",
    "            'logical_ops': attr_feat['logical_count'],\n",
    "            'comparison_ops': attr_feat['comparison_count'],\n",
    "            'storage_ops': attr_feat['storage_count'],\n",
    "            'control_flow_ops': attr_feat['control_flow_count']\n",
    "        })\n",
    "    elif row['label'] == 'gaslimit':\n",
    "        features.update({\n",
    "            'gas_related_ops': attr_feat['gas_related_opcodes'],\n",
    "            'expensive_ops': attr_feat['expensive_operations_count'],\n",
    "            'state_changes': attr_feat['state_change_count'],\n",
    "            'loop_count': attr_feat['loop_count'],\n",
    "            'arithmetic_ops': attr_feat['arithmetic_count'],\n",
    "            'logical_ops': attr_feat['logical_count'],\n",
    "            'comparison_ops': attr_feat['comparison_count'],\n",
    "            'control_flow_ops': attr_feat['control_flow_count']\n",
    "        })\n",
    "    elif row['label'] == 'integeroverflow':\n",
    "        features.update({\n",
    "            'unary_arithmetic_ratio': attr_feat['unary_arithmetic_ratio'],\n",
    "            'binary_arithmetic_ratio': attr_feat['binary_arithmetic_ratio'],\n",
    "            'block_ratio': attr_feat['block_ratio'],\n",
    "            'control_flow_ratio': attr_feat['control_flow_ratio'],\n",
    "            'environment_ratio': attr_feat['environment_ratio'],\n",
    "            'system_ratio': attr_feat['system_ratio'],\n",
    "            'stack_ratio': attr_feat['stack_ratio'],\n",
    "            'invalid_ratio': attr_feat['invalid_ratio']\n",
    "        })\n",
    "    \n",
    "    return features\n",
    "\n",
    "# Create combined features\n",
    "data['combined_features'] = data.apply(create_combined_features, axis=1)\n",
    "\n",
    "data"
   ]
  },
  {
   "cell_type": "markdown",
   "metadata": {},
   "source": [
    "# Data Preprocessing"
   ]
  },
  {
   "cell_type": "code",
   "execution_count": 15,
   "metadata": {},
   "outputs": [
    {
     "data": {
      "text/html": [
       "<div>\n",
       "<style scoped>\n",
       "    .dataframe tbody tr th:only-of-type {\n",
       "        vertical-align: middle;\n",
       "    }\n",
       "\n",
       "    .dataframe tbody tr th {\n",
       "        vertical-align: top;\n",
       "    }\n",
       "\n",
       "    .dataframe thead th {\n",
       "        text-align: right;\n",
       "    }\n",
       "</style>\n",
       "<table border=\"1\" class=\"dataframe\">\n",
       "  <thead>\n",
       "    <tr style=\"text-align: right;\">\n",
       "      <th></th>\n",
       "      <th>label</th>\n",
       "      <th>combined_features</th>\n",
       "    </tr>\n",
       "  </thead>\n",
       "  <tbody>\n",
       "    <tr>\n",
       "      <th>0</th>\n",
       "      <td>clean</td>\n",
       "      <td>{'num_nodes': 0, 'num_edges': 0, 'max_in_degre...</td>\n",
       "    </tr>\n",
       "    <tr>\n",
       "      <th>1</th>\n",
       "      <td>clean</td>\n",
       "      <td>{'num_nodes': 0, 'num_edges': 0, 'max_in_degre...</td>\n",
       "    </tr>\n",
       "    <tr>\n",
       "      <th>2</th>\n",
       "      <td>gaslimit</td>\n",
       "      <td>{'num_nodes': 35, 'num_edges': 382, 'max_in_de...</td>\n",
       "    </tr>\n",
       "    <tr>\n",
       "      <th>3</th>\n",
       "      <td>integeroverflow</td>\n",
       "      <td>{'num_nodes': 27, 'num_edges': 304, 'max_in_de...</td>\n",
       "    </tr>\n",
       "    <tr>\n",
       "      <th>4</th>\n",
       "      <td>clean</td>\n",
       "      <td>{'num_nodes': 0, 'num_edges': 0, 'max_in_degre...</td>\n",
       "    </tr>\n",
       "    <tr>\n",
       "      <th>...</th>\n",
       "      <td>...</td>\n",
       "      <td>...</td>\n",
       "    </tr>\n",
       "    <tr>\n",
       "      <th>2395</th>\n",
       "      <td>integeroverflow</td>\n",
       "      <td>{'num_nodes': 23, 'num_edges': 72, 'max_in_deg...</td>\n",
       "    </tr>\n",
       "    <tr>\n",
       "      <th>2396</th>\n",
       "      <td>gaslimit</td>\n",
       "      <td>{'num_nodes': 37, 'num_edges': 1357, 'max_in_d...</td>\n",
       "    </tr>\n",
       "    <tr>\n",
       "      <th>2397</th>\n",
       "      <td>gaslimit</td>\n",
       "      <td>{'num_nodes': 40, 'num_edges': 1928, 'max_in_d...</td>\n",
       "    </tr>\n",
       "    <tr>\n",
       "      <th>2398</th>\n",
       "      <td>integeroverflow</td>\n",
       "      <td>{'num_nodes': 23, 'num_edges': 70, 'max_in_deg...</td>\n",
       "    </tr>\n",
       "    <tr>\n",
       "      <th>2399</th>\n",
       "      <td>gaslimit</td>\n",
       "      <td>{'num_nodes': 36, 'num_edges': 1519, 'max_in_d...</td>\n",
       "    </tr>\n",
       "  </tbody>\n",
       "</table>\n",
       "<p>2400 rows × 2 columns</p>\n",
       "</div>"
      ],
      "text/plain": [
       "                label                                  combined_features\n",
       "0               clean  {'num_nodes': 0, 'num_edges': 0, 'max_in_degre...\n",
       "1               clean  {'num_nodes': 0, 'num_edges': 0, 'max_in_degre...\n",
       "2            gaslimit  {'num_nodes': 35, 'num_edges': 382, 'max_in_de...\n",
       "3     integeroverflow  {'num_nodes': 27, 'num_edges': 304, 'max_in_de...\n",
       "4               clean  {'num_nodes': 0, 'num_edges': 0, 'max_in_degre...\n",
       "...               ...                                                ...\n",
       "2395  integeroverflow  {'num_nodes': 23, 'num_edges': 72, 'max_in_deg...\n",
       "2396         gaslimit  {'num_nodes': 37, 'num_edges': 1357, 'max_in_d...\n",
       "2397         gaslimit  {'num_nodes': 40, 'num_edges': 1928, 'max_in_d...\n",
       "2398  integeroverflow  {'num_nodes': 23, 'num_edges': 70, 'max_in_deg...\n",
       "2399         gaslimit  {'num_nodes': 36, 'num_edges': 1519, 'max_in_d...\n",
       "\n",
       "[2400 rows x 2 columns]"
      ]
     },
     "execution_count": 15,
     "metadata": {},
     "output_type": "execute_result"
    }
   ],
   "source": [
    "newData = data.drop(columns=['opcodes', 'block_features', 'attribute_features'])\n",
    "newData"
   ]
  },
  {
   "cell_type": "code",
   "execution_count": 16,
   "metadata": {},
   "outputs": [
    {
     "data": {
      "text/html": [
       "<div>\n",
       "<style scoped>\n",
       "    .dataframe tbody tr th:only-of-type {\n",
       "        vertical-align: middle;\n",
       "    }\n",
       "\n",
       "    .dataframe tbody tr th {\n",
       "        vertical-align: top;\n",
       "    }\n",
       "\n",
       "    .dataframe thead th {\n",
       "        text-align: right;\n",
       "    }\n",
       "</style>\n",
       "<table border=\"1\" class=\"dataframe\">\n",
       "  <thead>\n",
       "    <tr style=\"text-align: right;\">\n",
       "      <th></th>\n",
       "      <th>label</th>\n",
       "      <th>combined_features</th>\n",
       "    </tr>\n",
       "  </thead>\n",
       "  <tbody>\n",
       "    <tr>\n",
       "      <th>0</th>\n",
       "      <td>0</td>\n",
       "      <td>{'num_nodes': 0, 'num_edges': 0, 'max_in_degre...</td>\n",
       "    </tr>\n",
       "    <tr>\n",
       "      <th>1</th>\n",
       "      <td>0</td>\n",
       "      <td>{'num_nodes': 0, 'num_edges': 0, 'max_in_degre...</td>\n",
       "    </tr>\n",
       "    <tr>\n",
       "      <th>2</th>\n",
       "      <td>1</td>\n",
       "      <td>{'num_nodes': 35, 'num_edges': 382, 'max_in_de...</td>\n",
       "    </tr>\n",
       "    <tr>\n",
       "      <th>3</th>\n",
       "      <td>2</td>\n",
       "      <td>{'num_nodes': 27, 'num_edges': 304, 'max_in_de...</td>\n",
       "    </tr>\n",
       "    <tr>\n",
       "      <th>4</th>\n",
       "      <td>0</td>\n",
       "      <td>{'num_nodes': 0, 'num_edges': 0, 'max_in_degre...</td>\n",
       "    </tr>\n",
       "    <tr>\n",
       "      <th>...</th>\n",
       "      <td>...</td>\n",
       "      <td>...</td>\n",
       "    </tr>\n",
       "    <tr>\n",
       "      <th>2395</th>\n",
       "      <td>2</td>\n",
       "      <td>{'num_nodes': 23, 'num_edges': 72, 'max_in_deg...</td>\n",
       "    </tr>\n",
       "    <tr>\n",
       "      <th>2396</th>\n",
       "      <td>1</td>\n",
       "      <td>{'num_nodes': 37, 'num_edges': 1357, 'max_in_d...</td>\n",
       "    </tr>\n",
       "    <tr>\n",
       "      <th>2397</th>\n",
       "      <td>1</td>\n",
       "      <td>{'num_nodes': 40, 'num_edges': 1928, 'max_in_d...</td>\n",
       "    </tr>\n",
       "    <tr>\n",
       "      <th>2398</th>\n",
       "      <td>2</td>\n",
       "      <td>{'num_nodes': 23, 'num_edges': 70, 'max_in_deg...</td>\n",
       "    </tr>\n",
       "    <tr>\n",
       "      <th>2399</th>\n",
       "      <td>1</td>\n",
       "      <td>{'num_nodes': 36, 'num_edges': 1519, 'max_in_d...</td>\n",
       "    </tr>\n",
       "  </tbody>\n",
       "</table>\n",
       "<p>2400 rows × 2 columns</p>\n",
       "</div>"
      ],
      "text/plain": [
       "      label                                  combined_features\n",
       "0         0  {'num_nodes': 0, 'num_edges': 0, 'max_in_degre...\n",
       "1         0  {'num_nodes': 0, 'num_edges': 0, 'max_in_degre...\n",
       "2         1  {'num_nodes': 35, 'num_edges': 382, 'max_in_de...\n",
       "3         2  {'num_nodes': 27, 'num_edges': 304, 'max_in_de...\n",
       "4         0  {'num_nodes': 0, 'num_edges': 0, 'max_in_degre...\n",
       "...     ...                                                ...\n",
       "2395      2  {'num_nodes': 23, 'num_edges': 72, 'max_in_deg...\n",
       "2396      1  {'num_nodes': 37, 'num_edges': 1357, 'max_in_d...\n",
       "2397      1  {'num_nodes': 40, 'num_edges': 1928, 'max_in_d...\n",
       "2398      2  {'num_nodes': 23, 'num_edges': 70, 'max_in_deg...\n",
       "2399      1  {'num_nodes': 36, 'num_edges': 1519, 'max_in_d...\n",
       "\n",
       "[2400 rows x 2 columns]"
      ]
     },
     "execution_count": 16,
     "metadata": {},
     "output_type": "execute_result"
    }
   ],
   "source": [
    "from sklearn.preprocessing import LabelEncoder\n",
    "labelProcess = LabelEncoder()\n",
    "newData['label'] = labelProcess.fit_transform(newData['label'])\n",
    "newData\n"
   ]
  },
  {
   "cell_type": "code",
   "execution_count": 17,
   "metadata": {},
   "outputs": [
    {
     "data": {
      "text/plain": [
       "{'num_nodes': 0, 'num_edges': 0, 'max_in_degree': 0, 'max_out_degree': 0}"
      ]
     },
     "execution_count": 17,
     "metadata": {},
     "output_type": "execute_result"
    }
   ],
   "source": [
    "newData[\"combined_features\"][0]"
   ]
  },
  {
   "cell_type": "code",
   "execution_count": 18,
   "metadata": {},
   "outputs": [
    {
     "data": {
      "text/plain": [
       "0       {'num_nodes': 0, 'num_edges': 0, 'max_in_degre...\n",
       "1       {'num_nodes': 0, 'num_edges': 0, 'max_in_degre...\n",
       "2       {'num_nodes': 35, 'num_edges': 382, 'max_in_de...\n",
       "3       {'num_nodes': 27, 'num_edges': 304, 'max_in_de...\n",
       "4       {'num_nodes': 0, 'num_edges': 0, 'max_in_degre...\n",
       "                              ...                        \n",
       "2395    {'num_nodes': 23, 'num_edges': 72, 'max_in_deg...\n",
       "2396    {'num_nodes': 37, 'num_edges': 1357, 'max_in_d...\n",
       "2397    {'num_nodes': 40, 'num_edges': 1928, 'max_in_d...\n",
       "2398    {'num_nodes': 23, 'num_edges': 70, 'max_in_deg...\n",
       "2399    {'num_nodes': 36, 'num_edges': 1519, 'max_in_d...\n",
       "Name: combined_features, Length: 2400, dtype: object"
      ]
     },
     "execution_count": 18,
     "metadata": {},
     "output_type": "execute_result"
    }
   ],
   "source": [
    "data = newData['combined_features']\n",
    "data"
   ]
  },
  {
   "cell_type": "code",
   "execution_count": 19,
   "metadata": {},
   "outputs": [],
   "source": [
    "import numpy as np\n",
    "from sklearn.preprocessing import MinMaxScaler\n",
    "\n",
    "# Define expected keys for count and ratio features\n",
    "count_keys = ['num_nodes', 'num_edges', 'max_in_degree', 'max_out_degree']\n",
    "ratio_keys = [\n",
    "    'unary_arithmetic_ratio', 'binary_arithmetic_ratio', 'block_ratio',\n",
    "    'control_flow_ratio', 'environment_ratio', 'system_ratio', 'stack_ratio', 'invalid_ratio'\n",
    "]\n",
    "\n",
    "# Initialize lists to store feature values\n",
    "count_values = []\n",
    "ratio_values = []\n",
    "\n",
    "# Iterate over each feature dictionary\n",
    "for features in data:\n",
    "    # Extract count features, using 0 as default for missing keys\n",
    "    count_values.append([features.get(key, 0) for key in count_keys])\n",
    "    \n",
    "    # Extract ratio features, using 0 as default for missing keys\n",
    "    ratio_values.append([features.get(key, 0) for key in ratio_keys])\n",
    "\n",
    "# Convert lists to NumPy arrays\n",
    "count_values = np.array(count_values)\n",
    "ratio_values = np.array(ratio_values)\n",
    "\n",
    "# Step 2: Normalize count-based features\n",
    "scaler = MinMaxScaler()\n",
    "normalized_counts = scaler.fit_transform(count_values)\n",
    "\n"
   ]
  },
  {
   "cell_type": "code",
   "execution_count": 20,
   "metadata": {},
   "outputs": [
    {
     "name": "stdout",
     "output_type": "stream",
     "text": [
      "Vectorized Data: [[0.         0.         0.         ... 0.         0.         0.        ]\n",
      " [0.         0.         0.         ... 0.         0.         0.        ]\n",
      " [0.71428571 0.02681454 0.03349282 ... 0.         0.         0.        ]\n",
      " ...\n",
      " [0.81632653 0.13533623 0.1225412  ... 0.         0.         0.        ]\n",
      " [0.46938776 0.00491366 0.00637959 ... 0.02816901 0.38028169 0.        ]\n",
      " [0.73469388 0.10662642 0.0877193  ... 0.         0.         0.        ]]\n"
     ]
    }
   ],
   "source": [
    "# Step 4: Combine all features into a single vector\n",
    "vectorized_data = np.concatenate([normalized_counts, ratio_values], axis=1)\n",
    "\n",
    "# Print the resulting vector\n",
    "print(\"Vectorized Data:\", vectorized_data)"
   ]
  },
  {
   "cell_type": "code",
   "execution_count": 21,
   "metadata": {},
   "outputs": [],
   "source": [
    "from sklearn.model_selection import train_test_split\n",
    "\n",
    "X_train, X_test, y_train, y_test = train_test_split(vectorized_data, newData['label'], test_size=0.2, random_state=42)\n"
   ]
  },
  {
   "cell_type": "code",
   "execution_count": 22,
   "metadata": {},
   "outputs": [
    {
     "data": {
      "text/html": [
       "<style>#sk-container-id-1 {\n",
       "  /* Definition of color scheme common for light and dark mode */\n",
       "  --sklearn-color-text: #000;\n",
       "  --sklearn-color-text-muted: #666;\n",
       "  --sklearn-color-line: gray;\n",
       "  /* Definition of color scheme for unfitted estimators */\n",
       "  --sklearn-color-unfitted-level-0: #fff5e6;\n",
       "  --sklearn-color-unfitted-level-1: #f6e4d2;\n",
       "  --sklearn-color-unfitted-level-2: #ffe0b3;\n",
       "  --sklearn-color-unfitted-level-3: chocolate;\n",
       "  /* Definition of color scheme for fitted estimators */\n",
       "  --sklearn-color-fitted-level-0: #f0f8ff;\n",
       "  --sklearn-color-fitted-level-1: #d4ebff;\n",
       "  --sklearn-color-fitted-level-2: #b3dbfd;\n",
       "  --sklearn-color-fitted-level-3: cornflowerblue;\n",
       "\n",
       "  /* Specific color for light theme */\n",
       "  --sklearn-color-text-on-default-background: var(--sg-text-color, var(--theme-code-foreground, var(--jp-content-font-color1, black)));\n",
       "  --sklearn-color-background: var(--sg-background-color, var(--theme-background, var(--jp-layout-color0, white)));\n",
       "  --sklearn-color-border-box: var(--sg-text-color, var(--theme-code-foreground, var(--jp-content-font-color1, black)));\n",
       "  --sklearn-color-icon: #696969;\n",
       "\n",
       "  @media (prefers-color-scheme: dark) {\n",
       "    /* Redefinition of color scheme for dark theme */\n",
       "    --sklearn-color-text-on-default-background: var(--sg-text-color, var(--theme-code-foreground, var(--jp-content-font-color1, white)));\n",
       "    --sklearn-color-background: var(--sg-background-color, var(--theme-background, var(--jp-layout-color0, #111)));\n",
       "    --sklearn-color-border-box: var(--sg-text-color, var(--theme-code-foreground, var(--jp-content-font-color1, white)));\n",
       "    --sklearn-color-icon: #878787;\n",
       "  }\n",
       "}\n",
       "\n",
       "#sk-container-id-1 {\n",
       "  color: var(--sklearn-color-text);\n",
       "}\n",
       "\n",
       "#sk-container-id-1 pre {\n",
       "  padding: 0;\n",
       "}\n",
       "\n",
       "#sk-container-id-1 input.sk-hidden--visually {\n",
       "  border: 0;\n",
       "  clip: rect(1px 1px 1px 1px);\n",
       "  clip: rect(1px, 1px, 1px, 1px);\n",
       "  height: 1px;\n",
       "  margin: -1px;\n",
       "  overflow: hidden;\n",
       "  padding: 0;\n",
       "  position: absolute;\n",
       "  width: 1px;\n",
       "}\n",
       "\n",
       "#sk-container-id-1 div.sk-dashed-wrapped {\n",
       "  border: 1px dashed var(--sklearn-color-line);\n",
       "  margin: 0 0.4em 0.5em 0.4em;\n",
       "  box-sizing: border-box;\n",
       "  padding-bottom: 0.4em;\n",
       "  background-color: var(--sklearn-color-background);\n",
       "}\n",
       "\n",
       "#sk-container-id-1 div.sk-container {\n",
       "  /* jupyter's `normalize.less` sets `[hidden] { display: none; }`\n",
       "     but bootstrap.min.css set `[hidden] { display: none !important; }`\n",
       "     so we also need the `!important` here to be able to override the\n",
       "     default hidden behavior on the sphinx rendered scikit-learn.org.\n",
       "     See: https://github.com/scikit-learn/scikit-learn/issues/21755 */\n",
       "  display: inline-block !important;\n",
       "  position: relative;\n",
       "}\n",
       "\n",
       "#sk-container-id-1 div.sk-text-repr-fallback {\n",
       "  display: none;\n",
       "}\n",
       "\n",
       "div.sk-parallel-item,\n",
       "div.sk-serial,\n",
       "div.sk-item {\n",
       "  /* draw centered vertical line to link estimators */\n",
       "  background-image: linear-gradient(var(--sklearn-color-text-on-default-background), var(--sklearn-color-text-on-default-background));\n",
       "  background-size: 2px 100%;\n",
       "  background-repeat: no-repeat;\n",
       "  background-position: center center;\n",
       "}\n",
       "\n",
       "/* Parallel-specific style estimator block */\n",
       "\n",
       "#sk-container-id-1 div.sk-parallel-item::after {\n",
       "  content: \"\";\n",
       "  width: 100%;\n",
       "  border-bottom: 2px solid var(--sklearn-color-text-on-default-background);\n",
       "  flex-grow: 1;\n",
       "}\n",
       "\n",
       "#sk-container-id-1 div.sk-parallel {\n",
       "  display: flex;\n",
       "  align-items: stretch;\n",
       "  justify-content: center;\n",
       "  background-color: var(--sklearn-color-background);\n",
       "  position: relative;\n",
       "}\n",
       "\n",
       "#sk-container-id-1 div.sk-parallel-item {\n",
       "  display: flex;\n",
       "  flex-direction: column;\n",
       "}\n",
       "\n",
       "#sk-container-id-1 div.sk-parallel-item:first-child::after {\n",
       "  align-self: flex-end;\n",
       "  width: 50%;\n",
       "}\n",
       "\n",
       "#sk-container-id-1 div.sk-parallel-item:last-child::after {\n",
       "  align-self: flex-start;\n",
       "  width: 50%;\n",
       "}\n",
       "\n",
       "#sk-container-id-1 div.sk-parallel-item:only-child::after {\n",
       "  width: 0;\n",
       "}\n",
       "\n",
       "/* Serial-specific style estimator block */\n",
       "\n",
       "#sk-container-id-1 div.sk-serial {\n",
       "  display: flex;\n",
       "  flex-direction: column;\n",
       "  align-items: center;\n",
       "  background-color: var(--sklearn-color-background);\n",
       "  padding-right: 1em;\n",
       "  padding-left: 1em;\n",
       "}\n",
       "\n",
       "\n",
       "/* Toggleable style: style used for estimator/Pipeline/ColumnTransformer box that is\n",
       "clickable and can be expanded/collapsed.\n",
       "- Pipeline and ColumnTransformer use this feature and define the default style\n",
       "- Estimators will overwrite some part of the style using the `sk-estimator` class\n",
       "*/\n",
       "\n",
       "/* Pipeline and ColumnTransformer style (default) */\n",
       "\n",
       "#sk-container-id-1 div.sk-toggleable {\n",
       "  /* Default theme specific background. It is overwritten whether we have a\n",
       "  specific estimator or a Pipeline/ColumnTransformer */\n",
       "  background-color: var(--sklearn-color-background);\n",
       "}\n",
       "\n",
       "/* Toggleable label */\n",
       "#sk-container-id-1 label.sk-toggleable__label {\n",
       "  cursor: pointer;\n",
       "  display: flex;\n",
       "  width: 100%;\n",
       "  margin-bottom: 0;\n",
       "  padding: 0.5em;\n",
       "  box-sizing: border-box;\n",
       "  text-align: center;\n",
       "  align-items: start;\n",
       "  justify-content: space-between;\n",
       "  gap: 0.5em;\n",
       "}\n",
       "\n",
       "#sk-container-id-1 label.sk-toggleable__label .caption {\n",
       "  font-size: 0.6rem;\n",
       "  font-weight: lighter;\n",
       "  color: var(--sklearn-color-text-muted);\n",
       "}\n",
       "\n",
       "#sk-container-id-1 label.sk-toggleable__label-arrow:before {\n",
       "  /* Arrow on the left of the label */\n",
       "  content: \"▸\";\n",
       "  float: left;\n",
       "  margin-right: 0.25em;\n",
       "  color: var(--sklearn-color-icon);\n",
       "}\n",
       "\n",
       "#sk-container-id-1 label.sk-toggleable__label-arrow:hover:before {\n",
       "  color: var(--sklearn-color-text);\n",
       "}\n",
       "\n",
       "/* Toggleable content - dropdown */\n",
       "\n",
       "#sk-container-id-1 div.sk-toggleable__content {\n",
       "  max-height: 0;\n",
       "  max-width: 0;\n",
       "  overflow: hidden;\n",
       "  text-align: left;\n",
       "  /* unfitted */\n",
       "  background-color: var(--sklearn-color-unfitted-level-0);\n",
       "}\n",
       "\n",
       "#sk-container-id-1 div.sk-toggleable__content.fitted {\n",
       "  /* fitted */\n",
       "  background-color: var(--sklearn-color-fitted-level-0);\n",
       "}\n",
       "\n",
       "#sk-container-id-1 div.sk-toggleable__content pre {\n",
       "  margin: 0.2em;\n",
       "  border-radius: 0.25em;\n",
       "  color: var(--sklearn-color-text);\n",
       "  /* unfitted */\n",
       "  background-color: var(--sklearn-color-unfitted-level-0);\n",
       "}\n",
       "\n",
       "#sk-container-id-1 div.sk-toggleable__content.fitted pre {\n",
       "  /* unfitted */\n",
       "  background-color: var(--sklearn-color-fitted-level-0);\n",
       "}\n",
       "\n",
       "#sk-container-id-1 input.sk-toggleable__control:checked~div.sk-toggleable__content {\n",
       "  /* Expand drop-down */\n",
       "  max-height: 200px;\n",
       "  max-width: 100%;\n",
       "  overflow: auto;\n",
       "}\n",
       "\n",
       "#sk-container-id-1 input.sk-toggleable__control:checked~label.sk-toggleable__label-arrow:before {\n",
       "  content: \"▾\";\n",
       "}\n",
       "\n",
       "/* Pipeline/ColumnTransformer-specific style */\n",
       "\n",
       "#sk-container-id-1 div.sk-label input.sk-toggleable__control:checked~label.sk-toggleable__label {\n",
       "  color: var(--sklearn-color-text);\n",
       "  background-color: var(--sklearn-color-unfitted-level-2);\n",
       "}\n",
       "\n",
       "#sk-container-id-1 div.sk-label.fitted input.sk-toggleable__control:checked~label.sk-toggleable__label {\n",
       "  background-color: var(--sklearn-color-fitted-level-2);\n",
       "}\n",
       "\n",
       "/* Estimator-specific style */\n",
       "\n",
       "/* Colorize estimator box */\n",
       "#sk-container-id-1 div.sk-estimator input.sk-toggleable__control:checked~label.sk-toggleable__label {\n",
       "  /* unfitted */\n",
       "  background-color: var(--sklearn-color-unfitted-level-2);\n",
       "}\n",
       "\n",
       "#sk-container-id-1 div.sk-estimator.fitted input.sk-toggleable__control:checked~label.sk-toggleable__label {\n",
       "  /* fitted */\n",
       "  background-color: var(--sklearn-color-fitted-level-2);\n",
       "}\n",
       "\n",
       "#sk-container-id-1 div.sk-label label.sk-toggleable__label,\n",
       "#sk-container-id-1 div.sk-label label {\n",
       "  /* The background is the default theme color */\n",
       "  color: var(--sklearn-color-text-on-default-background);\n",
       "}\n",
       "\n",
       "/* On hover, darken the color of the background */\n",
       "#sk-container-id-1 div.sk-label:hover label.sk-toggleable__label {\n",
       "  color: var(--sklearn-color-text);\n",
       "  background-color: var(--sklearn-color-unfitted-level-2);\n",
       "}\n",
       "\n",
       "/* Label box, darken color on hover, fitted */\n",
       "#sk-container-id-1 div.sk-label.fitted:hover label.sk-toggleable__label.fitted {\n",
       "  color: var(--sklearn-color-text);\n",
       "  background-color: var(--sklearn-color-fitted-level-2);\n",
       "}\n",
       "\n",
       "/* Estimator label */\n",
       "\n",
       "#sk-container-id-1 div.sk-label label {\n",
       "  font-family: monospace;\n",
       "  font-weight: bold;\n",
       "  display: inline-block;\n",
       "  line-height: 1.2em;\n",
       "}\n",
       "\n",
       "#sk-container-id-1 div.sk-label-container {\n",
       "  text-align: center;\n",
       "}\n",
       "\n",
       "/* Estimator-specific */\n",
       "#sk-container-id-1 div.sk-estimator {\n",
       "  font-family: monospace;\n",
       "  border: 1px dotted var(--sklearn-color-border-box);\n",
       "  border-radius: 0.25em;\n",
       "  box-sizing: border-box;\n",
       "  margin-bottom: 0.5em;\n",
       "  /* unfitted */\n",
       "  background-color: var(--sklearn-color-unfitted-level-0);\n",
       "}\n",
       "\n",
       "#sk-container-id-1 div.sk-estimator.fitted {\n",
       "  /* fitted */\n",
       "  background-color: var(--sklearn-color-fitted-level-0);\n",
       "}\n",
       "\n",
       "/* on hover */\n",
       "#sk-container-id-1 div.sk-estimator:hover {\n",
       "  /* unfitted */\n",
       "  background-color: var(--sklearn-color-unfitted-level-2);\n",
       "}\n",
       "\n",
       "#sk-container-id-1 div.sk-estimator.fitted:hover {\n",
       "  /* fitted */\n",
       "  background-color: var(--sklearn-color-fitted-level-2);\n",
       "}\n",
       "\n",
       "/* Specification for estimator info (e.g. \"i\" and \"?\") */\n",
       "\n",
       "/* Common style for \"i\" and \"?\" */\n",
       "\n",
       ".sk-estimator-doc-link,\n",
       "a:link.sk-estimator-doc-link,\n",
       "a:visited.sk-estimator-doc-link {\n",
       "  float: right;\n",
       "  font-size: smaller;\n",
       "  line-height: 1em;\n",
       "  font-family: monospace;\n",
       "  background-color: var(--sklearn-color-background);\n",
       "  border-radius: 1em;\n",
       "  height: 1em;\n",
       "  width: 1em;\n",
       "  text-decoration: none !important;\n",
       "  margin-left: 0.5em;\n",
       "  text-align: center;\n",
       "  /* unfitted */\n",
       "  border: var(--sklearn-color-unfitted-level-1) 1pt solid;\n",
       "  color: var(--sklearn-color-unfitted-level-1);\n",
       "}\n",
       "\n",
       ".sk-estimator-doc-link.fitted,\n",
       "a:link.sk-estimator-doc-link.fitted,\n",
       "a:visited.sk-estimator-doc-link.fitted {\n",
       "  /* fitted */\n",
       "  border: var(--sklearn-color-fitted-level-1) 1pt solid;\n",
       "  color: var(--sklearn-color-fitted-level-1);\n",
       "}\n",
       "\n",
       "/* On hover */\n",
       "div.sk-estimator:hover .sk-estimator-doc-link:hover,\n",
       ".sk-estimator-doc-link:hover,\n",
       "div.sk-label-container:hover .sk-estimator-doc-link:hover,\n",
       ".sk-estimator-doc-link:hover {\n",
       "  /* unfitted */\n",
       "  background-color: var(--sklearn-color-unfitted-level-3);\n",
       "  color: var(--sklearn-color-background);\n",
       "  text-decoration: none;\n",
       "}\n",
       "\n",
       "div.sk-estimator.fitted:hover .sk-estimator-doc-link.fitted:hover,\n",
       ".sk-estimator-doc-link.fitted:hover,\n",
       "div.sk-label-container:hover .sk-estimator-doc-link.fitted:hover,\n",
       ".sk-estimator-doc-link.fitted:hover {\n",
       "  /* fitted */\n",
       "  background-color: var(--sklearn-color-fitted-level-3);\n",
       "  color: var(--sklearn-color-background);\n",
       "  text-decoration: none;\n",
       "}\n",
       "\n",
       "/* Span, style for the box shown on hovering the info icon */\n",
       ".sk-estimator-doc-link span {\n",
       "  display: none;\n",
       "  z-index: 9999;\n",
       "  position: relative;\n",
       "  font-weight: normal;\n",
       "  right: .2ex;\n",
       "  padding: .5ex;\n",
       "  margin: .5ex;\n",
       "  width: min-content;\n",
       "  min-width: 20ex;\n",
       "  max-width: 50ex;\n",
       "  color: var(--sklearn-color-text);\n",
       "  box-shadow: 2pt 2pt 4pt #999;\n",
       "  /* unfitted */\n",
       "  background: var(--sklearn-color-unfitted-level-0);\n",
       "  border: .5pt solid var(--sklearn-color-unfitted-level-3);\n",
       "}\n",
       "\n",
       ".sk-estimator-doc-link.fitted span {\n",
       "  /* fitted */\n",
       "  background: var(--sklearn-color-fitted-level-0);\n",
       "  border: var(--sklearn-color-fitted-level-3);\n",
       "}\n",
       "\n",
       ".sk-estimator-doc-link:hover span {\n",
       "  display: block;\n",
       "}\n",
       "\n",
       "/* \"?\"-specific style due to the `<a>` HTML tag */\n",
       "\n",
       "#sk-container-id-1 a.estimator_doc_link {\n",
       "  float: right;\n",
       "  font-size: 1rem;\n",
       "  line-height: 1em;\n",
       "  font-family: monospace;\n",
       "  background-color: var(--sklearn-color-background);\n",
       "  border-radius: 1rem;\n",
       "  height: 1rem;\n",
       "  width: 1rem;\n",
       "  text-decoration: none;\n",
       "  /* unfitted */\n",
       "  color: var(--sklearn-color-unfitted-level-1);\n",
       "  border: var(--sklearn-color-unfitted-level-1) 1pt solid;\n",
       "}\n",
       "\n",
       "#sk-container-id-1 a.estimator_doc_link.fitted {\n",
       "  /* fitted */\n",
       "  border: var(--sklearn-color-fitted-level-1) 1pt solid;\n",
       "  color: var(--sklearn-color-fitted-level-1);\n",
       "}\n",
       "\n",
       "/* On hover */\n",
       "#sk-container-id-1 a.estimator_doc_link:hover {\n",
       "  /* unfitted */\n",
       "  background-color: var(--sklearn-color-unfitted-level-3);\n",
       "  color: var(--sklearn-color-background);\n",
       "  text-decoration: none;\n",
       "}\n",
       "\n",
       "#sk-container-id-1 a.estimator_doc_link.fitted:hover {\n",
       "  /* fitted */\n",
       "  background-color: var(--sklearn-color-fitted-level-3);\n",
       "}\n",
       "</style><div id=\"sk-container-id-1\" class=\"sk-top-container\"><div class=\"sk-text-repr-fallback\"><pre>GridSearchCV(cv=5,\n",
       "             estimator=Pipeline(steps=[(&#x27;scaler&#x27;, MinMaxScaler()),\n",
       "                                       (&#x27;svc&#x27;, SVC(probability=True))]),\n",
       "             n_jobs=-1,\n",
       "             param_grid={&#x27;svc__C&#x27;: [0.1, 1, 10, 100],\n",
       "                         &#x27;svc__gamma&#x27;: [&#x27;scale&#x27;, &#x27;auto&#x27;, 0.001, 0.01, 0.1, 1],\n",
       "                         &#x27;svc__kernel&#x27;: [&#x27;rbf&#x27;, &#x27;linear&#x27;]},\n",
       "             scoring=&#x27;accuracy&#x27;)</pre><b>In a Jupyter environment, please rerun this cell to show the HTML representation or trust the notebook. <br />On GitHub, the HTML representation is unable to render, please try loading this page with nbviewer.org.</b></div><div class=\"sk-container\" hidden><div class=\"sk-item sk-dashed-wrapped\"><div class=\"sk-label-container\"><div class=\"sk-label  sk-toggleable\"><input class=\"sk-toggleable__control sk-hidden--visually\" id=\"sk-estimator-id-1\" type=\"checkbox\" ><label for=\"sk-estimator-id-1\" class=\"sk-toggleable__label  sk-toggleable__label-arrow\"><div><div>GridSearchCV</div></div><div><a class=\"sk-estimator-doc-link \" rel=\"noreferrer\" target=\"_blank\" href=\"https://scikit-learn.org/1.6/modules/generated/sklearn.model_selection.GridSearchCV.html\">?<span>Documentation for GridSearchCV</span></a><span class=\"sk-estimator-doc-link \">i<span>Not fitted</span></span></div></label><div class=\"sk-toggleable__content \"><pre>GridSearchCV(cv=5,\n",
       "             estimator=Pipeline(steps=[(&#x27;scaler&#x27;, MinMaxScaler()),\n",
       "                                       (&#x27;svc&#x27;, SVC(probability=True))]),\n",
       "             n_jobs=-1,\n",
       "             param_grid={&#x27;svc__C&#x27;: [0.1, 1, 10, 100],\n",
       "                         &#x27;svc__gamma&#x27;: [&#x27;scale&#x27;, &#x27;auto&#x27;, 0.001, 0.01, 0.1, 1],\n",
       "                         &#x27;svc__kernel&#x27;: [&#x27;rbf&#x27;, &#x27;linear&#x27;]},\n",
       "             scoring=&#x27;accuracy&#x27;)</pre></div> </div></div><div class=\"sk-parallel\"><div class=\"sk-parallel-item\"><div class=\"sk-item\"><div class=\"sk-label-container\"><div class=\"sk-label  sk-toggleable\"><input class=\"sk-toggleable__control sk-hidden--visually\" id=\"sk-estimator-id-2\" type=\"checkbox\" ><label for=\"sk-estimator-id-2\" class=\"sk-toggleable__label  sk-toggleable__label-arrow\"><div><div>estimator: Pipeline</div></div></label><div class=\"sk-toggleable__content \"><pre>Pipeline(steps=[(&#x27;scaler&#x27;, MinMaxScaler()), (&#x27;svc&#x27;, SVC(probability=True))])</pre></div> </div></div><div class=\"sk-serial\"><div class=\"sk-item\"><div class=\"sk-serial\"><div class=\"sk-item\"><div class=\"sk-estimator  sk-toggleable\"><input class=\"sk-toggleable__control sk-hidden--visually\" id=\"sk-estimator-id-3\" type=\"checkbox\" ><label for=\"sk-estimator-id-3\" class=\"sk-toggleable__label  sk-toggleable__label-arrow\"><div><div>MinMaxScaler</div></div><div><a class=\"sk-estimator-doc-link \" rel=\"noreferrer\" target=\"_blank\" href=\"https://scikit-learn.org/1.6/modules/generated/sklearn.preprocessing.MinMaxScaler.html\">?<span>Documentation for MinMaxScaler</span></a></div></label><div class=\"sk-toggleable__content \"><pre>MinMaxScaler()</pre></div> </div></div><div class=\"sk-item\"><div class=\"sk-estimator  sk-toggleable\"><input class=\"sk-toggleable__control sk-hidden--visually\" id=\"sk-estimator-id-4\" type=\"checkbox\" ><label for=\"sk-estimator-id-4\" class=\"sk-toggleable__label  sk-toggleable__label-arrow\"><div><div>SVC</div></div></label><div class=\"sk-toggleable__content \"><pre>SVC(probability=True)</pre></div> </div></div></div></div></div></div></div></div></div></div></div>"
      ],
      "text/plain": [
       "GridSearchCV(cv=5,\n",
       "             estimator=Pipeline(steps=[('scaler', MinMaxScaler()),\n",
       "                                       ('svc', SVC(probability=True))]),\n",
       "             n_jobs=-1,\n",
       "             param_grid={'svc__C': [0.1, 1, 10, 100],\n",
       "                         'svc__gamma': ['scale', 'auto', 0.001, 0.01, 0.1, 1],\n",
       "                         'svc__kernel': ['rbf', 'linear']},\n",
       "             scoring='accuracy')"
      ]
     },
     "execution_count": 22,
     "metadata": {},
     "output_type": "execute_result"
    }
   ],
   "source": [
    "from sklearn.model_selection import GridSearchCV\n",
    "from sklearn.svm import SVC\n",
    "from sklearn.pipeline import Pipeline\n",
    "from sklearn.preprocessing import MinMaxScaler\n",
    "\n",
    "# Define the parameter grid\n",
    "param_grid = {\n",
    "    'svc__C': [0.1, 1, 10, 100],\n",
    "    'svc__gamma': ['scale', 'auto', 0.001, 0.01, 0.1, 1],\n",
    "    'svc__kernel': ['rbf', 'linear']\n",
    "}\n",
    "\n",
    "# Create a pipeline\n",
    "pipeline = Pipeline([\n",
    "    ('scaler', MinMaxScaler()),  # Step to normalize features\n",
    "    ('svc', SVC(probability=True))  # SVC model\n",
    "])\n",
    "\n",
    "# Set up the GridSearchCV\n",
    "main_pipeline = GridSearchCV(pipeline, param_grid, cv=5, scoring='accuracy', n_jobs=-1)\n",
    "main_pipeline\n"
   ]
  },
  {
   "cell_type": "code",
   "execution_count": 23,
   "metadata": {},
   "outputs": [
    {
     "name": "stdout",
     "output_type": "stream",
     "text": [
      "Best Parameters: {'svc__C': 100, 'svc__gamma': 'scale', 'svc__kernel': 'rbf'}\n",
      "Best Score: 0.9364583333333334\n",
      "              precision    recall  f1-score   support\n",
      "\n",
      "           0       1.00      1.00      1.00       121\n",
      "           1       0.94      0.63      0.76       117\n",
      "           2       1.00      1.00      1.00       115\n",
      "           3       0.74      0.96      0.84       127\n",
      "\n",
      "    accuracy                           0.90       480\n",
      "   macro avg       0.92      0.90      0.90       480\n",
      "weighted avg       0.92      0.90      0.90       480\n",
      "\n"
     ]
    }
   ],
   "source": [
    "main_pipeline.fit(X_train, y_train)\n",
    "print(\"Best Parameters:\", main_pipeline.best_params_)\n",
    "print(\"Best Score:\", main_pipeline.best_score_)\n",
    "\n",
    "y_pred = main_pipeline.predict(X_test)\n",
    "print(classification_report(y_test, y_pred))"
   ]
  },
  {
   "cell_type": "code",
   "execution_count": 24,
   "metadata": {},
   "outputs": [
    {
     "data": {
      "text/plain": [
       "['svc_model.pkl']"
      ]
     },
     "execution_count": 24,
     "metadata": {},
     "output_type": "execute_result"
    }
   ],
   "source": [
    "joblib.dump(pipeline, 'svc_model.pkl')\n"
   ]
  },
  {
   "cell_type": "code",
   "execution_count": 25,
   "metadata": {},
   "outputs": [
    {
     "data": {
      "text/html": [
       "<style>#sk-container-id-2 {\n",
       "  /* Definition of color scheme common for light and dark mode */\n",
       "  --sklearn-color-text: #000;\n",
       "  --sklearn-color-text-muted: #666;\n",
       "  --sklearn-color-line: gray;\n",
       "  /* Definition of color scheme for unfitted estimators */\n",
       "  --sklearn-color-unfitted-level-0: #fff5e6;\n",
       "  --sklearn-color-unfitted-level-1: #f6e4d2;\n",
       "  --sklearn-color-unfitted-level-2: #ffe0b3;\n",
       "  --sklearn-color-unfitted-level-3: chocolate;\n",
       "  /* Definition of color scheme for fitted estimators */\n",
       "  --sklearn-color-fitted-level-0: #f0f8ff;\n",
       "  --sklearn-color-fitted-level-1: #d4ebff;\n",
       "  --sklearn-color-fitted-level-2: #b3dbfd;\n",
       "  --sklearn-color-fitted-level-3: cornflowerblue;\n",
       "\n",
       "  /* Specific color for light theme */\n",
       "  --sklearn-color-text-on-default-background: var(--sg-text-color, var(--theme-code-foreground, var(--jp-content-font-color1, black)));\n",
       "  --sklearn-color-background: var(--sg-background-color, var(--theme-background, var(--jp-layout-color0, white)));\n",
       "  --sklearn-color-border-box: var(--sg-text-color, var(--theme-code-foreground, var(--jp-content-font-color1, black)));\n",
       "  --sklearn-color-icon: #696969;\n",
       "\n",
       "  @media (prefers-color-scheme: dark) {\n",
       "    /* Redefinition of color scheme for dark theme */\n",
       "    --sklearn-color-text-on-default-background: var(--sg-text-color, var(--theme-code-foreground, var(--jp-content-font-color1, white)));\n",
       "    --sklearn-color-background: var(--sg-background-color, var(--theme-background, var(--jp-layout-color0, #111)));\n",
       "    --sklearn-color-border-box: var(--sg-text-color, var(--theme-code-foreground, var(--jp-content-font-color1, white)));\n",
       "    --sklearn-color-icon: #878787;\n",
       "  }\n",
       "}\n",
       "\n",
       "#sk-container-id-2 {\n",
       "  color: var(--sklearn-color-text);\n",
       "}\n",
       "\n",
       "#sk-container-id-2 pre {\n",
       "  padding: 0;\n",
       "}\n",
       "\n",
       "#sk-container-id-2 input.sk-hidden--visually {\n",
       "  border: 0;\n",
       "  clip: rect(1px 1px 1px 1px);\n",
       "  clip: rect(1px, 1px, 1px, 1px);\n",
       "  height: 1px;\n",
       "  margin: -1px;\n",
       "  overflow: hidden;\n",
       "  padding: 0;\n",
       "  position: absolute;\n",
       "  width: 1px;\n",
       "}\n",
       "\n",
       "#sk-container-id-2 div.sk-dashed-wrapped {\n",
       "  border: 1px dashed var(--sklearn-color-line);\n",
       "  margin: 0 0.4em 0.5em 0.4em;\n",
       "  box-sizing: border-box;\n",
       "  padding-bottom: 0.4em;\n",
       "  background-color: var(--sklearn-color-background);\n",
       "}\n",
       "\n",
       "#sk-container-id-2 div.sk-container {\n",
       "  /* jupyter's `normalize.less` sets `[hidden] { display: none; }`\n",
       "     but bootstrap.min.css set `[hidden] { display: none !important; }`\n",
       "     so we also need the `!important` here to be able to override the\n",
       "     default hidden behavior on the sphinx rendered scikit-learn.org.\n",
       "     See: https://github.com/scikit-learn/scikit-learn/issues/21755 */\n",
       "  display: inline-block !important;\n",
       "  position: relative;\n",
       "}\n",
       "\n",
       "#sk-container-id-2 div.sk-text-repr-fallback {\n",
       "  display: none;\n",
       "}\n",
       "\n",
       "div.sk-parallel-item,\n",
       "div.sk-serial,\n",
       "div.sk-item {\n",
       "  /* draw centered vertical line to link estimators */\n",
       "  background-image: linear-gradient(var(--sklearn-color-text-on-default-background), var(--sklearn-color-text-on-default-background));\n",
       "  background-size: 2px 100%;\n",
       "  background-repeat: no-repeat;\n",
       "  background-position: center center;\n",
       "}\n",
       "\n",
       "/* Parallel-specific style estimator block */\n",
       "\n",
       "#sk-container-id-2 div.sk-parallel-item::after {\n",
       "  content: \"\";\n",
       "  width: 100%;\n",
       "  border-bottom: 2px solid var(--sklearn-color-text-on-default-background);\n",
       "  flex-grow: 1;\n",
       "}\n",
       "\n",
       "#sk-container-id-2 div.sk-parallel {\n",
       "  display: flex;\n",
       "  align-items: stretch;\n",
       "  justify-content: center;\n",
       "  background-color: var(--sklearn-color-background);\n",
       "  position: relative;\n",
       "}\n",
       "\n",
       "#sk-container-id-2 div.sk-parallel-item {\n",
       "  display: flex;\n",
       "  flex-direction: column;\n",
       "}\n",
       "\n",
       "#sk-container-id-2 div.sk-parallel-item:first-child::after {\n",
       "  align-self: flex-end;\n",
       "  width: 50%;\n",
       "}\n",
       "\n",
       "#sk-container-id-2 div.sk-parallel-item:last-child::after {\n",
       "  align-self: flex-start;\n",
       "  width: 50%;\n",
       "}\n",
       "\n",
       "#sk-container-id-2 div.sk-parallel-item:only-child::after {\n",
       "  width: 0;\n",
       "}\n",
       "\n",
       "/* Serial-specific style estimator block */\n",
       "\n",
       "#sk-container-id-2 div.sk-serial {\n",
       "  display: flex;\n",
       "  flex-direction: column;\n",
       "  align-items: center;\n",
       "  background-color: var(--sklearn-color-background);\n",
       "  padding-right: 1em;\n",
       "  padding-left: 1em;\n",
       "}\n",
       "\n",
       "\n",
       "/* Toggleable style: style used for estimator/Pipeline/ColumnTransformer box that is\n",
       "clickable and can be expanded/collapsed.\n",
       "- Pipeline and ColumnTransformer use this feature and define the default style\n",
       "- Estimators will overwrite some part of the style using the `sk-estimator` class\n",
       "*/\n",
       "\n",
       "/* Pipeline and ColumnTransformer style (default) */\n",
       "\n",
       "#sk-container-id-2 div.sk-toggleable {\n",
       "  /* Default theme specific background. It is overwritten whether we have a\n",
       "  specific estimator or a Pipeline/ColumnTransformer */\n",
       "  background-color: var(--sklearn-color-background);\n",
       "}\n",
       "\n",
       "/* Toggleable label */\n",
       "#sk-container-id-2 label.sk-toggleable__label {\n",
       "  cursor: pointer;\n",
       "  display: flex;\n",
       "  width: 100%;\n",
       "  margin-bottom: 0;\n",
       "  padding: 0.5em;\n",
       "  box-sizing: border-box;\n",
       "  text-align: center;\n",
       "  align-items: start;\n",
       "  justify-content: space-between;\n",
       "  gap: 0.5em;\n",
       "}\n",
       "\n",
       "#sk-container-id-2 label.sk-toggleable__label .caption {\n",
       "  font-size: 0.6rem;\n",
       "  font-weight: lighter;\n",
       "  color: var(--sklearn-color-text-muted);\n",
       "}\n",
       "\n",
       "#sk-container-id-2 label.sk-toggleable__label-arrow:before {\n",
       "  /* Arrow on the left of the label */\n",
       "  content: \"▸\";\n",
       "  float: left;\n",
       "  margin-right: 0.25em;\n",
       "  color: var(--sklearn-color-icon);\n",
       "}\n",
       "\n",
       "#sk-container-id-2 label.sk-toggleable__label-arrow:hover:before {\n",
       "  color: var(--sklearn-color-text);\n",
       "}\n",
       "\n",
       "/* Toggleable content - dropdown */\n",
       "\n",
       "#sk-container-id-2 div.sk-toggleable__content {\n",
       "  max-height: 0;\n",
       "  max-width: 0;\n",
       "  overflow: hidden;\n",
       "  text-align: left;\n",
       "  /* unfitted */\n",
       "  background-color: var(--sklearn-color-unfitted-level-0);\n",
       "}\n",
       "\n",
       "#sk-container-id-2 div.sk-toggleable__content.fitted {\n",
       "  /* fitted */\n",
       "  background-color: var(--sklearn-color-fitted-level-0);\n",
       "}\n",
       "\n",
       "#sk-container-id-2 div.sk-toggleable__content pre {\n",
       "  margin: 0.2em;\n",
       "  border-radius: 0.25em;\n",
       "  color: var(--sklearn-color-text);\n",
       "  /* unfitted */\n",
       "  background-color: var(--sklearn-color-unfitted-level-0);\n",
       "}\n",
       "\n",
       "#sk-container-id-2 div.sk-toggleable__content.fitted pre {\n",
       "  /* unfitted */\n",
       "  background-color: var(--sklearn-color-fitted-level-0);\n",
       "}\n",
       "\n",
       "#sk-container-id-2 input.sk-toggleable__control:checked~div.sk-toggleable__content {\n",
       "  /* Expand drop-down */\n",
       "  max-height: 200px;\n",
       "  max-width: 100%;\n",
       "  overflow: auto;\n",
       "}\n",
       "\n",
       "#sk-container-id-2 input.sk-toggleable__control:checked~label.sk-toggleable__label-arrow:before {\n",
       "  content: \"▾\";\n",
       "}\n",
       "\n",
       "/* Pipeline/ColumnTransformer-specific style */\n",
       "\n",
       "#sk-container-id-2 div.sk-label input.sk-toggleable__control:checked~label.sk-toggleable__label {\n",
       "  color: var(--sklearn-color-text);\n",
       "  background-color: var(--sklearn-color-unfitted-level-2);\n",
       "}\n",
       "\n",
       "#sk-container-id-2 div.sk-label.fitted input.sk-toggleable__control:checked~label.sk-toggleable__label {\n",
       "  background-color: var(--sklearn-color-fitted-level-2);\n",
       "}\n",
       "\n",
       "/* Estimator-specific style */\n",
       "\n",
       "/* Colorize estimator box */\n",
       "#sk-container-id-2 div.sk-estimator input.sk-toggleable__control:checked~label.sk-toggleable__label {\n",
       "  /* unfitted */\n",
       "  background-color: var(--sklearn-color-unfitted-level-2);\n",
       "}\n",
       "\n",
       "#sk-container-id-2 div.sk-estimator.fitted input.sk-toggleable__control:checked~label.sk-toggleable__label {\n",
       "  /* fitted */\n",
       "  background-color: var(--sklearn-color-fitted-level-2);\n",
       "}\n",
       "\n",
       "#sk-container-id-2 div.sk-label label.sk-toggleable__label,\n",
       "#sk-container-id-2 div.sk-label label {\n",
       "  /* The background is the default theme color */\n",
       "  color: var(--sklearn-color-text-on-default-background);\n",
       "}\n",
       "\n",
       "/* On hover, darken the color of the background */\n",
       "#sk-container-id-2 div.sk-label:hover label.sk-toggleable__label {\n",
       "  color: var(--sklearn-color-text);\n",
       "  background-color: var(--sklearn-color-unfitted-level-2);\n",
       "}\n",
       "\n",
       "/* Label box, darken color on hover, fitted */\n",
       "#sk-container-id-2 div.sk-label.fitted:hover label.sk-toggleable__label.fitted {\n",
       "  color: var(--sklearn-color-text);\n",
       "  background-color: var(--sklearn-color-fitted-level-2);\n",
       "}\n",
       "\n",
       "/* Estimator label */\n",
       "\n",
       "#sk-container-id-2 div.sk-label label {\n",
       "  font-family: monospace;\n",
       "  font-weight: bold;\n",
       "  display: inline-block;\n",
       "  line-height: 1.2em;\n",
       "}\n",
       "\n",
       "#sk-container-id-2 div.sk-label-container {\n",
       "  text-align: center;\n",
       "}\n",
       "\n",
       "/* Estimator-specific */\n",
       "#sk-container-id-2 div.sk-estimator {\n",
       "  font-family: monospace;\n",
       "  border: 1px dotted var(--sklearn-color-border-box);\n",
       "  border-radius: 0.25em;\n",
       "  box-sizing: border-box;\n",
       "  margin-bottom: 0.5em;\n",
       "  /* unfitted */\n",
       "  background-color: var(--sklearn-color-unfitted-level-0);\n",
       "}\n",
       "\n",
       "#sk-container-id-2 div.sk-estimator.fitted {\n",
       "  /* fitted */\n",
       "  background-color: var(--sklearn-color-fitted-level-0);\n",
       "}\n",
       "\n",
       "/* on hover */\n",
       "#sk-container-id-2 div.sk-estimator:hover {\n",
       "  /* unfitted */\n",
       "  background-color: var(--sklearn-color-unfitted-level-2);\n",
       "}\n",
       "\n",
       "#sk-container-id-2 div.sk-estimator.fitted:hover {\n",
       "  /* fitted */\n",
       "  background-color: var(--sklearn-color-fitted-level-2);\n",
       "}\n",
       "\n",
       "/* Specification for estimator info (e.g. \"i\" and \"?\") */\n",
       "\n",
       "/* Common style for \"i\" and \"?\" */\n",
       "\n",
       ".sk-estimator-doc-link,\n",
       "a:link.sk-estimator-doc-link,\n",
       "a:visited.sk-estimator-doc-link {\n",
       "  float: right;\n",
       "  font-size: smaller;\n",
       "  line-height: 1em;\n",
       "  font-family: monospace;\n",
       "  background-color: var(--sklearn-color-background);\n",
       "  border-radius: 1em;\n",
       "  height: 1em;\n",
       "  width: 1em;\n",
       "  text-decoration: none !important;\n",
       "  margin-left: 0.5em;\n",
       "  text-align: center;\n",
       "  /* unfitted */\n",
       "  border: var(--sklearn-color-unfitted-level-1) 1pt solid;\n",
       "  color: var(--sklearn-color-unfitted-level-1);\n",
       "}\n",
       "\n",
       ".sk-estimator-doc-link.fitted,\n",
       "a:link.sk-estimator-doc-link.fitted,\n",
       "a:visited.sk-estimator-doc-link.fitted {\n",
       "  /* fitted */\n",
       "  border: var(--sklearn-color-fitted-level-1) 1pt solid;\n",
       "  color: var(--sklearn-color-fitted-level-1);\n",
       "}\n",
       "\n",
       "/* On hover */\n",
       "div.sk-estimator:hover .sk-estimator-doc-link:hover,\n",
       ".sk-estimator-doc-link:hover,\n",
       "div.sk-label-container:hover .sk-estimator-doc-link:hover,\n",
       ".sk-estimator-doc-link:hover {\n",
       "  /* unfitted */\n",
       "  background-color: var(--sklearn-color-unfitted-level-3);\n",
       "  color: var(--sklearn-color-background);\n",
       "  text-decoration: none;\n",
       "}\n",
       "\n",
       "div.sk-estimator.fitted:hover .sk-estimator-doc-link.fitted:hover,\n",
       ".sk-estimator-doc-link.fitted:hover,\n",
       "div.sk-label-container:hover .sk-estimator-doc-link.fitted:hover,\n",
       ".sk-estimator-doc-link.fitted:hover {\n",
       "  /* fitted */\n",
       "  background-color: var(--sklearn-color-fitted-level-3);\n",
       "  color: var(--sklearn-color-background);\n",
       "  text-decoration: none;\n",
       "}\n",
       "\n",
       "/* Span, style for the box shown on hovering the info icon */\n",
       ".sk-estimator-doc-link span {\n",
       "  display: none;\n",
       "  z-index: 9999;\n",
       "  position: relative;\n",
       "  font-weight: normal;\n",
       "  right: .2ex;\n",
       "  padding: .5ex;\n",
       "  margin: .5ex;\n",
       "  width: min-content;\n",
       "  min-width: 20ex;\n",
       "  max-width: 50ex;\n",
       "  color: var(--sklearn-color-text);\n",
       "  box-shadow: 2pt 2pt 4pt #999;\n",
       "  /* unfitted */\n",
       "  background: var(--sklearn-color-unfitted-level-0);\n",
       "  border: .5pt solid var(--sklearn-color-unfitted-level-3);\n",
       "}\n",
       "\n",
       ".sk-estimator-doc-link.fitted span {\n",
       "  /* fitted */\n",
       "  background: var(--sklearn-color-fitted-level-0);\n",
       "  border: var(--sklearn-color-fitted-level-3);\n",
       "}\n",
       "\n",
       ".sk-estimator-doc-link:hover span {\n",
       "  display: block;\n",
       "}\n",
       "\n",
       "/* \"?\"-specific style due to the `<a>` HTML tag */\n",
       "\n",
       "#sk-container-id-2 a.estimator_doc_link {\n",
       "  float: right;\n",
       "  font-size: 1rem;\n",
       "  line-height: 1em;\n",
       "  font-family: monospace;\n",
       "  background-color: var(--sklearn-color-background);\n",
       "  border-radius: 1rem;\n",
       "  height: 1rem;\n",
       "  width: 1rem;\n",
       "  text-decoration: none;\n",
       "  /* unfitted */\n",
       "  color: var(--sklearn-color-unfitted-level-1);\n",
       "  border: var(--sklearn-color-unfitted-level-1) 1pt solid;\n",
       "}\n",
       "\n",
       "#sk-container-id-2 a.estimator_doc_link.fitted {\n",
       "  /* fitted */\n",
       "  border: var(--sklearn-color-fitted-level-1) 1pt solid;\n",
       "  color: var(--sklearn-color-fitted-level-1);\n",
       "}\n",
       "\n",
       "/* On hover */\n",
       "#sk-container-id-2 a.estimator_doc_link:hover {\n",
       "  /* unfitted */\n",
       "  background-color: var(--sklearn-color-unfitted-level-3);\n",
       "  color: var(--sklearn-color-background);\n",
       "  text-decoration: none;\n",
       "}\n",
       "\n",
       "#sk-container-id-2 a.estimator_doc_link.fitted:hover {\n",
       "  /* fitted */\n",
       "  background-color: var(--sklearn-color-fitted-level-3);\n",
       "}\n",
       "</style><div id=\"sk-container-id-2\" class=\"sk-top-container\"><div class=\"sk-text-repr-fallback\"><pre>GridSearchCV(cv=5,\n",
       "             estimator=Pipeline(steps=[(&#x27;scaler&#x27;, MinMaxScaler()),\n",
       "                                       (&#x27;gbc&#x27;,\n",
       "                                        GradientBoostingClassifier(random_state=42))]),\n",
       "             n_jobs=-1,\n",
       "             param_grid={&#x27;gbc__learning_rate&#x27;: [0.01, 0.1, 0.2],\n",
       "                         &#x27;gbc__max_depth&#x27;: [3, 4, 5],\n",
       "                         &#x27;gbc__n_estimators&#x27;: [50, 100, 150],\n",
       "                         &#x27;gbc__subsample&#x27;: [0.8, 1.0]},\n",
       "             scoring=&#x27;accuracy&#x27;)</pre><b>In a Jupyter environment, please rerun this cell to show the HTML representation or trust the notebook. <br />On GitHub, the HTML representation is unable to render, please try loading this page with nbviewer.org.</b></div><div class=\"sk-container\" hidden><div class=\"sk-item sk-dashed-wrapped\"><div class=\"sk-label-container\"><div class=\"sk-label  sk-toggleable\"><input class=\"sk-toggleable__control sk-hidden--visually\" id=\"sk-estimator-id-5\" type=\"checkbox\" ><label for=\"sk-estimator-id-5\" class=\"sk-toggleable__label  sk-toggleable__label-arrow\"><div><div>GridSearchCV</div></div><div><a class=\"sk-estimator-doc-link \" rel=\"noreferrer\" target=\"_blank\" href=\"https://scikit-learn.org/1.6/modules/generated/sklearn.model_selection.GridSearchCV.html\">?<span>Documentation for GridSearchCV</span></a><span class=\"sk-estimator-doc-link \">i<span>Not fitted</span></span></div></label><div class=\"sk-toggleable__content \"><pre>GridSearchCV(cv=5,\n",
       "             estimator=Pipeline(steps=[(&#x27;scaler&#x27;, MinMaxScaler()),\n",
       "                                       (&#x27;gbc&#x27;,\n",
       "                                        GradientBoostingClassifier(random_state=42))]),\n",
       "             n_jobs=-1,\n",
       "             param_grid={&#x27;gbc__learning_rate&#x27;: [0.01, 0.1, 0.2],\n",
       "                         &#x27;gbc__max_depth&#x27;: [3, 4, 5],\n",
       "                         &#x27;gbc__n_estimators&#x27;: [50, 100, 150],\n",
       "                         &#x27;gbc__subsample&#x27;: [0.8, 1.0]},\n",
       "             scoring=&#x27;accuracy&#x27;)</pre></div> </div></div><div class=\"sk-parallel\"><div class=\"sk-parallel-item\"><div class=\"sk-item\"><div class=\"sk-label-container\"><div class=\"sk-label  sk-toggleable\"><input class=\"sk-toggleable__control sk-hidden--visually\" id=\"sk-estimator-id-6\" type=\"checkbox\" ><label for=\"sk-estimator-id-6\" class=\"sk-toggleable__label  sk-toggleable__label-arrow\"><div><div>estimator: Pipeline</div></div></label><div class=\"sk-toggleable__content \"><pre>Pipeline(steps=[(&#x27;scaler&#x27;, MinMaxScaler()),\n",
       "                (&#x27;gbc&#x27;, GradientBoostingClassifier(random_state=42))])</pre></div> </div></div><div class=\"sk-serial\"><div class=\"sk-item\"><div class=\"sk-serial\"><div class=\"sk-item\"><div class=\"sk-estimator  sk-toggleable\"><input class=\"sk-toggleable__control sk-hidden--visually\" id=\"sk-estimator-id-7\" type=\"checkbox\" ><label for=\"sk-estimator-id-7\" class=\"sk-toggleable__label  sk-toggleable__label-arrow\"><div><div>MinMaxScaler</div></div><div><a class=\"sk-estimator-doc-link \" rel=\"noreferrer\" target=\"_blank\" href=\"https://scikit-learn.org/1.6/modules/generated/sklearn.preprocessing.MinMaxScaler.html\">?<span>Documentation for MinMaxScaler</span></a></div></label><div class=\"sk-toggleable__content \"><pre>MinMaxScaler()</pre></div> </div></div><div class=\"sk-item\"><div class=\"sk-estimator  sk-toggleable\"><input class=\"sk-toggleable__control sk-hidden--visually\" id=\"sk-estimator-id-8\" type=\"checkbox\" ><label for=\"sk-estimator-id-8\" class=\"sk-toggleable__label  sk-toggleable__label-arrow\"><div><div>GradientBoostingClassifier</div></div><div><a class=\"sk-estimator-doc-link \" rel=\"noreferrer\" target=\"_blank\" href=\"https://scikit-learn.org/1.6/modules/generated/sklearn.ensemble.GradientBoostingClassifier.html\">?<span>Documentation for GradientBoostingClassifier</span></a></div></label><div class=\"sk-toggleable__content \"><pre>GradientBoostingClassifier(random_state=42)</pre></div> </div></div></div></div></div></div></div></div></div></div></div>"
      ],
      "text/plain": [
       "GridSearchCV(cv=5,\n",
       "             estimator=Pipeline(steps=[('scaler', MinMaxScaler()),\n",
       "                                       ('gbc',\n",
       "                                        GradientBoostingClassifier(random_state=42))]),\n",
       "             n_jobs=-1,\n",
       "             param_grid={'gbc__learning_rate': [0.01, 0.1, 0.2],\n",
       "                         'gbc__max_depth': [3, 4, 5],\n",
       "                         'gbc__n_estimators': [50, 100, 150],\n",
       "                         'gbc__subsample': [0.8, 1.0]},\n",
       "             scoring='accuracy')"
      ]
     },
     "execution_count": 25,
     "metadata": {},
     "output_type": "execute_result"
    }
   ],
   "source": [
    "from sklearn.model_selection import GridSearchCV\n",
    "from sklearn.ensemble import GradientBoostingClassifier\n",
    "from sklearn.pipeline import Pipeline\n",
    "from sklearn.preprocessing import MinMaxScaler\n",
    "\n",
    "# Define the parameter grid for GradientBoostingClassifier\n",
    "param_grid = {\n",
    "    'gbc__n_estimators': [50, 100, 150],\n",
    "    'gbc__learning_rate': [0.01, 0.1, 0.2],\n",
    "    'gbc__max_depth': [3, 4, 5],\n",
    "    'gbc__subsample': [0.8, 1.0]\n",
    "}\n",
    "\n",
    "# Create a pipeline\n",
    "pipeline = Pipeline([\n",
    "    ('scaler', MinMaxScaler()),  # Step to normalize features\n",
    "    ('gbc', GradientBoostingClassifier(random_state=42))  # Gradient Boosting Classifier\n",
    "])\n",
    "\n",
    "# Set up the GridSearchCV\n",
    "main_pipeline = GridSearchCV(pipeline, param_grid, cv=5, scoring='accuracy', n_jobs=-1)\n",
    "main_pipeline\n"
   ]
  },
  {
   "cell_type": "code",
   "execution_count": 26,
   "metadata": {},
   "outputs": [
    {
     "name": "stdout",
     "output_type": "stream",
     "text": [
      "Best Parameters: {'gbc__learning_rate': 0.1, 'gbc__max_depth': 3, 'gbc__n_estimators': 50, 'gbc__subsample': 0.8}\n",
      "Best Score: 0.9546875\n",
      "              precision    recall  f1-score   support\n",
      "\n",
      "           0       1.00      1.00      1.00       121\n",
      "           1       0.96      0.83      0.89       117\n",
      "           2       1.00      1.00      1.00       115\n",
      "           3       0.86      0.97      0.91       127\n",
      "\n",
      "    accuracy                           0.95       480\n",
      "   macro avg       0.96      0.95      0.95       480\n",
      "weighted avg       0.95      0.95      0.95       480\n",
      "\n"
     ]
    }
   ],
   "source": [
    "# Fit the model\n",
    "main_pipeline.fit(X_train, y_train)\n",
    "\n",
    "# Print the best parameters and the best score\n",
    "print(\"Best Parameters:\", main_pipeline.best_params_)\n",
    "print(\"Best Score:\", main_pipeline.best_score_)\n",
    "\n",
    "# Predict and evaluate\n",
    "y_pred = main_pipeline.predict(X_test)\n",
    "print(classification_report(y_test, y_pred))"
   ]
  },
  {
   "cell_type": "code",
   "execution_count": 27,
   "metadata": {},
   "outputs": [],
   "source": [
    "# def extract_features_from_dict(data_series):\n",
    "#     # Define all possible features we expect\n",
    "#     feature_keys = [\n",
    "#         'num_nodes', 'num_edges', 'max_in_degree', 'max_out_degree',\n",
    "#         'unary_arithmetic_ratio', 'binary_arithmetic_ratio', 'block_ratio',\n",
    "#         'control_flow_ratio', 'environment_ratio', 'system_ratio', \n",
    "#         'stack_ratio', 'invalid_ratio'\n",
    "#     ]\n",
    "    \n",
    "#     # Initialize an empty array\n",
    "#     features = np.zeros((len(data_series), len(feature_keys)))\n",
    "    \n",
    "#     # Fill the array with values from dictionaries\n",
    "#     for i, dict_data in enumerate(data_series):\n",
    "#         for j, key in enumerate(feature_keys):\n",
    "#             features[i, j] = dict_data.get(key, 0)  # Use 0 as default if key doesn't exist\n",
    "            \n",
    "#     return features\n",
    "# data = extract_features_from_dict(data)\n",
    "# data"
   ]
  },
  {
   "cell_type": "code",
   "execution_count": 55,
   "metadata": {},
   "outputs": [
    {
     "data": {
      "text/plain": [
       "BiLSTMClassifier(\n",
       "  (lstm): LSTM(12, 128, num_layers=3, batch_first=True, dropout=0.3, bidirectional=True)\n",
       "  (fc_layers): Sequential(\n",
       "    (0): Linear(in_features=256, out_features=128, bias=True)\n",
       "    (1): BatchNorm1d(128, eps=1e-05, momentum=0.1, affine=True, track_running_stats=True)\n",
       "    (2): ReLU()\n",
       "    (3): Dropout(p=0.3, inplace=False)\n",
       "    (4): Linear(in_features=128, out_features=64, bias=True)\n",
       "    (5): BatchNorm1d(64, eps=1e-05, momentum=0.1, affine=True, track_running_stats=True)\n",
       "    (6): ReLU()\n",
       "    (7): Dropout(p=0.3, inplace=False)\n",
       "    (8): Linear(in_features=64, out_features=4, bias=True)\n",
       "  )\n",
       ")"
      ]
     },
     "execution_count": 55,
     "metadata": {},
     "output_type": "execute_result"
    }
   ],
   "source": [
    "X_train_tensor = torch.FloatTensor(X_train)\n",
    "X_test_tensor = torch.FloatTensor(X_test)\n",
    "y_train_tensor = torch.LongTensor(y_train.values)\n",
    "y_test_tensor = torch.LongTensor(y_test.values)\n",
    "\n",
    "# Create datasets\n",
    "train_dataset = TensorDataset(X_train_tensor, y_train_tensor)\n",
    "val_dataset = TensorDataset(X_test_tensor, y_test_tensor)\n",
    "\n",
    "# Create data loaders with batch size of 32\n",
    "train_loader = DataLoader(train_dataset, batch_size=32, shuffle=True, drop_last=True)\n",
    "val_loader = DataLoader(val_dataset, batch_size=32, shuffle=False, drop_last=True)\n",
    "\n",
    "# Initialize model\n",
    "class BiLSTMClassifier(nn.Module):\n",
    "    def __init__(self, input_size=12, hidden_size=128, num_layers=3, output_size=4, dropout_rate=0.3):\n",
    "        super().__init__()\n",
    "        \n",
    "        self.lstm = nn.LSTM(\n",
    "            input_size=input_size,\n",
    "            hidden_size=hidden_size,\n",
    "            num_layers=num_layers,\n",
    "            batch_first=True,\n",
    "            bidirectional=True,\n",
    "            dropout=dropout_rate\n",
    "        )\n",
    "        \n",
    "        self.fc_layers = nn.Sequential(\n",
    "            nn.Linear(hidden_size * 2, hidden_size),\n",
    "            nn.BatchNorm1d(hidden_size),\n",
    "            nn.ReLU(),\n",
    "            nn.Dropout(dropout_rate),\n",
    "            nn.Linear(hidden_size, hidden_size // 2),\n",
    "            nn.BatchNorm1d(hidden_size // 2),\n",
    "            nn.ReLU(),\n",
    "            nn.Dropout(dropout_rate),\n",
    "            nn.Linear(hidden_size // 2, output_size)\n",
    "        )\n",
    "        \n",
    "    def forward(self, x):\n",
    "        # LSTM layers\n",
    "        lstm_out, _ = self.lstm(x)\n",
    "        \n",
    "        # Get final output\n",
    "        final_out = lstm_out[:, -1, :]\n",
    "        \n",
    "        # FC layers\n",
    "        output = self.fc_layers(final_out)\n",
    "        return output\n",
    "\n",
    "# Model parameters\n",
    "input_size = 12  # From your data dimension\n",
    "hidden_size = 128\n",
    "num_layers = 3\n",
    "output_size = 4  # Number of classes\n",
    "dropout_rate = 0.3\n",
    "\n",
    "# Initialize model\n",
    "model = BiLSTMClassifier(\n",
    "    input_size=input_size,\n",
    "    hidden_size=hidden_size,\n",
    "    num_layers=num_layers,\n",
    "    output_size=output_size,\n",
    "    dropout_rate=dropout_rate\n",
    ")\n",
    "model"
   ]
  },
  {
   "cell_type": "code",
   "execution_count": 56,
   "metadata": {},
   "outputs": [
    {
     "name": "stdout",
     "output_type": "stream",
     "text": [
      "Epoch [1/200]\n",
      "Train Loss: 0.8411, Train Acc: 64.64%\n",
      "Val Loss: 1.1600, Val Acc: 28.75%\n",
      "Epoch [2/200]\n",
      "Train Loss: 0.3780, Train Acc: 85.00%\n",
      "Val Loss: 0.2708, Val Acc: 88.54%\n",
      "Epoch [3/200]\n",
      "Train Loss: 0.3144, Train Acc: 87.08%\n",
      "Val Loss: 0.2476, Val Acc: 89.17%\n",
      "Epoch [4/200]\n",
      "Train Loss: 0.2799, Train Acc: 88.23%\n",
      "Val Loss: 0.2618, Val Acc: 87.92%\n",
      "Epoch [5/200]\n",
      "Train Loss: 0.2530, Train Acc: 89.79%\n",
      "Val Loss: 0.2284, Val Acc: 89.38%\n",
      "Epoch [6/200]\n",
      "Train Loss: 0.2446, Train Acc: 90.52%\n",
      "Val Loss: 0.2238, Val Acc: 88.54%\n",
      "Epoch [7/200]\n",
      "Train Loss: 0.2287, Train Acc: 90.31%\n",
      "Val Loss: 0.2316, Val Acc: 89.17%\n",
      "Epoch [8/200]\n",
      "Train Loss: 0.2242, Train Acc: 90.52%\n",
      "Val Loss: 0.2353, Val Acc: 88.75%\n",
      "Epoch [9/200]\n",
      "Train Loss: 0.2280, Train Acc: 90.94%\n",
      "Val Loss: 0.2234, Val Acc: 89.38%\n",
      "Epoch [10/200]\n",
      "Train Loss: 0.2131, Train Acc: 91.25%\n",
      "Val Loss: 0.2236, Val Acc: 90.00%\n",
      "Epoch [11/200]\n",
      "Train Loss: 0.2266, Train Acc: 91.46%\n",
      "Val Loss: 0.2208, Val Acc: 89.58%\n",
      "Epoch [12/200]\n",
      "Train Loss: 0.2116, Train Acc: 91.72%\n",
      "Val Loss: 0.2213, Val Acc: 89.58%\n",
      "Epoch [13/200]\n",
      "Train Loss: 0.2258, Train Acc: 90.94%\n",
      "Val Loss: 0.2219, Val Acc: 89.17%\n",
      "Epoch [14/200]\n",
      "Train Loss: 0.2074, Train Acc: 91.72%\n",
      "Val Loss: 0.2282, Val Acc: 89.38%\n",
      "Epoch [15/200]\n",
      "Train Loss: 0.2062, Train Acc: 90.94%\n",
      "Val Loss: 0.2231, Val Acc: 88.96%\n",
      "Epoch [16/200]\n",
      "Train Loss: 0.2174, Train Acc: 91.15%\n",
      "Val Loss: 0.2169, Val Acc: 90.00%\n",
      "Epoch [17/200]\n",
      "Train Loss: 0.2083, Train Acc: 91.98%\n",
      "Val Loss: 0.2198, Val Acc: 89.17%\n",
      "Epoch [18/200]\n",
      "Train Loss: 0.2019, Train Acc: 91.93%\n",
      "Val Loss: 0.2228, Val Acc: 89.58%\n",
      "Epoch [19/200]\n",
      "Train Loss: 0.2099, Train Acc: 91.93%\n",
      "Val Loss: 0.2336, Val Acc: 88.96%\n",
      "Epoch [20/200]\n",
      "Train Loss: 0.2028, Train Acc: 91.93%\n",
      "Val Loss: 0.2223, Val Acc: 89.38%\n",
      "Epoch [21/200]\n",
      "Train Loss: 0.2119, Train Acc: 91.56%\n",
      "Val Loss: 0.2217, Val Acc: 89.79%\n",
      "Epoch [22/200]\n",
      "Train Loss: 0.1933, Train Acc: 92.14%\n",
      "Val Loss: 0.2210, Val Acc: 89.79%\n",
      "Epoch [23/200]\n",
      "Train Loss: 0.1983, Train Acc: 91.77%\n",
      "Val Loss: 0.2264, Val Acc: 89.58%\n",
      "Epoch [24/200]\n",
      "Train Loss: 0.2104, Train Acc: 91.61%\n",
      "Val Loss: 0.2197, Val Acc: 89.17%\n",
      "Epoch [25/200]\n",
      "Train Loss: 0.1946, Train Acc: 92.08%\n",
      "Val Loss: 0.2199, Val Acc: 88.96%\n",
      "Epoch [26/200]\n",
      "Train Loss: 0.1986, Train Acc: 91.82%\n",
      "Val Loss: 0.2233, Val Acc: 89.17%\n",
      "Early stopping triggered!\n",
      "\n",
      "Classification Report:\n",
      "              precision    recall  f1-score   support\n",
      "\n",
      "           0       1.00      1.00      1.00       121\n",
      "           1       0.94      0.63      0.76       117\n",
      "           2       1.00      1.00      1.00       115\n",
      "           3       0.74      0.96      0.84       127\n",
      "\n",
      "    accuracy                           0.90       480\n",
      "   macro avg       0.92      0.90      0.90       480\n",
      "weighted avg       0.92      0.90      0.90       480\n",
      "\n"
     ]
    }
   ],
   "source": [
    "import torch\n",
    "import torch.nn as nn\n",
    "from torch.utils.data import DataLoader, TensorDataset\n",
    "import torch.optim as optim\n",
    "from sklearn.metrics import classification_report\n",
    "import plotly.graph_objects as go\n",
    "\n",
    "# Define device\n",
    "device = torch.device(\"cuda\" if torch.cuda.is_available() else \"cpu\")\n",
    "\n",
    "# Move model to device\n",
    "model = model.to(device)\n",
    "\n",
    "# Loss function and optimizer\n",
    "criterion = nn.CrossEntropyLoss()\n",
    "optimizer = optim.AdamW(model.parameters(), lr=0.001, weight_decay=0.01)\n",
    "\n",
    "# Training setup\n",
    "num_epochs = 200\n",
    "patience = 10\n",
    "trigger_times = 3\n",
    "best_val_loss = float('inf')\n",
    "\n",
    "# Store metrics\n",
    "train_losses = []\n",
    "val_losses = []\n",
    "train_accuracies = []\n",
    "val_accuracies = []\n",
    "\n",
    "for epoch in range(num_epochs):\n",
    "    # Training phase\n",
    "    model.train()\n",
    "    train_loss = 0.0\n",
    "    train_correct = 0\n",
    "    train_total = 0\n",
    "    \n",
    "    for batch_data, batch_labels in train_loader:\n",
    "        # Ensure input is 3D for LSTM\n",
    "        batch_data = batch_data.unsqueeze(1).to(device)\n",
    "        batch_labels = batch_labels.to(device)\n",
    "        \n",
    "        # Zero gradients\n",
    "        optimizer.zero_grad()\n",
    "        \n",
    "        # Forward pass\n",
    "        outputs = model(batch_data)\n",
    "        loss = criterion(outputs, batch_labels)\n",
    "        \n",
    "        # Backward pass and optimization\n",
    "        loss.backward()\n",
    "        torch.nn.utils.clip_grad_norm_(model.parameters(), max_norm=1.0)  # Gradient clipping\n",
    "        optimizer.step()\n",
    "        \n",
    "        # Update training metrics\n",
    "        train_loss += loss.item()\n",
    "        _, predicted = torch.max(outputs, 1)\n",
    "        train_total += batch_labels.size(0)\n",
    "        train_correct += (predicted == batch_labels).sum().item()\n",
    "    \n",
    "    epoch_train_loss = train_loss / len(train_loader)\n",
    "    epoch_train_acc = 100 * train_correct / train_total\n",
    "    train_losses.append(epoch_train_loss)\n",
    "    train_accuracies.append(epoch_train_acc)\n",
    "    \n",
    "    # Validation phase\n",
    "    model.eval()\n",
    "    val_loss = 0.0\n",
    "    val_correct = 0\n",
    "    val_total = 0\n",
    "    \n",
    "    with torch.no_grad():\n",
    "        for val_data, val_labels in val_loader:\n",
    "            # Ensure input is 3D for LSTM\n",
    "            val_data = val_data.unsqueeze(1).to(device)\n",
    "            val_labels = val_labels.to(device)\n",
    "            \n",
    "            # Forward pass\n",
    "            val_outputs = model(val_data)\n",
    "            val_loss += criterion(val_outputs, val_labels).item()\n",
    "            \n",
    "            # Update validation metrics\n",
    "            _, predicted = torch.max(val_outputs, 1)\n",
    "            val_total += val_labels.size(0)\n",
    "            val_correct += (predicted == val_labels).sum().item()\n",
    "    \n",
    "    epoch_val_loss = val_loss / len(val_loader)\n",
    "    epoch_val_acc = 100 * val_correct / val_total\n",
    "    val_losses.append(epoch_val_loss)\n",
    "    val_accuracies.append(epoch_val_acc)\n",
    "    \n",
    "    # Print epoch metrics\n",
    "    print(f\"Epoch [{epoch+1}/{num_epochs}]\")\n",
    "    print(f\"Train Loss: {epoch_train_loss:.4f}, Train Acc: {epoch_train_acc:.2f}%\")\n",
    "    print(f\"Val Loss: {epoch_val_loss:.4f}, Val Acc: {epoch_val_acc:.2f}%\")\n",
    "    \n",
    "    # Early stopping\n",
    "    if epoch_val_loss < best_val_loss:\n",
    "        best_val_loss = epoch_val_loss\n",
    "        trigger_times = 0\n",
    "        torch.save(model.state_dict(), \"best_model.pth\")\n",
    "    else:\n",
    "        trigger_times += 1\n",
    "        if trigger_times >= patience:\n",
    "            print(\"Early stopping triggered!\")\n",
    "            break\n",
    "\n",
    "# Load the best model\n",
    "model.load_state_dict(torch.load(\"best_model.pth\"))\n",
    "\n",
    "# Evaluate on validation set\n",
    "model.eval()\n",
    "all_predictions = []\n",
    "all_labels = []\n",
    "\n",
    "with torch.no_grad():\n",
    "    for val_data, val_labels in val_loader:\n",
    "        val_data = val_data.unsqueeze(1).to(device)\n",
    "        val_labels = val_labels.to(device)\n",
    "        \n",
    "        val_outputs = model(val_data)\n",
    "        _, predicted = torch.max(val_outputs, 1)\n",
    "        \n",
    "        all_predictions.extend(predicted.cpu().numpy())\n",
    "        all_labels.extend(val_labels.cpu().numpy())\n",
    "\n",
    "# Print classification report\n",
    "print(\"\\nClassification Report:\")\n",
    "print(classification_report(all_labels, all_predictions))\n"
   ]
  },
  {
   "cell_type": "code",
   "execution_count": 57,
   "metadata": {},
   "outputs": [
    {
     "data": {
      "application/vnd.plotly.v1+json": {
       "config": {
        "plotlyServerURL": "https://plot.ly"
       },
       "data": [
        {
         "line": {
          "width": 2
         },
         "mode": "lines+markers",
         "name": "Train Loss",
         "type": "scatter",
         "x": [
          1,
          2,
          3,
          4,
          5,
          6,
          7,
          8,
          9,
          10,
          11,
          12,
          13,
          14,
          15,
          16,
          17,
          18,
          19,
          20,
          21,
          22,
          23,
          24,
          25,
          26
         ],
         "y": [
          0.8410966128110886,
          0.3780369783441226,
          0.3144241817295551,
          0.2798679433763027,
          0.25302402041852473,
          0.24456698708236219,
          0.22869724929332733,
          0.22420460134744644,
          0.2280100781470537,
          0.21313694218794504,
          0.22658435714741548,
          0.21162164223690827,
          0.22578365517159302,
          0.2073812195410331,
          0.20615920877705018,
          0.2174185009673238,
          0.20825941512982052,
          0.20187346637248993,
          0.20991940156867106,
          0.20284863983591397,
          0.21188578543563683,
          0.19331333488225938,
          0.19831778847922882,
          0.21035059578716755,
          0.19455358448127905,
          0.19862927552312612
         ]
        },
        {
         "line": {
          "dash": "dot",
          "width": 2
         },
         "mode": "lines+markers",
         "name": "Validation Loss",
         "type": "scatter",
         "x": [
          1,
          2,
          3,
          4,
          5,
          6,
          7,
          8,
          9,
          10,
          11,
          12,
          13,
          14,
          15,
          16,
          17,
          18,
          19,
          20,
          21,
          22,
          23,
          24,
          25,
          26
         ],
         "y": [
          1.159956685702006,
          0.27078014115492505,
          0.24763105909029642,
          0.26184776027997336,
          0.2283909226457278,
          0.2238470618923505,
          0.23162542780240378,
          0.23531750192244846,
          0.22339544991652172,
          0.2235595812400182,
          0.22076776176691054,
          0.2213260069489479,
          0.22194408923387526,
          0.22815721084674198,
          0.2230576127767563,
          0.21686864693959554,
          0.2197806268930435,
          0.22281121462583542,
          0.23363546133041382,
          0.22230548361937205,
          0.22165811161200205,
          0.22096542020638785,
          0.22635527352492016,
          0.2197086662054062,
          0.21985163241624833,
          0.2232806146144867
         ]
        },
        {
         "line": {
          "color": "green",
          "width": 2
         },
         "mode": "lines+markers",
         "name": "Train Accuracy",
         "type": "scatter",
         "x": [
          1,
          2,
          3,
          4,
          5,
          6,
          7,
          8,
          9,
          10,
          11,
          12,
          13,
          14,
          15,
          16,
          17,
          18,
          19,
          20,
          21,
          22,
          23,
          24,
          25,
          26
         ],
         "y": [
          64.63541666666667,
          85,
          87.08333333333333,
          88.22916666666667,
          89.79166666666667,
          90.52083333333333,
          90.3125,
          90.52083333333333,
          90.9375,
          91.25,
          91.45833333333333,
          91.71875,
          90.9375,
          91.71875,
          90.9375,
          91.14583333333333,
          91.97916666666667,
          91.92708333333333,
          91.92708333333333,
          91.92708333333333,
          91.5625,
          92.13541666666667,
          91.77083333333333,
          91.61458333333333,
          92.08333333333333,
          91.82291666666667
         ],
         "yaxis": "y2"
        },
        {
         "line": {
          "color": "orange",
          "dash": "dot",
          "width": 2
         },
         "mode": "lines+markers",
         "name": "Validation Accuracy",
         "type": "scatter",
         "x": [
          1,
          2,
          3,
          4,
          5,
          6,
          7,
          8,
          9,
          10,
          11,
          12,
          13,
          14,
          15,
          16,
          17,
          18,
          19,
          20,
          21,
          22,
          23,
          24,
          25,
          26
         ],
         "y": [
          28.75,
          88.54166666666667,
          89.16666666666667,
          87.91666666666667,
          89.375,
          88.54166666666667,
          89.16666666666667,
          88.75,
          89.375,
          90,
          89.58333333333333,
          89.58333333333333,
          89.16666666666667,
          89.375,
          88.95833333333333,
          90,
          89.16666666666667,
          89.58333333333333,
          88.95833333333333,
          89.375,
          89.79166666666667,
          89.79166666666667,
          89.58333333333333,
          89.16666666666667,
          88.95833333333333,
          89.16666666666667
         ],
         "yaxis": "y2"
        }
       ],
       "layout": {
        "legend": {
         "orientation": "h",
         "x": 0.5,
         "y": 1.15
        },
        "template": {
         "data": {
          "bar": [
           {
            "error_x": {
             "color": "#2a3f5f"
            },
            "error_y": {
             "color": "#2a3f5f"
            },
            "marker": {
             "line": {
              "color": "white",
              "width": 0.5
             },
             "pattern": {
              "fillmode": "overlay",
              "size": 10,
              "solidity": 0.2
             }
            },
            "type": "bar"
           }
          ],
          "barpolar": [
           {
            "marker": {
             "line": {
              "color": "white",
              "width": 0.5
             },
             "pattern": {
              "fillmode": "overlay",
              "size": 10,
              "solidity": 0.2
             }
            },
            "type": "barpolar"
           }
          ],
          "carpet": [
           {
            "aaxis": {
             "endlinecolor": "#2a3f5f",
             "gridcolor": "#C8D4E3",
             "linecolor": "#C8D4E3",
             "minorgridcolor": "#C8D4E3",
             "startlinecolor": "#2a3f5f"
            },
            "baxis": {
             "endlinecolor": "#2a3f5f",
             "gridcolor": "#C8D4E3",
             "linecolor": "#C8D4E3",
             "minorgridcolor": "#C8D4E3",
             "startlinecolor": "#2a3f5f"
            },
            "type": "carpet"
           }
          ],
          "choropleth": [
           {
            "colorbar": {
             "outlinewidth": 0,
             "ticks": ""
            },
            "type": "choropleth"
           }
          ],
          "contour": [
           {
            "colorbar": {
             "outlinewidth": 0,
             "ticks": ""
            },
            "colorscale": [
             [
              0,
              "#0d0887"
             ],
             [
              0.1111111111111111,
              "#46039f"
             ],
             [
              0.2222222222222222,
              "#7201a8"
             ],
             [
              0.3333333333333333,
              "#9c179e"
             ],
             [
              0.4444444444444444,
              "#bd3786"
             ],
             [
              0.5555555555555556,
              "#d8576b"
             ],
             [
              0.6666666666666666,
              "#ed7953"
             ],
             [
              0.7777777777777778,
              "#fb9f3a"
             ],
             [
              0.8888888888888888,
              "#fdca26"
             ],
             [
              1,
              "#f0f921"
             ]
            ],
            "type": "contour"
           }
          ],
          "contourcarpet": [
           {
            "colorbar": {
             "outlinewidth": 0,
             "ticks": ""
            },
            "type": "contourcarpet"
           }
          ],
          "heatmap": [
           {
            "colorbar": {
             "outlinewidth": 0,
             "ticks": ""
            },
            "colorscale": [
             [
              0,
              "#0d0887"
             ],
             [
              0.1111111111111111,
              "#46039f"
             ],
             [
              0.2222222222222222,
              "#7201a8"
             ],
             [
              0.3333333333333333,
              "#9c179e"
             ],
             [
              0.4444444444444444,
              "#bd3786"
             ],
             [
              0.5555555555555556,
              "#d8576b"
             ],
             [
              0.6666666666666666,
              "#ed7953"
             ],
             [
              0.7777777777777778,
              "#fb9f3a"
             ],
             [
              0.8888888888888888,
              "#fdca26"
             ],
             [
              1,
              "#f0f921"
             ]
            ],
            "type": "heatmap"
           }
          ],
          "heatmapgl": [
           {
            "colorbar": {
             "outlinewidth": 0,
             "ticks": ""
            },
            "colorscale": [
             [
              0,
              "#0d0887"
             ],
             [
              0.1111111111111111,
              "#46039f"
             ],
             [
              0.2222222222222222,
              "#7201a8"
             ],
             [
              0.3333333333333333,
              "#9c179e"
             ],
             [
              0.4444444444444444,
              "#bd3786"
             ],
             [
              0.5555555555555556,
              "#d8576b"
             ],
             [
              0.6666666666666666,
              "#ed7953"
             ],
             [
              0.7777777777777778,
              "#fb9f3a"
             ],
             [
              0.8888888888888888,
              "#fdca26"
             ],
             [
              1,
              "#f0f921"
             ]
            ],
            "type": "heatmapgl"
           }
          ],
          "histogram": [
           {
            "marker": {
             "pattern": {
              "fillmode": "overlay",
              "size": 10,
              "solidity": 0.2
             }
            },
            "type": "histogram"
           }
          ],
          "histogram2d": [
           {
            "colorbar": {
             "outlinewidth": 0,
             "ticks": ""
            },
            "colorscale": [
             [
              0,
              "#0d0887"
             ],
             [
              0.1111111111111111,
              "#46039f"
             ],
             [
              0.2222222222222222,
              "#7201a8"
             ],
             [
              0.3333333333333333,
              "#9c179e"
             ],
             [
              0.4444444444444444,
              "#bd3786"
             ],
             [
              0.5555555555555556,
              "#d8576b"
             ],
             [
              0.6666666666666666,
              "#ed7953"
             ],
             [
              0.7777777777777778,
              "#fb9f3a"
             ],
             [
              0.8888888888888888,
              "#fdca26"
             ],
             [
              1,
              "#f0f921"
             ]
            ],
            "type": "histogram2d"
           }
          ],
          "histogram2dcontour": [
           {
            "colorbar": {
             "outlinewidth": 0,
             "ticks": ""
            },
            "colorscale": [
             [
              0,
              "#0d0887"
             ],
             [
              0.1111111111111111,
              "#46039f"
             ],
             [
              0.2222222222222222,
              "#7201a8"
             ],
             [
              0.3333333333333333,
              "#9c179e"
             ],
             [
              0.4444444444444444,
              "#bd3786"
             ],
             [
              0.5555555555555556,
              "#d8576b"
             ],
             [
              0.6666666666666666,
              "#ed7953"
             ],
             [
              0.7777777777777778,
              "#fb9f3a"
             ],
             [
              0.8888888888888888,
              "#fdca26"
             ],
             [
              1,
              "#f0f921"
             ]
            ],
            "type": "histogram2dcontour"
           }
          ],
          "mesh3d": [
           {
            "colorbar": {
             "outlinewidth": 0,
             "ticks": ""
            },
            "type": "mesh3d"
           }
          ],
          "parcoords": [
           {
            "line": {
             "colorbar": {
              "outlinewidth": 0,
              "ticks": ""
             }
            },
            "type": "parcoords"
           }
          ],
          "pie": [
           {
            "automargin": true,
            "type": "pie"
           }
          ],
          "scatter": [
           {
            "fillpattern": {
             "fillmode": "overlay",
             "size": 10,
             "solidity": 0.2
            },
            "type": "scatter"
           }
          ],
          "scatter3d": [
           {
            "line": {
             "colorbar": {
              "outlinewidth": 0,
              "ticks": ""
             }
            },
            "marker": {
             "colorbar": {
              "outlinewidth": 0,
              "ticks": ""
             }
            },
            "type": "scatter3d"
           }
          ],
          "scattercarpet": [
           {
            "marker": {
             "colorbar": {
              "outlinewidth": 0,
              "ticks": ""
             }
            },
            "type": "scattercarpet"
           }
          ],
          "scattergeo": [
           {
            "marker": {
             "colorbar": {
              "outlinewidth": 0,
              "ticks": ""
             }
            },
            "type": "scattergeo"
           }
          ],
          "scattergl": [
           {
            "marker": {
             "colorbar": {
              "outlinewidth": 0,
              "ticks": ""
             }
            },
            "type": "scattergl"
           }
          ],
          "scattermapbox": [
           {
            "marker": {
             "colorbar": {
              "outlinewidth": 0,
              "ticks": ""
             }
            },
            "type": "scattermapbox"
           }
          ],
          "scatterpolar": [
           {
            "marker": {
             "colorbar": {
              "outlinewidth": 0,
              "ticks": ""
             }
            },
            "type": "scatterpolar"
           }
          ],
          "scatterpolargl": [
           {
            "marker": {
             "colorbar": {
              "outlinewidth": 0,
              "ticks": ""
             }
            },
            "type": "scatterpolargl"
           }
          ],
          "scatterternary": [
           {
            "marker": {
             "colorbar": {
              "outlinewidth": 0,
              "ticks": ""
             }
            },
            "type": "scatterternary"
           }
          ],
          "surface": [
           {
            "colorbar": {
             "outlinewidth": 0,
             "ticks": ""
            },
            "colorscale": [
             [
              0,
              "#0d0887"
             ],
             [
              0.1111111111111111,
              "#46039f"
             ],
             [
              0.2222222222222222,
              "#7201a8"
             ],
             [
              0.3333333333333333,
              "#9c179e"
             ],
             [
              0.4444444444444444,
              "#bd3786"
             ],
             [
              0.5555555555555556,
              "#d8576b"
             ],
             [
              0.6666666666666666,
              "#ed7953"
             ],
             [
              0.7777777777777778,
              "#fb9f3a"
             ],
             [
              0.8888888888888888,
              "#fdca26"
             ],
             [
              1,
              "#f0f921"
             ]
            ],
            "type": "surface"
           }
          ],
          "table": [
           {
            "cells": {
             "fill": {
              "color": "#EBF0F8"
             },
             "line": {
              "color": "white"
             }
            },
            "header": {
             "fill": {
              "color": "#C8D4E3"
             },
             "line": {
              "color": "white"
             }
            },
            "type": "table"
           }
          ]
         },
         "layout": {
          "annotationdefaults": {
           "arrowcolor": "#2a3f5f",
           "arrowhead": 0,
           "arrowwidth": 1
          },
          "autotypenumbers": "strict",
          "coloraxis": {
           "colorbar": {
            "outlinewidth": 0,
            "ticks": ""
           }
          },
          "colorscale": {
           "diverging": [
            [
             0,
             "#8e0152"
            ],
            [
             0.1,
             "#c51b7d"
            ],
            [
             0.2,
             "#de77ae"
            ],
            [
             0.3,
             "#f1b6da"
            ],
            [
             0.4,
             "#fde0ef"
            ],
            [
             0.5,
             "#f7f7f7"
            ],
            [
             0.6,
             "#e6f5d0"
            ],
            [
             0.7,
             "#b8e186"
            ],
            [
             0.8,
             "#7fbc41"
            ],
            [
             0.9,
             "#4d9221"
            ],
            [
             1,
             "#276419"
            ]
           ],
           "sequential": [
            [
             0,
             "#0d0887"
            ],
            [
             0.1111111111111111,
             "#46039f"
            ],
            [
             0.2222222222222222,
             "#7201a8"
            ],
            [
             0.3333333333333333,
             "#9c179e"
            ],
            [
             0.4444444444444444,
             "#bd3786"
            ],
            [
             0.5555555555555556,
             "#d8576b"
            ],
            [
             0.6666666666666666,
             "#ed7953"
            ],
            [
             0.7777777777777778,
             "#fb9f3a"
            ],
            [
             0.8888888888888888,
             "#fdca26"
            ],
            [
             1,
             "#f0f921"
            ]
           ],
           "sequentialminus": [
            [
             0,
             "#0d0887"
            ],
            [
             0.1111111111111111,
             "#46039f"
            ],
            [
             0.2222222222222222,
             "#7201a8"
            ],
            [
             0.3333333333333333,
             "#9c179e"
            ],
            [
             0.4444444444444444,
             "#bd3786"
            ],
            [
             0.5555555555555556,
             "#d8576b"
            ],
            [
             0.6666666666666666,
             "#ed7953"
            ],
            [
             0.7777777777777778,
             "#fb9f3a"
            ],
            [
             0.8888888888888888,
             "#fdca26"
            ],
            [
             1,
             "#f0f921"
            ]
           ]
          },
          "colorway": [
           "#636efa",
           "#EF553B",
           "#00cc96",
           "#ab63fa",
           "#FFA15A",
           "#19d3f3",
           "#FF6692",
           "#B6E880",
           "#FF97FF",
           "#FECB52"
          ],
          "font": {
           "color": "#2a3f5f"
          },
          "geo": {
           "bgcolor": "white",
           "lakecolor": "white",
           "landcolor": "white",
           "showlakes": true,
           "showland": true,
           "subunitcolor": "#C8D4E3"
          },
          "hoverlabel": {
           "align": "left"
          },
          "hovermode": "closest",
          "mapbox": {
           "style": "light"
          },
          "paper_bgcolor": "white",
          "plot_bgcolor": "white",
          "polar": {
           "angularaxis": {
            "gridcolor": "#EBF0F8",
            "linecolor": "#EBF0F8",
            "ticks": ""
           },
           "bgcolor": "white",
           "radialaxis": {
            "gridcolor": "#EBF0F8",
            "linecolor": "#EBF0F8",
            "ticks": ""
           }
          },
          "scene": {
           "xaxis": {
            "backgroundcolor": "white",
            "gridcolor": "#DFE8F3",
            "gridwidth": 2,
            "linecolor": "#EBF0F8",
            "showbackground": true,
            "ticks": "",
            "zerolinecolor": "#EBF0F8"
           },
           "yaxis": {
            "backgroundcolor": "white",
            "gridcolor": "#DFE8F3",
            "gridwidth": 2,
            "linecolor": "#EBF0F8",
            "showbackground": true,
            "ticks": "",
            "zerolinecolor": "#EBF0F8"
           },
           "zaxis": {
            "backgroundcolor": "white",
            "gridcolor": "#DFE8F3",
            "gridwidth": 2,
            "linecolor": "#EBF0F8",
            "showbackground": true,
            "ticks": "",
            "zerolinecolor": "#EBF0F8"
           }
          },
          "shapedefaults": {
           "line": {
            "color": "#2a3f5f"
           }
          },
          "ternary": {
           "aaxis": {
            "gridcolor": "#DFE8F3",
            "linecolor": "#A2B1C6",
            "ticks": ""
           },
           "baxis": {
            "gridcolor": "#DFE8F3",
            "linecolor": "#A2B1C6",
            "ticks": ""
           },
           "bgcolor": "white",
           "caxis": {
            "gridcolor": "#DFE8F3",
            "linecolor": "#A2B1C6",
            "ticks": ""
           }
          },
          "title": {
           "x": 0.05
          },
          "xaxis": {
           "automargin": true,
           "gridcolor": "#EBF0F8",
           "linecolor": "#EBF0F8",
           "ticks": "",
           "title": {
            "standoff": 15
           },
           "zerolinecolor": "#EBF0F8",
           "zerolinewidth": 2
          },
          "yaxis": {
           "automargin": true,
           "gridcolor": "#EBF0F8",
           "linecolor": "#EBF0F8",
           "ticks": "",
           "title": {
            "standoff": 15
           },
           "zerolinecolor": "#EBF0F8",
           "zerolinewidth": 2
          }
         }
        },
        "title": {
         "text": "Training and Validation Metrics"
        },
        "xaxis": {
         "title": {
          "text": "Epoch"
         }
        },
        "yaxis": {
         "tickfont": {
          "color": "blue"
         },
         "title": {
          "font": {
           "color": "blue"
          },
          "text": "Loss"
         }
        },
        "yaxis2": {
         "overlaying": "y",
         "side": "right",
         "tickfont": {
          "color": "green"
         },
         "title": {
          "font": {
           "color": "green"
          },
          "text": "Accuracy (%)"
         }
        }
       }
      }
     },
     "metadata": {},
     "output_type": "display_data"
    }
   ],
   "source": [
    "# Combined chart for accuracy and loss\n",
    "fig = go.Figure()\n",
    "\n",
    "# Add training loss\n",
    "fig.add_trace(go.Scatter(\n",
    "    x=list(range(1, len(train_losses) + 1)),\n",
    "    y=train_losses,\n",
    "    mode='lines+markers',\n",
    "    name='Train Loss',\n",
    "    line=dict(width=2)\n",
    "))\n",
    "\n",
    "# Add validation loss\n",
    "fig.add_trace(go.Scatter(\n",
    "    x=list(range(1, len(val_losses) + 1)),\n",
    "    y=val_losses,\n",
    "    mode='lines+markers',\n",
    "    name='Validation Loss',\n",
    "    line=dict(width=2, dash='dot')\n",
    "))\n",
    "\n",
    "# Add training accuracy\n",
    "fig.add_trace(go.Scatter(\n",
    "    x=list(range(1, len(train_accuracies) + 1)),\n",
    "    y=train_accuracies,\n",
    "    mode='lines+markers',\n",
    "    name='Train Accuracy',\n",
    "    line=dict(width=2, color='green'),\n",
    "    yaxis='y2'  # Use secondary y-axis for accuracy\n",
    "))\n",
    "\n",
    "# Add validation accuracy\n",
    "fig.add_trace(go.Scatter(\n",
    "    x=list(range(1, len(val_accuracies) + 1)),\n",
    "    y=val_accuracies,\n",
    "    mode='lines+markers',\n",
    "    name='Validation Accuracy',\n",
    "    line=dict(width=2, dash='dot', color='orange'),\n",
    "    yaxis='y2'  # Use secondary y-axis for accuracy\n",
    "))\n",
    "\n",
    "# Update layout with dual axes\n",
    "fig.update_layout(\n",
    "    title=\"Training and Validation Metrics\",\n",
    "    xaxis_title=\"Epoch\",\n",
    "    yaxis=dict(\n",
    "        title=\"Loss\",\n",
    "        titlefont=dict(color=\"blue\"),\n",
    "        tickfont=dict(color=\"blue\")\n",
    "    ),\n",
    "    yaxis2=dict(\n",
    "        title=\"Accuracy (%)\",\n",
    "        overlaying='y',\n",
    "        side='right',\n",
    "        titlefont=dict(color=\"green\"),\n",
    "        tickfont=dict(color=\"green\")\n",
    "    ),\n",
    "    legend=dict(x=0.5, y=1.15, orientation=\"h\"),\n",
    "    template=\"plotly_white\"\n",
    ")\n",
    "\n",
    "fig.show()\n"
   ]
  }
 ],
 "metadata": {
  "kernelspec": {
   "display_name": ".venv",
   "language": "python",
   "name": "python3"
  },
  "language_info": {
   "codemirror_mode": {
    "name": "ipython",
    "version": 3
   },
   "file_extension": ".py",
   "mimetype": "text/x-python",
   "name": "python",
   "nbconvert_exporter": "python",
   "pygments_lexer": "ipython3",
   "version": "3.9.20"
  }
 },
 "nbformat": 4,
 "nbformat_minor": 2
}
